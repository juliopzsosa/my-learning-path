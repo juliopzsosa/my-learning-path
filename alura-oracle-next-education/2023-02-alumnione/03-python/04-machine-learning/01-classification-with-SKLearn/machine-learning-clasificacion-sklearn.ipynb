{
 "cells": [
  {
   "cell_type": "markdown",
   "metadata": {
    "id": "SCz6lN8bUHRq"
   },
   "source": [
    "# **1. Introducción a la Clasificación**"
   ]
  },
  {
   "cell_type": "markdown",
   "metadata": {
    "id": "0SK0zlMYa8Xz"
   },
   "source": [
    "## Entrenamiento y prueba de un modelo de clasificación"
   ]
  },
  {
   "cell_type": "code",
   "execution_count": 1,
   "metadata": {
    "executionInfo": {
     "elapsed": 130,
     "status": "ok",
     "timestamp": 1704507989916,
     "user": {
      "displayName": "Julio Paz Sosa",
      "userId": "02292233226635378098"
     },
     "user_tz": 360
    },
    "id": "T1fGzTAxbCI6"
   },
   "outputs": [],
   "source": [
    "\"\"\" Features\n",
    "      1 = Sí\n",
    "      0 = No\n",
    "\n",
    "        - Tiene el pelo largo?\n",
    "        - Tiene las uñas afiladas?\n",
    "        - Hace miau?\n",
    "\"\"\"\n",
    "\n",
    "perro1 = [0,1,1]\n",
    "perro2 = [1,0,1]\n",
    "perro3 = [1,1,1]\n",
    "\n",
    "gato1 = [0,1,0]\n",
    "gato2 = [0,1,1]\n",
    "gato3 = [1,1,0]\n",
    "\n",
    "# Estandarización de nombres para entrenamiento\n",
    "x_train = [perro1, perro2, perro3, gato1, gato2, gato3]\n",
    "y_train = [1,1,1,0,0,0]"
   ]
  },
  {
   "cell_type": "code",
   "execution_count": 2,
   "metadata": {
    "colab": {
     "base_uri": "https://localhost:8080/",
     "height": 75
    },
    "executionInfo": {
     "elapsed": 189,
     "status": "ok",
     "timestamp": 1704507990249,
     "user": {
      "displayName": "Julio Paz Sosa",
      "userId": "02292233226635378098"
     },
     "user_tz": 360
    },
    "id": "0bdemYpPgbX9",
    "outputId": "089f416c-6323-4873-d8d9-9fe19efc4461"
   },
   "outputs": [
    {
     "data": {
      "text/html": [
       "<style>#sk-container-id-1 {color: black;}#sk-container-id-1 pre{padding: 0;}#sk-container-id-1 div.sk-toggleable {background-color: white;}#sk-container-id-1 label.sk-toggleable__label {cursor: pointer;display: block;width: 100%;margin-bottom: 0;padding: 0.3em;box-sizing: border-box;text-align: center;}#sk-container-id-1 label.sk-toggleable__label-arrow:before {content: \"▸\";float: left;margin-right: 0.25em;color: #696969;}#sk-container-id-1 label.sk-toggleable__label-arrow:hover:before {color: black;}#sk-container-id-1 div.sk-estimator:hover label.sk-toggleable__label-arrow:before {color: black;}#sk-container-id-1 div.sk-toggleable__content {max-height: 0;max-width: 0;overflow: hidden;text-align: left;background-color: #f0f8ff;}#sk-container-id-1 div.sk-toggleable__content pre {margin: 0.2em;color: black;border-radius: 0.25em;background-color: #f0f8ff;}#sk-container-id-1 input.sk-toggleable__control:checked~div.sk-toggleable__content {max-height: 200px;max-width: 100%;overflow: auto;}#sk-container-id-1 input.sk-toggleable__control:checked~label.sk-toggleable__label-arrow:before {content: \"▾\";}#sk-container-id-1 div.sk-estimator input.sk-toggleable__control:checked~label.sk-toggleable__label {background-color: #d4ebff;}#sk-container-id-1 div.sk-label input.sk-toggleable__control:checked~label.sk-toggleable__label {background-color: #d4ebff;}#sk-container-id-1 input.sk-hidden--visually {border: 0;clip: rect(1px 1px 1px 1px);clip: rect(1px, 1px, 1px, 1px);height: 1px;margin: -1px;overflow: hidden;padding: 0;position: absolute;width: 1px;}#sk-container-id-1 div.sk-estimator {font-family: monospace;background-color: #f0f8ff;border: 1px dotted black;border-radius: 0.25em;box-sizing: border-box;margin-bottom: 0.5em;}#sk-container-id-1 div.sk-estimator:hover {background-color: #d4ebff;}#sk-container-id-1 div.sk-parallel-item::after {content: \"\";width: 100%;border-bottom: 1px solid gray;flex-grow: 1;}#sk-container-id-1 div.sk-label:hover label.sk-toggleable__label {background-color: #d4ebff;}#sk-container-id-1 div.sk-serial::before {content: \"\";position: absolute;border-left: 1px solid gray;box-sizing: border-box;top: 0;bottom: 0;left: 50%;z-index: 0;}#sk-container-id-1 div.sk-serial {display: flex;flex-direction: column;align-items: center;background-color: white;padding-right: 0.2em;padding-left: 0.2em;position: relative;}#sk-container-id-1 div.sk-item {position: relative;z-index: 1;}#sk-container-id-1 div.sk-parallel {display: flex;align-items: stretch;justify-content: center;background-color: white;position: relative;}#sk-container-id-1 div.sk-item::before, #sk-container-id-1 div.sk-parallel-item::before {content: \"\";position: absolute;border-left: 1px solid gray;box-sizing: border-box;top: 0;bottom: 0;left: 50%;z-index: -1;}#sk-container-id-1 div.sk-parallel-item {display: flex;flex-direction: column;z-index: 1;position: relative;background-color: white;}#sk-container-id-1 div.sk-parallel-item:first-child::after {align-self: flex-end;width: 50%;}#sk-container-id-1 div.sk-parallel-item:last-child::after {align-self: flex-start;width: 50%;}#sk-container-id-1 div.sk-parallel-item:only-child::after {width: 0;}#sk-container-id-1 div.sk-dashed-wrapped {border: 1px dashed gray;margin: 0 0.4em 0.5em 0.4em;box-sizing: border-box;padding-bottom: 0.4em;background-color: white;}#sk-container-id-1 div.sk-label label {font-family: monospace;font-weight: bold;display: inline-block;line-height: 1.2em;}#sk-container-id-1 div.sk-label-container {text-align: center;}#sk-container-id-1 div.sk-container {/* jupyter's `normalize.less` sets `[hidden] { display: none; }` but bootstrap.min.css set `[hidden] { display: none !important; }` so we also need the `!important` here to be able to override the default hidden behavior on the sphinx rendered scikit-learn.org. See: https://github.com/scikit-learn/scikit-learn/issues/21755 */display: inline-block !important;position: relative;}#sk-container-id-1 div.sk-text-repr-fallback {display: none;}</style><div id=\"sk-container-id-1\" class=\"sk-top-container\"><div class=\"sk-text-repr-fallback\"><pre>LinearSVC(dual=&#x27;auto&#x27;)</pre><b>In a Jupyter environment, please rerun this cell to show the HTML representation or trust the notebook. <br />On GitHub, the HTML representation is unable to render, please try loading this page with nbviewer.org.</b></div><div class=\"sk-container\" hidden><div class=\"sk-item\"><div class=\"sk-estimator sk-toggleable\"><input class=\"sk-toggleable__control sk-hidden--visually\" id=\"sk-estimator-id-1\" type=\"checkbox\" checked><label for=\"sk-estimator-id-1\" class=\"sk-toggleable__label sk-toggleable__label-arrow\">LinearSVC</label><div class=\"sk-toggleable__content\"><pre>LinearSVC(dual=&#x27;auto&#x27;)</pre></div></div></div></div></div>"
      ],
      "text/plain": [
       "LinearSVC(dual='auto')"
      ]
     },
     "execution_count": 2,
     "metadata": {},
     "output_type": "execute_result"
    }
   ],
   "source": [
    "from sklearn.svm import LinearSVC\n",
    "\n",
    "model = LinearSVC(dual = 'auto')\n",
    "model.fit(x_train, y_train)"
   ]
  },
  {
   "cell_type": "code",
   "execution_count": 3,
   "metadata": {
    "colab": {
     "base_uri": "https://localhost:8080/"
    },
    "executionInfo": {
     "elapsed": 25,
     "status": "ok",
     "timestamp": 1704507990250,
     "user": {
      "displayName": "Julio Paz Sosa",
      "userId": "02292233226635378098"
     },
     "user_tz": 360
    },
    "id": "17hB6rJtr0-x",
    "outputId": "a8e35b6b-0808-492c-e56b-232848bfb1a1"
   },
   "outputs": [
    {
     "data": {
      "text/plain": [
       "array([1])"
      ]
     },
     "execution_count": 3,
     "metadata": {},
     "output_type": "execute_result"
    }
   ],
   "source": [
    "animal_misterioso = [1,1,1]\n",
    "model.predict([animal_misterioso])"
   ]
  },
  {
   "cell_type": "code",
   "execution_count": 4,
   "metadata": {
    "executionInfo": {
     "elapsed": 17,
     "status": "ok",
     "timestamp": 1704507990250,
     "user": {
      "displayName": "Julio Paz Sosa",
      "userId": "02292233226635378098"
     },
     "user_tz": 360
    },
    "id": "45Czt6ROsN3y"
   },
   "outputs": [],
   "source": [
    "misterio1 = [1,1,1]\n",
    "misterio2 = [1,1,0]\n",
    "misterio3 = [0,1,1]\n",
    "\n",
    "# Estandarización de nombres para entrenamiento\n",
    "x_test = [misterio1, misterio2, misterio3]\n",
    "y_test = [0,1,1]"
   ]
  },
  {
   "cell_type": "code",
   "execution_count": 5,
   "metadata": {
    "colab": {
     "base_uri": "https://localhost:8080/"
    },
    "executionInfo": {
     "elapsed": 17,
     "status": "ok",
     "timestamp": 1704507990251,
     "user": {
      "displayName": "Julio Paz Sosa",
      "userId": "02292233226635378098"
     },
     "user_tz": 360
    },
    "id": "Y_LtsQiQv79u",
    "outputId": "3cd4116d-0a56-48cb-a97d-3a3ff454c98d"
   },
   "outputs": [
    {
     "data": {
      "text/plain": [
       "array([1, 0, 1])"
      ]
     },
     "execution_count": 5,
     "metadata": {},
     "output_type": "execute_result"
    }
   ],
   "source": [
    "previsiones = model.predict(x_test)\n",
    "previsiones"
   ]
  },
  {
   "cell_type": "code",
   "execution_count": 6,
   "metadata": {
    "colab": {
     "base_uri": "https://localhost:8080/"
    },
    "executionInfo": {
     "elapsed": 15,
     "status": "ok",
     "timestamp": 1704507990251,
     "user": {
      "displayName": "Julio Paz Sosa",
      "userId": "02292233226635378098"
     },
     "user_tz": 360
    },
    "id": "Qvt0eh8Xxe05",
    "outputId": "c4c967ff-58ab-402a-e8b3-35b8d13a97d5"
   },
   "outputs": [
    {
     "name": "stdout",
     "output_type": "stream",
     "text": [
      "La tasa de acierto fue de: 33.33%\n"
     ]
    }
   ],
   "source": [
    "correctos = (previsiones==y_test).sum()\n",
    "total = len(x_test)\n",
    "tasa_de_acierto = correctos/total\n",
    "print(\"La tasa de acierto fue de: {}%\".format(round(tasa_de_acierto*100,2)))"
   ]
  },
  {
   "cell_type": "code",
   "execution_count": 7,
   "metadata": {
    "colab": {
     "base_uri": "https://localhost:8080/"
    },
    "executionInfo": {
     "elapsed": 12,
     "status": "ok",
     "timestamp": 1704507990251,
     "user": {
      "displayName": "Julio Paz Sosa",
      "userId": "02292233226635378098"
     },
     "user_tz": 360
    },
    "id": "3H1_aBdHyjmd",
    "outputId": "d9ed6a65-827d-4ab4-cf0b-d77395c35fe6"
   },
   "outputs": [
    {
     "name": "stdout",
     "output_type": "stream",
     "text": [
      "La tasa de acierto fue de: 33.33%\n"
     ]
    }
   ],
   "source": [
    "from sklearn.metrics import accuracy_score\n",
    "\n",
    "tasa_de_acierto = accuracy_score(y_test, previsiones)\n",
    "print(\"La tasa de acierto fue de: {}%\".format(round(tasa_de_acierto*100,2)))"
   ]
  },
  {
   "cell_type": "markdown",
   "metadata": {
    "id": "7-DUrJJUz92_"
   },
   "source": [
    "# **2. Lectura y manipulación de datos**"
   ]
  },
  {
   "cell_type": "code",
   "execution_count": 8,
   "metadata": {
    "colab": {
     "base_uri": "https://localhost:8080/",
     "height": 206
    },
    "executionInfo": {
     "elapsed": 635,
     "status": "ok",
     "timestamp": 1704507990877,
     "user": {
      "displayName": "Julio Paz Sosa",
      "userId": "02292233226635378098"
     },
     "user_tz": 360
    },
    "id": "90QNe1kr-5Us",
    "outputId": "9ab48c7a-6256-4eff-c05e-e0687928592f"
   },
   "outputs": [
    {
     "data": {
      "text/html": [
       "<div>\n",
       "<style scoped>\n",
       "    .dataframe tbody tr th:only-of-type {\n",
       "        vertical-align: middle;\n",
       "    }\n",
       "\n",
       "    .dataframe tbody tr th {\n",
       "        vertical-align: top;\n",
       "    }\n",
       "\n",
       "    .dataframe thead th {\n",
       "        text-align: right;\n",
       "    }\n",
       "</style>\n",
       "<table border=\"1\" class=\"dataframe\">\n",
       "  <thead>\n",
       "    <tr style=\"text-align: right;\">\n",
       "      <th></th>\n",
       "      <th>home</th>\n",
       "      <th>how_it_works</th>\n",
       "      <th>contact</th>\n",
       "      <th>bought</th>\n",
       "    </tr>\n",
       "  </thead>\n",
       "  <tbody>\n",
       "    <tr>\n",
       "      <th>95</th>\n",
       "      <td>1</td>\n",
       "      <td>1</td>\n",
       "      <td>1</td>\n",
       "      <td>1</td>\n",
       "    </tr>\n",
       "    <tr>\n",
       "      <th>62</th>\n",
       "      <td>0</td>\n",
       "      <td>0</td>\n",
       "      <td>1</td>\n",
       "      <td>0</td>\n",
       "    </tr>\n",
       "    <tr>\n",
       "      <th>11</th>\n",
       "      <td>1</td>\n",
       "      <td>0</td>\n",
       "      <td>1</td>\n",
       "      <td>1</td>\n",
       "    </tr>\n",
       "    <tr>\n",
       "      <th>72</th>\n",
       "      <td>0</td>\n",
       "      <td>0</td>\n",
       "      <td>1</td>\n",
       "      <td>0</td>\n",
       "    </tr>\n",
       "    <tr>\n",
       "      <th>9</th>\n",
       "      <td>1</td>\n",
       "      <td>0</td>\n",
       "      <td>1</td>\n",
       "      <td>1</td>\n",
       "    </tr>\n",
       "  </tbody>\n",
       "</table>\n",
       "</div>"
      ],
      "text/plain": [
       "    home  how_it_works  contact  bought\n",
       "95     1             1        1       1\n",
       "62     0             0        1       0\n",
       "11     1             0        1       1\n",
       "72     0             0        1       0\n",
       "9      1             0        1       1"
      ]
     },
     "execution_count": 8,
     "metadata": {},
     "output_type": "execute_result"
    }
   ],
   "source": [
    "import pandas as pd\n",
    "\n",
    "uri = 'https://gist.githubusercontent.com/ahcamachod/38673f75b54ec62ffc290eff8e7c716e/raw/6eaa07e199d9f668bf94a034cb84dac58c82fa4f/tracking.csv'\n",
    "datos = pd.read_csv(uri)\n",
    "datos.sample(5)"
   ]
  },
  {
   "cell_type": "code",
   "execution_count": 9,
   "metadata": {
    "colab": {
     "base_uri": "https://localhost:8080/",
     "height": 143
    },
    "executionInfo": {
     "elapsed": 26,
     "status": "ok",
     "timestamp": 1704507990878,
     "user": {
      "displayName": "Julio Paz Sosa",
      "userId": "02292233226635378098"
     },
     "user_tz": 360
    },
    "id": "bru6lwRQ_zy0",
    "outputId": "aa04bd14-0965-42a8-a2a8-1b3c5be2da35"
   },
   "outputs": [
    {
     "data": {
      "text/html": [
       "<div>\n",
       "<style scoped>\n",
       "    .dataframe tbody tr th:only-of-type {\n",
       "        vertical-align: middle;\n",
       "    }\n",
       "\n",
       "    .dataframe tbody tr th {\n",
       "        vertical-align: top;\n",
       "    }\n",
       "\n",
       "    .dataframe thead th {\n",
       "        text-align: right;\n",
       "    }\n",
       "</style>\n",
       "<table border=\"1\" class=\"dataframe\">\n",
       "  <thead>\n",
       "    <tr style=\"text-align: right;\">\n",
       "      <th></th>\n",
       "      <th>principal</th>\n",
       "      <th>como_funciona</th>\n",
       "      <th>contacto</th>\n",
       "      <th>compro</th>\n",
       "    </tr>\n",
       "  </thead>\n",
       "  <tbody>\n",
       "    <tr>\n",
       "      <th>66</th>\n",
       "      <td>0</td>\n",
       "      <td>0</td>\n",
       "      <td>1</td>\n",
       "      <td>0</td>\n",
       "    </tr>\n",
       "    <tr>\n",
       "      <th>4</th>\n",
       "      <td>1</td>\n",
       "      <td>1</td>\n",
       "      <td>0</td>\n",
       "      <td>0</td>\n",
       "    </tr>\n",
       "    <tr>\n",
       "      <th>16</th>\n",
       "      <td>0</td>\n",
       "      <td>0</td>\n",
       "      <td>1</td>\n",
       "      <td>0</td>\n",
       "    </tr>\n",
       "  </tbody>\n",
       "</table>\n",
       "</div>"
      ],
      "text/plain": [
       "    principal  como_funciona  contacto  compro\n",
       "66          0              0         1       0\n",
       "4           1              1         0       0\n",
       "16          0              0         1       0"
      ]
     },
     "execution_count": 9,
     "metadata": {},
     "output_type": "execute_result"
    }
   ],
   "source": [
    "mapa = {\n",
    "          'home':'principal',\n",
    "          'how_it_works':'como_funciona',\n",
    "          'contact':'contacto',\n",
    "          'bought':'compro'\n",
    "        }\n",
    "\n",
    "datos = datos.rename(columns = mapa)\n",
    "\n",
    "datos.sample(3)"
   ]
  },
  {
   "cell_type": "code",
   "execution_count": 10,
   "metadata": {
    "colab": {
     "base_uri": "https://localhost:8080/",
     "height": 206
    },
    "executionInfo": {
     "elapsed": 22,
     "status": "ok",
     "timestamp": 1704507990879,
     "user": {
      "displayName": "Julio Paz Sosa",
      "userId": "02292233226635378098"
     },
     "user_tz": 360
    },
    "id": "CEnLtYDNAdqX",
    "outputId": "280253ff-eac5-4591-c9e2-a4f44f00c4ea"
   },
   "outputs": [
    {
     "data": {
      "text/html": [
       "<div>\n",
       "<style scoped>\n",
       "    .dataframe tbody tr th:only-of-type {\n",
       "        vertical-align: middle;\n",
       "    }\n",
       "\n",
       "    .dataframe tbody tr th {\n",
       "        vertical-align: top;\n",
       "    }\n",
       "\n",
       "    .dataframe thead th {\n",
       "        text-align: right;\n",
       "    }\n",
       "</style>\n",
       "<table border=\"1\" class=\"dataframe\">\n",
       "  <thead>\n",
       "    <tr style=\"text-align: right;\">\n",
       "      <th></th>\n",
       "      <th>principal</th>\n",
       "      <th>como_funciona</th>\n",
       "      <th>contacto</th>\n",
       "    </tr>\n",
       "  </thead>\n",
       "  <tbody>\n",
       "    <tr>\n",
       "      <th>0</th>\n",
       "      <td>1</td>\n",
       "      <td>1</td>\n",
       "      <td>0</td>\n",
       "    </tr>\n",
       "    <tr>\n",
       "      <th>1</th>\n",
       "      <td>1</td>\n",
       "      <td>1</td>\n",
       "      <td>0</td>\n",
       "    </tr>\n",
       "    <tr>\n",
       "      <th>2</th>\n",
       "      <td>1</td>\n",
       "      <td>1</td>\n",
       "      <td>0</td>\n",
       "    </tr>\n",
       "    <tr>\n",
       "      <th>3</th>\n",
       "      <td>1</td>\n",
       "      <td>1</td>\n",
       "      <td>0</td>\n",
       "    </tr>\n",
       "    <tr>\n",
       "      <th>4</th>\n",
       "      <td>1</td>\n",
       "      <td>1</td>\n",
       "      <td>0</td>\n",
       "    </tr>\n",
       "  </tbody>\n",
       "</table>\n",
       "</div>"
      ],
      "text/plain": [
       "   principal  como_funciona  contacto\n",
       "0          1              1         0\n",
       "1          1              1         0\n",
       "2          1              1         0\n",
       "3          1              1         0\n",
       "4          1              1         0"
      ]
     },
     "execution_count": 10,
     "metadata": {},
     "output_type": "execute_result"
    }
   ],
   "source": [
    "x = datos [['principal', 'como_funciona', 'contacto']]\n",
    "x.head()"
   ]
  },
  {
   "cell_type": "code",
   "execution_count": 11,
   "metadata": {
    "colab": {
     "base_uri": "https://localhost:8080/"
    },
    "executionInfo": {
     "elapsed": 19,
     "status": "ok",
     "timestamp": 1704507990879,
     "user": {
      "displayName": "Julio Paz Sosa",
      "userId": "02292233226635378098"
     },
     "user_tz": 360
    },
    "id": "EHnT8GC0Am16",
    "outputId": "b2dcd898-6d5e-45fb-d781-143681d1b857"
   },
   "outputs": [
    {
     "data": {
      "text/plain": [
       "0    0\n",
       "1    0\n",
       "2    0\n",
       "3    0\n",
       "4    0\n",
       "Name: compro, dtype: int64"
      ]
     },
     "execution_count": 11,
     "metadata": {},
     "output_type": "execute_result"
    }
   ],
   "source": [
    "y = datos.compro\n",
    "y.head()"
   ]
  },
  {
   "cell_type": "code",
   "execution_count": 12,
   "metadata": {
    "colab": {
     "base_uri": "https://localhost:8080/"
    },
    "executionInfo": {
     "elapsed": 238,
     "status": "ok",
     "timestamp": 1704507991103,
     "user": {
      "displayName": "Julio Paz Sosa",
      "userId": "02292233226635378098"
     },
     "user_tz": 360
    },
    "id": "hQbPz1WeAszN",
    "outputId": "d11edfd9-adec-40b1-defc-f170f38a1f31"
   },
   "outputs": [
    {
     "data": {
      "text/plain": [
       "(99, 4)"
      ]
     },
     "execution_count": 12,
     "metadata": {},
     "output_type": "execute_result"
    }
   ],
   "source": [
    "datos.shape"
   ]
  },
  {
   "cell_type": "code",
   "execution_count": 13,
   "metadata": {
    "colab": {
     "base_uri": "https://localhost:8080/"
    },
    "executionInfo": {
     "elapsed": 46,
     "status": "ok",
     "timestamp": 1704507991104,
     "user": {
      "displayName": "Julio Paz Sosa",
      "userId": "02292233226635378098"
     },
     "user_tz": 360
    },
    "id": "YrLoPGdnAx4D",
    "outputId": "205b7b26-3323-4c63-e962-d6914b9ff9ff"
   },
   "outputs": [
    {
     "name": "stdout",
     "output_type": "stream",
     "text": [
      "Entrenaremos con 75 elementos y probaremos con 24 elementos\n"
     ]
    }
   ],
   "source": [
    "x_train = x[:75]\n",
    "y_train = y[:75]\n",
    "\n",
    "x_test = x[75:]\n",
    "y_test = y[75:]\n",
    "\n",
    "print('Entrenaremos con {} elementos y probaremos con {} elementos'.format((len(x_train)),(len(x_test))))"
   ]
  },
  {
   "cell_type": "code",
   "execution_count": 14,
   "metadata": {
    "colab": {
     "base_uri": "https://localhost:8080/"
    },
    "executionInfo": {
     "elapsed": 42,
     "status": "ok",
     "timestamp": 1704507991104,
     "user": {
      "displayName": "Julio Paz Sosa",
      "userId": "02292233226635378098"
     },
     "user_tz": 360
    },
    "id": "9TguYGF5EZex",
    "outputId": "48d578de-f066-4dca-c998-f10fda17e1d6"
   },
   "outputs": [
    {
     "data": {
      "text/plain": [
       "compro\n",
       "0    48\n",
       "1    27\n",
       "Name: count, dtype: int64"
      ]
     },
     "execution_count": 14,
     "metadata": {},
     "output_type": "execute_result"
    }
   ],
   "source": [
    "y_train.value_counts()"
   ]
  },
  {
   "cell_type": "code",
   "execution_count": 15,
   "metadata": {
    "colab": {
     "base_uri": "https://localhost:8080/"
    },
    "executionInfo": {
     "elapsed": 38,
     "status": "ok",
     "timestamp": 1704507991105,
     "user": {
      "displayName": "Julio Paz Sosa",
      "userId": "02292233226635378098"
     },
     "user_tz": 360
    },
    "id": "05NhsVrxKawN",
    "outputId": "66306947-2953-431d-93c2-6fa44684d2ff"
   },
   "outputs": [
    {
     "data": {
      "text/plain": [
       "0.36"
      ]
     },
     "execution_count": 15,
     "metadata": {},
     "output_type": "execute_result"
    }
   ],
   "source": [
    "27/75"
   ]
  },
  {
   "cell_type": "code",
   "execution_count": 16,
   "metadata": {
    "colab": {
     "base_uri": "https://localhost:8080/"
    },
    "executionInfo": {
     "elapsed": 34,
     "status": "ok",
     "timestamp": 1704507991105,
     "user": {
      "displayName": "Julio Paz Sosa",
      "userId": "02292233226635378098"
     },
     "user_tz": 360
    },
    "id": "MncFQ4UGEe8w",
    "outputId": "3e92cc16-c70a-4122-9cd7-26a548f50fee"
   },
   "outputs": [
    {
     "data": {
      "text/plain": [
       "compro\n",
       "0    18\n",
       "1     6\n",
       "Name: count, dtype: int64"
      ]
     },
     "execution_count": 16,
     "metadata": {},
     "output_type": "execute_result"
    }
   ],
   "source": [
    "y_test.value_counts()"
   ]
  },
  {
   "cell_type": "code",
   "execution_count": 17,
   "metadata": {
    "colab": {
     "base_uri": "https://localhost:8080/"
    },
    "executionInfo": {
     "elapsed": 31,
     "status": "ok",
     "timestamp": 1704507991106,
     "user": {
      "displayName": "Julio Paz Sosa",
      "userId": "02292233226635378098"
     },
     "user_tz": 360
    },
    "id": "RITkpOU7KjuV",
    "outputId": "a59e68f1-eaf5-4dc9-879e-89952961b08f"
   },
   "outputs": [
    {
     "data": {
      "text/plain": [
       "0.25"
      ]
     },
     "execution_count": 17,
     "metadata": {},
     "output_type": "execute_result"
    }
   ],
   "source": [
    "6/24"
   ]
  },
  {
   "cell_type": "code",
   "execution_count": 18,
   "metadata": {
    "colab": {
     "base_uri": "https://localhost:8080/"
    },
    "executionInfo": {
     "elapsed": 26,
     "status": "ok",
     "timestamp": 1704507991106,
     "user": {
      "displayName": "Julio Paz Sosa",
      "userId": "02292233226635378098"
     },
     "user_tz": 360
    },
    "id": "WouDZY8uCMXi",
    "outputId": "e87b9572-20ff-4772-cd70-98dcbd5217d7"
   },
   "outputs": [
    {
     "name": "stdout",
     "output_type": "stream",
     "text": [
      "La tasa de acierto fue de: 95.83%\n"
     ]
    }
   ],
   "source": [
    "model = LinearSVC(dual = 'auto')\n",
    "model.fit(x_train, y_train)\n",
    "\n",
    "previsiones = model.predict(x_test)\n",
    "\n",
    "tasa_de_acierto = accuracy_score(y_test, previsiones)\n",
    "print(\"La tasa de acierto fue de: {}%\".format(round(tasa_de_acierto*100,2)))"
   ]
  },
  {
   "cell_type": "code",
   "execution_count": 19,
   "metadata": {
    "colab": {
     "base_uri": "https://localhost:8080/"
    },
    "executionInfo": {
     "elapsed": 20,
     "status": "ok",
     "timestamp": 1704507991106,
     "user": {
      "displayName": "Julio Paz Sosa",
      "userId": "02292233226635378098"
     },
     "user_tz": 360
    },
    "id": "nDRcStTgCwm6",
    "outputId": "9d0de17c-a2bb-4afc-9950-435caa1af261"
   },
   "outputs": [
    {
     "name": "stdout",
     "output_type": "stream",
     "text": [
      "La tasa de acierto fue de: 96.0%\n"
     ]
    }
   ],
   "source": [
    "from sklearn.model_selection import train_test_split\n",
    "\n",
    "SEED = 42\n",
    "x_train, x_test, y_train, y_test = train_test_split(x, y, test_size = 0.25, random_state = SEED)\n",
    "\n",
    "model = LinearSVC(dual = 'auto')\n",
    "model.fit(x_train, y_train)\n",
    "previsiones = model.predict(x_test)\n",
    "\n",
    "tasa_de_acierto = accuracy_score(y_test, previsiones)\n",
    "print(\"La tasa de acierto fue de: {}%\".format(round(tasa_de_acierto*100,2)))"
   ]
  },
  {
   "cell_type": "code",
   "execution_count": 20,
   "metadata": {
    "colab": {
     "base_uri": "https://localhost:8080/"
    },
    "executionInfo": {
     "elapsed": 166,
     "status": "ok",
     "timestamp": 1704507991256,
     "user": {
      "displayName": "Julio Paz Sosa",
      "userId": "02292233226635378098"
     },
     "user_tz": 360
    },
    "id": "ZynhlwA9LvOf",
    "outputId": "08edfae2-66dd-47e2-a8f7-4671e6f1b75f"
   },
   "outputs": [
    {
     "name": "stdout",
     "output_type": "stream",
     "text": [
      "La tasa de acierto fue de: 96.0%\n"
     ]
    }
   ],
   "source": [
    "SEED = 42\n",
    "x_train, x_test, y_train, y_test = train_test_split(x, y, test_size = 0.25, random_state = SEED, stratify = y)\n",
    "\n",
    "model = LinearSVC(dual = 'auto')\n",
    "model.fit(x_train, y_train)\n",
    "previsiones = model.predict(x_test)\n",
    "\n",
    "tasa_de_acierto = accuracy_score(y_test, previsiones)\n",
    "print(\"La tasa de acierto fue de: {}%\".format(round(tasa_de_acierto*100,2)))"
   ]
  },
  {
   "cell_type": "code",
   "execution_count": 21,
   "metadata": {
    "colab": {
     "base_uri": "https://localhost:8080/"
    },
    "executionInfo": {
     "elapsed": 20,
     "status": "ok",
     "timestamp": 1704507991256,
     "user": {
      "displayName": "Julio Paz Sosa",
      "userId": "02292233226635378098"
     },
     "user_tz": 360
    },
    "id": "gUxJKfhqL369",
    "outputId": "09eb32d3-521f-4008-acc5-75a3f811055f"
   },
   "outputs": [
    {
     "data": {
      "text/plain": [
       "compro\n",
       "0    49\n",
       "1    25\n",
       "Name: count, dtype: int64"
      ]
     },
     "execution_count": 21,
     "metadata": {},
     "output_type": "execute_result"
    }
   ],
   "source": [
    "y_train.value_counts()"
   ]
  },
  {
   "cell_type": "code",
   "execution_count": 22,
   "metadata": {
    "colab": {
     "base_uri": "https://localhost:8080/"
    },
    "executionInfo": {
     "elapsed": 19,
     "status": "ok",
     "timestamp": 1704507991257,
     "user": {
      "displayName": "Julio Paz Sosa",
      "userId": "02292233226635378098"
     },
     "user_tz": 360
    },
    "id": "NvSFqqr9L6z1",
    "outputId": "6812c12a-eee1-4c0c-898d-ffa5f3921dbe"
   },
   "outputs": [
    {
     "data": {
      "text/plain": [
       "0.33783783783783783"
      ]
     },
     "execution_count": 22,
     "metadata": {},
     "output_type": "execute_result"
    }
   ],
   "source": [
    "25/74"
   ]
  },
  {
   "cell_type": "code",
   "execution_count": 23,
   "metadata": {
    "colab": {
     "base_uri": "https://localhost:8080/"
    },
    "executionInfo": {
     "elapsed": 18,
     "status": "ok",
     "timestamp": 1704507991258,
     "user": {
      "displayName": "Julio Paz Sosa",
      "userId": "02292233226635378098"
     },
     "user_tz": 360
    },
    "id": "M4qm7lBIMAu-",
    "outputId": "a826b77d-2312-429e-8c7e-9181526dd93a"
   },
   "outputs": [
    {
     "data": {
      "text/plain": [
       "compro\n",
       "0    17\n",
       "1     8\n",
       "Name: count, dtype: int64"
      ]
     },
     "execution_count": 23,
     "metadata": {},
     "output_type": "execute_result"
    }
   ],
   "source": [
    "y_test.value_counts()"
   ]
  },
  {
   "cell_type": "code",
   "execution_count": 24,
   "metadata": {
    "colab": {
     "base_uri": "https://localhost:8080/"
    },
    "executionInfo": {
     "elapsed": 16,
     "status": "ok",
     "timestamp": 1704507991259,
     "user": {
      "displayName": "Julio Paz Sosa",
      "userId": "02292233226635378098"
     },
     "user_tz": 360
    },
    "id": "n2Fdxcp1MDSX",
    "outputId": "10c6c9ad-0d1e-4bac-a974-ae042c1759b0"
   },
   "outputs": [
    {
     "data": {
      "text/plain": [
       "0.32"
      ]
     },
     "execution_count": 24,
     "metadata": {},
     "output_type": "execute_result"
    }
   ],
   "source": [
    "8/25"
   ]
  },
  {
   "cell_type": "markdown",
   "metadata": {
    "id": "H-iogKWkMfn0"
   },
   "source": [
    "# **3. Modelo baseline**"
   ]
  },
  {
   "cell_type": "code",
   "execution_count": 25,
   "metadata": {
    "colab": {
     "base_uri": "https://localhost:8080/",
     "height": 206
    },
    "executionInfo": {
     "elapsed": 13,
     "status": "ok",
     "timestamp": 1704507991259,
     "user": {
      "displayName": "Julio Paz Sosa",
      "userId": "02292233226635378098"
     },
     "user_tz": 360
    },
    "id": "Hb4M74bRMjZO",
    "outputId": "f9b7d996-3449-4982-e78f-09d2d74573c8"
   },
   "outputs": [
    {
     "data": {
      "text/html": [
       "<div>\n",
       "<style scoped>\n",
       "    .dataframe tbody tr th:only-of-type {\n",
       "        vertical-align: middle;\n",
       "    }\n",
       "\n",
       "    .dataframe tbody tr th {\n",
       "        vertical-align: top;\n",
       "    }\n",
       "\n",
       "    .dataframe thead th {\n",
       "        text-align: right;\n",
       "    }\n",
       "</style>\n",
       "<table border=\"1\" class=\"dataframe\">\n",
       "  <thead>\n",
       "    <tr style=\"text-align: right;\">\n",
       "      <th></th>\n",
       "      <th>unfinished</th>\n",
       "      <th>expected_hours</th>\n",
       "      <th>price</th>\n",
       "    </tr>\n",
       "  </thead>\n",
       "  <tbody>\n",
       "    <tr>\n",
       "      <th>703</th>\n",
       "      <td>0</td>\n",
       "      <td>62</td>\n",
       "      <td>618</td>\n",
       "    </tr>\n",
       "    <tr>\n",
       "      <th>1827</th>\n",
       "      <td>0</td>\n",
       "      <td>51</td>\n",
       "      <td>1089</td>\n",
       "    </tr>\n",
       "    <tr>\n",
       "      <th>361</th>\n",
       "      <td>1</td>\n",
       "      <td>81</td>\n",
       "      <td>6958</td>\n",
       "    </tr>\n",
       "    <tr>\n",
       "      <th>1312</th>\n",
       "      <td>0</td>\n",
       "      <td>54</td>\n",
       "      <td>1665</td>\n",
       "    </tr>\n",
       "    <tr>\n",
       "      <th>638</th>\n",
       "      <td>0</td>\n",
       "      <td>49</td>\n",
       "      <td>326</td>\n",
       "    </tr>\n",
       "  </tbody>\n",
       "</table>\n",
       "</div>"
      ],
      "text/plain": [
       "      unfinished  expected_hours  price\n",
       "703            0              62    618\n",
       "1827           0              51   1089\n",
       "361            1              81   6958\n",
       "1312           0              54   1665\n",
       "638            0              49    326"
      ]
     },
     "execution_count": 25,
     "metadata": {},
     "output_type": "execute_result"
    }
   ],
   "source": [
    "uri = 'https://gist.githubusercontent.com/ahcamachod/7c55640f0d65bcbd31bb986bb599180c/raw/1b616e97a8719b3ff245fcdd68eaebdb8da38082/projects.csv'\n",
    "datos = pd.read_csv(uri)\n",
    "datos.sample(5)"
   ]
  },
  {
   "cell_type": "code",
   "execution_count": 26,
   "metadata": {
    "colab": {
     "base_uri": "https://localhost:8080/",
     "height": 206
    },
    "executionInfo": {
     "elapsed": 201,
     "status": "ok",
     "timestamp": 1704507991449,
     "user": {
      "displayName": "Julio Paz Sosa",
      "userId": "02292233226635378098"
     },
     "user_tz": 360
    },
    "id": "gUf86QHkOE1B",
    "outputId": "b9a2997d-6147-4830-a4db-a25cad13d37b"
   },
   "outputs": [
    {
     "data": {
      "text/html": [
       "<div>\n",
       "<style scoped>\n",
       "    .dataframe tbody tr th:only-of-type {\n",
       "        vertical-align: middle;\n",
       "    }\n",
       "\n",
       "    .dataframe tbody tr th {\n",
       "        vertical-align: top;\n",
       "    }\n",
       "\n",
       "    .dataframe thead th {\n",
       "        text-align: right;\n",
       "    }\n",
       "</style>\n",
       "<table border=\"1\" class=\"dataframe\">\n",
       "  <thead>\n",
       "    <tr style=\"text-align: right;\">\n",
       "      <th></th>\n",
       "      <th>inconcluso</th>\n",
       "      <th>horas_esperadas</th>\n",
       "      <th>precio</th>\n",
       "    </tr>\n",
       "  </thead>\n",
       "  <tbody>\n",
       "    <tr>\n",
       "      <th>1631</th>\n",
       "      <td>0</td>\n",
       "      <td>86</td>\n",
       "      <td>10638</td>\n",
       "    </tr>\n",
       "    <tr>\n",
       "      <th>1396</th>\n",
       "      <td>0</td>\n",
       "      <td>44</td>\n",
       "      <td>695</td>\n",
       "    </tr>\n",
       "    <tr>\n",
       "      <th>1397</th>\n",
       "      <td>0</td>\n",
       "      <td>8</td>\n",
       "      <td>292</td>\n",
       "    </tr>\n",
       "    <tr>\n",
       "      <th>1991</th>\n",
       "      <td>0</td>\n",
       "      <td>52</td>\n",
       "      <td>1379</td>\n",
       "    </tr>\n",
       "    <tr>\n",
       "      <th>158</th>\n",
       "      <td>1</td>\n",
       "      <td>1</td>\n",
       "      <td>196</td>\n",
       "    </tr>\n",
       "  </tbody>\n",
       "</table>\n",
       "</div>"
      ],
      "text/plain": [
       "      inconcluso  horas_esperadas  precio\n",
       "1631           0               86   10638\n",
       "1396           0               44     695\n",
       "1397           0                8     292\n",
       "1991           0               52    1379\n",
       "158            1                1     196"
      ]
     },
     "execution_count": 26,
     "metadata": {},
     "output_type": "execute_result"
    }
   ],
   "source": [
    "mapa = {\n",
    "        'unfinished':'inconcluso',\n",
    "        'expected_hours':'horas_esperadas',\n",
    "        'price':'precio'\n",
    "        }\n",
    "\n",
    "datos = datos.rename(columns = mapa)\n",
    "\n",
    "datos.sample(5)"
   ]
  },
  {
   "cell_type": "code",
   "execution_count": 27,
   "metadata": {
    "executionInfo": {
     "elapsed": 18,
     "status": "ok",
     "timestamp": 1704507991450,
     "user": {
      "displayName": "Julio Paz Sosa",
      "userId": "02292233226635378098"
     },
     "user_tz": 360
    },
    "id": "_nnaqdHIP5ZN"
   },
   "outputs": [],
   "source": [
    "cambio = {1:0, 0:1}\n",
    "\n",
    "datos['finalizado'] = datos.inconcluso.map(cambio)"
   ]
  },
  {
   "cell_type": "code",
   "execution_count": 28,
   "metadata": {
    "colab": {
     "base_uri": "https://localhost:8080/",
     "height": 206
    },
    "executionInfo": {
     "elapsed": 17,
     "status": "ok",
     "timestamp": 1704507991450,
     "user": {
      "displayName": "Julio Paz Sosa",
      "userId": "02292233226635378098"
     },
     "user_tz": 360
    },
    "id": "Syu3XPfvQUNg",
    "outputId": "e9aa8e78-fe74-4f5f-cd7f-24137e56ecda"
   },
   "outputs": [
    {
     "data": {
      "text/html": [
       "<div>\n",
       "<style scoped>\n",
       "    .dataframe tbody tr th:only-of-type {\n",
       "        vertical-align: middle;\n",
       "    }\n",
       "\n",
       "    .dataframe tbody tr th {\n",
       "        vertical-align: top;\n",
       "    }\n",
       "\n",
       "    .dataframe thead th {\n",
       "        text-align: right;\n",
       "    }\n",
       "</style>\n",
       "<table border=\"1\" class=\"dataframe\">\n",
       "  <thead>\n",
       "    <tr style=\"text-align: right;\">\n",
       "      <th></th>\n",
       "      <th>inconcluso</th>\n",
       "      <th>horas_esperadas</th>\n",
       "      <th>precio</th>\n",
       "      <th>finalizado</th>\n",
       "    </tr>\n",
       "  </thead>\n",
       "  <tbody>\n",
       "    <tr>\n",
       "      <th>1870</th>\n",
       "      <td>0</td>\n",
       "      <td>33</td>\n",
       "      <td>400</td>\n",
       "      <td>1</td>\n",
       "    </tr>\n",
       "    <tr>\n",
       "      <th>1301</th>\n",
       "      <td>0</td>\n",
       "      <td>74</td>\n",
       "      <td>6495</td>\n",
       "      <td>1</td>\n",
       "    </tr>\n",
       "    <tr>\n",
       "      <th>305</th>\n",
       "      <td>0</td>\n",
       "      <td>61</td>\n",
       "      <td>695</td>\n",
       "      <td>1</td>\n",
       "    </tr>\n",
       "    <tr>\n",
       "      <th>387</th>\n",
       "      <td>1</td>\n",
       "      <td>31</td>\n",
       "      <td>154</td>\n",
       "      <td>0</td>\n",
       "    </tr>\n",
       "    <tr>\n",
       "      <th>972</th>\n",
       "      <td>1</td>\n",
       "      <td>63</td>\n",
       "      <td>1440</td>\n",
       "      <td>0</td>\n",
       "    </tr>\n",
       "  </tbody>\n",
       "</table>\n",
       "</div>"
      ],
      "text/plain": [
       "      inconcluso  horas_esperadas  precio  finalizado\n",
       "1870           0               33     400           1\n",
       "1301           0               74    6495           1\n",
       "305            0               61     695           1\n",
       "387            1               31     154           0\n",
       "972            1               63    1440           0"
      ]
     },
     "execution_count": 28,
     "metadata": {},
     "output_type": "execute_result"
    }
   ],
   "source": [
    "datos.sample(5)"
   ]
  },
  {
   "cell_type": "code",
   "execution_count": 29,
   "metadata": {
    "colab": {
     "base_uri": "https://localhost:8080/",
     "height": 450
    },
    "executionInfo": {
     "elapsed": 585,
     "status": "ok",
     "timestamp": 1704507992021,
     "user": {
      "displayName": "Julio Paz Sosa",
      "userId": "02292233226635378098"
     },
     "user_tz": 360
    },
    "id": "8nRAYnODQZr0",
    "outputId": "b7434edb-be36-41d2-e378-19177321edad"
   },
   "outputs": [
    {
     "data": {
      "image/png": "[encoded data removed]",
      "text/plain": [
       "<Figure size 640x480 with 1 Axes>"
      ]
     },
     "metadata": {},
     "output_type": "display_data"
    }
   ],
   "source": [
    "import seaborn as sns\n",
    "\n",
    "sns.scatterplot(x = 'horas_esperadas', y = 'precio', data = datos);"
   ]
  },
  {
   "cell_type": "code",
   "execution_count": 30,
   "metadata": {
    "colab": {
     "base_uri": "https://localhost:8080/",
     "height": 450
    },
    "executionInfo": {
     "elapsed": 591,
     "status": "ok",
     "timestamp": 1704507992604,
     "user": {
      "displayName": "Julio Paz Sosa",
      "userId": "02292233226635378098"
     },
     "user_tz": 360
    },
    "id": "6QKcWtilRmSd",
    "outputId": "1194f720-7b8a-49cd-c2d5-a699bc41f3ea"
   },
   "outputs": [
    {
     "data": {
      "image/png": "[encoded data removed]",
      "text/plain": [
       "<Figure size 640x480 with 1 Axes>"
      ]
     },
     "metadata": {},
     "output_type": "display_data"
    }
   ],
   "source": [
    "sns.scatterplot(x = 'horas_esperadas', y = 'precio', data = datos, hue = 'finalizado');"
   ]
  },
  {
   "cell_type": "code",
   "execution_count": 31,
   "metadata": {
    "colab": {
     "base_uri": "https://localhost:8080/",
     "height": 507
    },
    "executionInfo": {
     "elapsed": 1193,
     "status": "ok",
     "timestamp": 1704507993790,
     "user": {
      "displayName": "Julio Paz Sosa",
      "userId": "02292233226635378098"
     },
     "user_tz": 360
    },
    "id": "RoG6F7K4SKHT",
    "outputId": "6fb5028b-c6e3-4383-cb93-5a814bd181c7"
   },
   "outputs": [
    {
     "data": {
      "image/png": "[encoded data removed]",
      "text/plain": [
       "<Figure size 1078.49x500 with 2 Axes>"
      ]
     },
     "metadata": {},
     "output_type": "display_data"
    }
   ],
   "source": [
    "sns.relplot(x = 'horas_esperadas', y = 'precio', data = datos, hue = 'finalizado', col = 'finalizado');"
   ]
  },
  {
   "cell_type": "code",
   "execution_count": 32,
   "metadata": {
    "colab": {
     "base_uri": "https://localhost:8080/"
    },
    "executionInfo": {
     "elapsed": 24,
     "status": "ok",
     "timestamp": 1704507993791,
     "user": {
      "displayName": "Julio Paz Sosa",
      "userId": "02292233226635378098"
     },
     "user_tz": 360
    },
    "id": "Xkc1LI7bShHF",
    "outputId": "ec7e1661-49e2-40cd-b602-f6f7ca0d198f"
   },
   "outputs": [
    {
     "name": "stdout",
     "output_type": "stream",
     "text": [
      "Entrenaremos con 1617 elementos y probaremos con 540 elementos\n",
      "La tasa de acierto fue de: 57.78%\n"
     ]
    }
   ],
   "source": [
    "import numpy as np\n",
    "\n",
    "x = datos[['horas_esperadas','precio']]\n",
    "y = datos.finalizado\n",
    "\n",
    "np.random.seed(SEED)\n",
    "\n",
    "x_train, x_test, y_train, y_test = train_test_split(x, y, test_size = 0.25, stratify = y)\n",
    "\n",
    "print('Entrenaremos con {} elementos y probaremos con {} elementos'.format((len(x_train)),(len(x_test))))\n",
    "\n",
    "model = LinearSVC(dual = 'auto')\n",
    "model.fit(x_train, y_train)\n",
    "previsiones = model.predict(x_test)\n",
    "\n",
    "tasa_de_acierto = accuracy_score(y_test, previsiones)\n",
    "print(\"La tasa de acierto fue de: {}%\".format(round(tasa_de_acierto*100,2)))"
   ]
  },
  {
   "cell_type": "code",
   "execution_count": 33,
   "metadata": {
    "colab": {
     "base_uri": "https://localhost:8080/"
    },
    "executionInfo": {
     "elapsed": 17,
     "status": "ok",
     "timestamp": 1704507993791,
     "user": {
      "displayName": "Julio Paz Sosa",
      "userId": "02292233226635378098"
     },
     "user_tz": 360
    },
    "id": "mYiik91VTvDK",
    "outputId": "e086d61b-430d-4802-cdbf-6c4fcffd03bf"
   },
   "outputs": [
    {
     "name": "stdout",
     "output_type": "stream",
     "text": [
      "La tasa de acierto fue de: 52.59%\n"
     ]
    }
   ],
   "source": [
    "# Algoritmo de base\n",
    "\n",
    "base_prevision = np.ones(540)\n",
    "tasa_de_acierto = accuracy_score(y_test, base_prevision)\n",
    "print(\"La tasa de acierto fue de: {}%\".format(round(tasa_de_acierto*100,2)))"
   ]
  },
  {
   "cell_type": "code",
   "execution_count": 34,
   "metadata": {
    "colab": {
     "base_uri": "https://localhost:8080/",
     "height": 450
    },
    "executionInfo": {
     "elapsed": 640,
     "status": "ok",
     "timestamp": 1704507994419,
     "user": {
      "displayName": "Julio Paz Sosa",
      "userId": "02292233226635378098"
     },
     "user_tz": 360
    },
    "id": "Cw7q9_n4XyZJ",
    "outputId": "acc2b0cd-c086-434a-f8dd-40bce3c01efe"
   },
   "outputs": [
    {
     "data": {
      "image/png": "[encoded data removed]",
      "text/plain": [
       "<Figure size 640x480 with 1 Axes>"
      ]
     },
     "metadata": {},
     "output_type": "display_data"
    }
   ],
   "source": [
    "sns.scatterplot(x='horas_esperadas', y='precio', hue = y_test, data = x_test);"
   ]
  },
  {
   "cell_type": "code",
   "execution_count": 35,
   "metadata": {
    "executionInfo": {
     "elapsed": 28,
     "status": "ok",
     "timestamp": 1704507994419,
     "user": {
      "displayName": "Julio Paz Sosa",
      "userId": "02292233226635378098"
     },
     "user_tz": 360
    },
    "id": "sCrBpzRfYy21"
   },
   "outputs": [],
   "source": [
    "x_min = x_test.horas_esperadas.min()\n",
    "x_max = x_test.horas_esperadas.max()\n",
    "y_min = x_test.precio.min()\n",
    "y_max = x_test.precio.max()"
   ]
  },
  {
   "cell_type": "code",
   "execution_count": 36,
   "metadata": {
    "executionInfo": {
     "elapsed": 27,
     "status": "ok",
     "timestamp": 1704507994420,
     "user": {
      "displayName": "Julio Paz Sosa",
      "userId": "02292233226635378098"
     },
     "user_tz": 360
    },
    "id": "cqGr9iBgZLw6"
   },
   "outputs": [],
   "source": [
    "pixels = 100\n",
    "eje_x = np.arange(x_min, x_max, (x_max-x_min)/pixels)\n",
    "eje_y = np.arange(y_min, y_max, (y_max-y_min)/pixels)"
   ]
  },
  {
   "cell_type": "code",
   "execution_count": 37,
   "metadata": {
    "colab": {
     "base_uri": "https://localhost:8080/"
    },
    "executionInfo": {
     "elapsed": 26,
     "status": "ok",
     "timestamp": 1704507994420,
     "user": {
      "displayName": "Julio Paz Sosa",
      "userId": "02292233226635378098"
     },
     "user_tz": 360
    },
    "id": "_gb5JYRVb9Hy",
    "outputId": "30594792-12ce-4a69-84d5-75ee007be15a"
   },
   "outputs": [
    {
     "data": {
      "text/plain": [
       "array([[1.000000e+00, 1.000000e+02],\n",
       "       [1.990000e+00, 1.000000e+02],\n",
       "       [2.980000e+00, 1.000000e+02],\n",
       "       ...,\n",
       "       [9.703000e+01, 2.811502e+04],\n",
       "       [9.802000e+01, 2.811502e+04],\n",
       "       [9.901000e+01, 2.811502e+04]])"
      ]
     },
     "execution_count": 37,
     "metadata": {},
     "output_type": "execute_result"
    }
   ],
   "source": [
    "xx, yy = np.meshgrid(eje_x, eje_y)\n",
    "puntos = np.c_[xx.ravel(), yy.ravel()]\n",
    "puntos"
   ]
  },
  {
   "cell_type": "code",
   "execution_count": 38,
   "metadata": {
    "colab": {
     "base_uri": "https://localhost:8080/"
    },
    "executionInfo": {
     "elapsed": 21,
     "status": "ok",
     "timestamp": 1704507994421,
     "user": {
      "displayName": "Julio Paz Sosa",
      "userId": "02292233226635378098"
     },
     "user_tz": 360
    },
    "id": "mvTkBKV2cxny",
    "outputId": "bbc7b510-5d38-4148-f2e9-b573cb28da5c"
   },
   "outputs": [
    {
     "name": "stderr",
     "output_type": "stream",
     "text": [
      "C:\\Users\\Julio\\miniconda3\\Lib\\site-packages\\sklearn\\base.py:464: UserWarning: X does not have valid feature names, but LinearSVC was fitted with feature names\n",
      "  warnings.warn(\n"
     ]
    }
   ],
   "source": [
    "Z = model.predict(puntos)"
   ]
  },
  {
   "cell_type": "code",
   "execution_count": 39,
   "metadata": {
    "colab": {
     "base_uri": "https://localhost:8080/"
    },
    "executionInfo": {
     "elapsed": 17,
     "status": "ok",
     "timestamp": 1704507994421,
     "user": {
      "displayName": "Julio Paz Sosa",
      "userId": "02292233226635378098"
     },
     "user_tz": 360
    },
    "id": "RellRQBuc2iK",
    "outputId": "f4bf706b-7d12-45fb-e13d-f388df0a93a0"
   },
   "outputs": [
    {
     "data": {
      "text/plain": [
       "array([[1, 1, 1, ..., 0, 0, 0],\n",
       "       [1, 1, 1, ..., 0, 0, 0],\n",
       "       [1, 1, 1, ..., 0, 0, 0],\n",
       "       ...,\n",
       "       [1, 1, 1, ..., 1, 1, 1],\n",
       "       [1, 1, 1, ..., 1, 1, 1],\n",
       "       [1, 1, 1, ..., 1, 1, 1]], dtype=int64)"
      ]
     },
     "execution_count": 39,
     "metadata": {},
     "output_type": "execute_result"
    }
   ],
   "source": [
    "Z = Z.reshape(xx.shape)\n",
    "Z"
   ]
  },
  {
   "cell_type": "code",
   "execution_count": 40,
   "metadata": {
    "colab": {
     "base_uri": "https://localhost:8080/",
     "height": 430
    },
    "executionInfo": {
     "elapsed": 159,
     "status": "ok",
     "timestamp": 1704507994568,
     "user": {
      "displayName": "Julio Paz Sosa",
      "userId": "02292233226635378098"
     },
     "user_tz": 360
    },
    "id": "8DK2c58YUqP8",
    "outputId": "04d03b83-5be5-4069-c617-72054255a4bc"
   },
   "outputs": [
    {
     "data": {
      "image/png": "[encoded data removed]",
      "text/plain": [
       "<Figure size 640x480 with 1 Axes>"
      ]
     },
     "metadata": {},
     "output_type": "display_data"
    }
   ],
   "source": [
    "import matplotlib.pyplot as plt\n",
    "\n",
    "plt.contourf(xx, yy, Z, alpha = 0.3)\n",
    "plt.scatter(x_test.horas_esperadas, x_test.precio, c=y_test, s=1);"
   ]
  },
  {
   "cell_type": "markdown",
   "metadata": {
    "id": "MrNdWs87VKq1"
   },
   "source": [
    "# **4. Estimadores no lineales**"
   ]
  },
  {
   "cell_type": "code",
   "execution_count": 41,
   "metadata": {
    "colab": {
     "base_uri": "https://localhost:8080/",
     "height": 465
    },
    "executionInfo": {
     "elapsed": 1103,
     "status": "ok",
     "timestamp": 1704507995662,
     "user": {
      "displayName": "Julio Paz Sosa",
      "userId": "02292233226635378098"
     },
     "user_tz": 360
    },
    "id": "1Z0-xT8RVx3s",
    "outputId": "a5b9b74f-75ba-426b-cc00-74857303aa59"
   },
   "outputs": [
    {
     "name": "stdout",
     "output_type": "stream",
     "text": [
      "Entrenaremos con 1617 elementos y probaremos con 540 elementos\n",
      "La tasa de acierto fue de: 67.78%\n"
     ]
    },
    {
     "data": {
      "image/png": "[encoded data removed]",
      "text/plain": [
       "<Figure size 640x480 with 1 Axes>"
      ]
     },
     "metadata": {},
     "output_type": "display_data"
    }
   ],
   "source": [
    "from sklearn.svm import SVC\n",
    "from sklearn.preprocessing import StandardScaler\n",
    "# Siempre debemos usar escalador salvo que se trabaje con árboles de decisión\n",
    "\n",
    "x = datos[['horas_esperadas','precio']]\n",
    "y = datos.finalizado\n",
    "\n",
    "np.random.seed(SEED)\n",
    "\n",
    "raw_x_train, raw_x_test, y_train, y_test = train_test_split(x, y, test_size = 0.25, stratify = y)\n",
    "\n",
    "print('Entrenaremos con {} elementos y probaremos con {} elementos'.format((len(x_train)),(len(x_test))))\n",
    "\n",
    "scaler = StandardScaler()\n",
    "scaler.fit(raw_x_train)\n",
    "x_train = scaler.transform(raw_x_train)\n",
    "x_test = scaler.transform(raw_x_test)\n",
    "\n",
    "model = SVC()\n",
    "model.fit(x_train, y_train)\n",
    "previsiones = model.predict(x_test)\n",
    "\n",
    "data_x = x_test[:,0]\n",
    "data_y = x_test[:,1]\n",
    "\n",
    "x_min = data_x.min()\n",
    "x_max = data_x.max()\n",
    "y_min = data_y.min()\n",
    "y_max = data_y.max()\n",
    "\n",
    "pixels = 100\n",
    "eje_x = np.arange(x_min, x_max, (x_max-x_min)/pixels)\n",
    "eje_y = np.arange(y_min, y_max, (y_max-y_min)/pixels)\n",
    "\n",
    "xx, yy = np.meshgrid(eje_x, eje_y)\n",
    "puntos = np.c_[xx.ravel(), yy.ravel()]\n",
    "Z = model.predict(puntos)\n",
    "Z = Z.reshape(xx.shape)\n",
    "\n",
    "plt.contourf(xx, yy, Z, alpha = 0.3)\n",
    "plt.scatter(data_x, data_y, c=y_test, s=1);\n",
    "\n",
    "tasa_de_acierto = accuracy_score(y_test, previsiones)\n",
    "print(\"La tasa de acierto fue de: {}%\".format(round(tasa_de_acierto*100,2)))"
   ]
  },
  {
   "cell_type": "markdown",
   "metadata": {
    "id": "y65aUvHaz9X5"
   },
   "source": [
    "# **5. Dummy Clasifiers y árboles de decisión**"
   ]
  },
  {
   "cell_type": "code",
   "execution_count": 42,
   "metadata": {
    "colab": {
     "base_uri": "https://localhost:8080/",
     "height": 206
    },
    "executionInfo": {
     "elapsed": 495,
     "status": "ok",
     "timestamp": 1704507996150,
     "user": {
      "displayName": "Julio Paz Sosa",
      "userId": "02292233226635378098"
     },
     "user_tz": 360
    },
    "id": "nYPHlE4G0Ipt",
    "outputId": "e6d826c2-fd9d-4a7a-ee43-6d23e20edade"
   },
   "outputs": [
    {
     "data": {
      "text/html": [
       "<div>\n",
       "<style scoped>\n",
       "    .dataframe tbody tr th:only-of-type {\n",
       "        vertical-align: middle;\n",
       "    }\n",
       "\n",
       "    .dataframe tbody tr th {\n",
       "        vertical-align: top;\n",
       "    }\n",
       "\n",
       "    .dataframe thead th {\n",
       "        text-align: right;\n",
       "    }\n",
       "</style>\n",
       "<table border=\"1\" class=\"dataframe\">\n",
       "  <thead>\n",
       "    <tr style=\"text-align: right;\">\n",
       "      <th></th>\n",
       "      <th>Unnamed: 0</th>\n",
       "      <th>mileage_per_year</th>\n",
       "      <th>model_year</th>\n",
       "      <th>price</th>\n",
       "      <th>sold</th>\n",
       "    </tr>\n",
       "  </thead>\n",
       "  <tbody>\n",
       "    <tr>\n",
       "      <th>0</th>\n",
       "      <td>0</td>\n",
       "      <td>21801</td>\n",
       "      <td>2000</td>\n",
       "      <td>30941.02</td>\n",
       "      <td>yes</td>\n",
       "    </tr>\n",
       "    <tr>\n",
       "      <th>1</th>\n",
       "      <td>1</td>\n",
       "      <td>7843</td>\n",
       "      <td>1998</td>\n",
       "      <td>40557.96</td>\n",
       "      <td>yes</td>\n",
       "    </tr>\n",
       "    <tr>\n",
       "      <th>2</th>\n",
       "      <td>2</td>\n",
       "      <td>7109</td>\n",
       "      <td>2006</td>\n",
       "      <td>89627.50</td>\n",
       "      <td>no</td>\n",
       "    </tr>\n",
       "    <tr>\n",
       "      <th>3</th>\n",
       "      <td>3</td>\n",
       "      <td>26823</td>\n",
       "      <td>2015</td>\n",
       "      <td>95276.14</td>\n",
       "      <td>no</td>\n",
       "    </tr>\n",
       "    <tr>\n",
       "      <th>4</th>\n",
       "      <td>4</td>\n",
       "      <td>7935</td>\n",
       "      <td>2014</td>\n",
       "      <td>117384.68</td>\n",
       "      <td>yes</td>\n",
       "    </tr>\n",
       "  </tbody>\n",
       "</table>\n",
       "</div>"
      ],
      "text/plain": [
       "   Unnamed: 0  mileage_per_year  model_year      price sold\n",
       "0           0             21801        2000   30941.02  yes\n",
       "1           1              7843        1998   40557.96  yes\n",
       "2           2              7109        2006   89627.50   no\n",
       "3           3             26823        2015   95276.14   no\n",
       "4           4              7935        2014  117384.68  yes"
      ]
     },
     "execution_count": 42,
     "metadata": {},
     "output_type": "execute_result"
    }
   ],
   "source": [
    "uri = 'https://gist.githubusercontent.com/ahcamachod/1595316a6b37bf39baac355b081d9c3b/raw/98bc94de744764cef0e67922ddfac2a226ad6a6f/car_prices.csv'\n",
    "datos = pd.read_csv(uri)\n",
    "datos.head()"
   ]
  },
  {
   "cell_type": "code",
   "execution_count": 43,
   "metadata": {
    "colab": {
     "base_uri": "https://localhost:8080/",
     "height": 143
    },
    "executionInfo": {
     "elapsed": 29,
     "status": "ok",
     "timestamp": 1704507996150,
     "user": {
      "displayName": "Julio Paz Sosa",
      "userId": "02292233226635378098"
     },
     "user_tz": 360
    },
    "id": "CHwsHu_c0lJv",
    "outputId": "f6bb34c1-1036-4098-bb7f-4d6b7f0cf0db"
   },
   "outputs": [
    {
     "data": {
      "text/html": [
       "<div>\n",
       "<style scoped>\n",
       "    .dataframe tbody tr th:only-of-type {\n",
       "        vertical-align: middle;\n",
       "    }\n",
       "\n",
       "    .dataframe tbody tr th {\n",
       "        vertical-align: top;\n",
       "    }\n",
       "\n",
       "    .dataframe thead th {\n",
       "        text-align: right;\n",
       "    }\n",
       "</style>\n",
       "<table border=\"1\" class=\"dataframe\">\n",
       "  <thead>\n",
       "    <tr style=\"text-align: right;\">\n",
       "      <th></th>\n",
       "      <th>Unnamed: 0</th>\n",
       "      <th>millas_por_ano</th>\n",
       "      <th>ano_del_modelo</th>\n",
       "      <th>precio</th>\n",
       "      <th>vendido</th>\n",
       "    </tr>\n",
       "  </thead>\n",
       "  <tbody>\n",
       "    <tr>\n",
       "      <th>4062</th>\n",
       "      <td>4062</td>\n",
       "      <td>12914</td>\n",
       "      <td>2001</td>\n",
       "      <td>91492.55</td>\n",
       "      <td>no</td>\n",
       "    </tr>\n",
       "    <tr>\n",
       "      <th>338</th>\n",
       "      <td>338</td>\n",
       "      <td>13175</td>\n",
       "      <td>2002</td>\n",
       "      <td>77450.66</td>\n",
       "      <td>no</td>\n",
       "    </tr>\n",
       "    <tr>\n",
       "      <th>7900</th>\n",
       "      <td>7900</td>\n",
       "      <td>9524</td>\n",
       "      <td>2004</td>\n",
       "      <td>70029.90</td>\n",
       "      <td>no</td>\n",
       "    </tr>\n",
       "  </tbody>\n",
       "</table>\n",
       "</div>"
      ],
      "text/plain": [
       "      Unnamed: 0  millas_por_ano  ano_del_modelo    precio vendido\n",
       "4062        4062           12914            2001  91492.55      no\n",
       "338          338           13175            2002  77450.66      no\n",
       "7900        7900            9524            2004  70029.90      no"
      ]
     },
     "execution_count": 43,
     "metadata": {},
     "output_type": "execute_result"
    }
   ],
   "source": [
    "mapa = {\n",
    "        'mileage_per_year' : 'millas_por_ano',\n",
    "        'model_year' : 'ano_del_modelo',\n",
    "        'price' : 'precio',\n",
    "        'sold' : 'vendido'\n",
    "        }\n",
    "\n",
    "datos = datos.rename(columns = mapa)\n",
    "datos.sample(3)"
   ]
  },
  {
   "cell_type": "code",
   "execution_count": 44,
   "metadata": {
    "colab": {
     "base_uri": "https://localhost:8080/",
     "height": 143
    },
    "executionInfo": {
     "elapsed": 27,
     "status": "ok",
     "timestamp": 1704507996151,
     "user": {
      "displayName": "Julio Paz Sosa",
      "userId": "02292233226635378098"
     },
     "user_tz": 360
    },
    "id": "fJtLDDdU2qLu",
    "outputId": "9960b4de-45f6-4a11-d21b-d8fa123f848d"
   },
   "outputs": [
    {
     "data": {
      "text/html": [
       "<div>\n",
       "<style scoped>\n",
       "    .dataframe tbody tr th:only-of-type {\n",
       "        vertical-align: middle;\n",
       "    }\n",
       "\n",
       "    .dataframe tbody tr th {\n",
       "        vertical-align: top;\n",
       "    }\n",
       "\n",
       "    .dataframe thead th {\n",
       "        text-align: right;\n",
       "    }\n",
       "</style>\n",
       "<table border=\"1\" class=\"dataframe\">\n",
       "  <thead>\n",
       "    <tr style=\"text-align: right;\">\n",
       "      <th></th>\n",
       "      <th>Unnamed: 0</th>\n",
       "      <th>millas_por_ano</th>\n",
       "      <th>ano_del_modelo</th>\n",
       "      <th>precio</th>\n",
       "      <th>vendido</th>\n",
       "    </tr>\n",
       "  </thead>\n",
       "  <tbody>\n",
       "    <tr>\n",
       "      <th>7825</th>\n",
       "      <td>7825</td>\n",
       "      <td>11850</td>\n",
       "      <td>2006</td>\n",
       "      <td>54526.09</td>\n",
       "      <td>0</td>\n",
       "    </tr>\n",
       "    <tr>\n",
       "      <th>1339</th>\n",
       "      <td>1339</td>\n",
       "      <td>7848</td>\n",
       "      <td>2003</td>\n",
       "      <td>66631.71</td>\n",
       "      <td>1</td>\n",
       "    </tr>\n",
       "    <tr>\n",
       "      <th>1685</th>\n",
       "      <td>1685</td>\n",
       "      <td>21406</td>\n",
       "      <td>2007</td>\n",
       "      <td>44578.12</td>\n",
       "      <td>1</td>\n",
       "    </tr>\n",
       "  </tbody>\n",
       "</table>\n",
       "</div>"
      ],
      "text/plain": [
       "      Unnamed: 0  millas_por_ano  ano_del_modelo    precio  vendido\n",
       "7825        7825           11850            2006  54526.09        0\n",
       "1339        1339            7848            2003  66631.71        1\n",
       "1685        1685           21406            2007  44578.12        1"
      ]
     },
     "execution_count": 44,
     "metadata": {},
     "output_type": "execute_result"
    }
   ],
   "source": [
    "cambio = {'no':0,'yes':1}\n",
    "\n",
    "datos.vendido = datos.vendido.map(cambio)\n",
    "datos.sample(3)"
   ]
  },
  {
   "cell_type": "code",
   "execution_count": 45,
   "metadata": {
    "colab": {
     "base_uri": "https://localhost:8080/",
     "height": 143
    },
    "executionInfo": {
     "elapsed": 210,
     "status": "ok",
     "timestamp": 1704507996336,
     "user": {
      "displayName": "Julio Paz Sosa",
      "userId": "02292233226635378098"
     },
     "user_tz": 360
    },
    "id": "D7ggLIKC3TpC",
    "outputId": "9d64ca44-2bb2-4974-80a7-537122d1cecc"
   },
   "outputs": [
    {
     "data": {
      "text/html": [
       "<div>\n",
       "<style scoped>\n",
       "    .dataframe tbody tr th:only-of-type {\n",
       "        vertical-align: middle;\n",
       "    }\n",
       "\n",
       "    .dataframe tbody tr th {\n",
       "        vertical-align: top;\n",
       "    }\n",
       "\n",
       "    .dataframe thead th {\n",
       "        text-align: right;\n",
       "    }\n",
       "</style>\n",
       "<table border=\"1\" class=\"dataframe\">\n",
       "  <thead>\n",
       "    <tr style=\"text-align: right;\">\n",
       "      <th></th>\n",
       "      <th>Unnamed: 0</th>\n",
       "      <th>millas_por_ano</th>\n",
       "      <th>ano_del_modelo</th>\n",
       "      <th>precio</th>\n",
       "      <th>vendido</th>\n",
       "      <th>edad_del_modelo</th>\n",
       "    </tr>\n",
       "  </thead>\n",
       "  <tbody>\n",
       "    <tr>\n",
       "      <th>8290</th>\n",
       "      <td>8290</td>\n",
       "      <td>14255</td>\n",
       "      <td>2005</td>\n",
       "      <td>51606.00</td>\n",
       "      <td>1</td>\n",
       "      <td>19</td>\n",
       "    </tr>\n",
       "    <tr>\n",
       "      <th>8686</th>\n",
       "      <td>8686</td>\n",
       "      <td>21236</td>\n",
       "      <td>2006</td>\n",
       "      <td>37042.17</td>\n",
       "      <td>1</td>\n",
       "      <td>18</td>\n",
       "    </tr>\n",
       "    <tr>\n",
       "      <th>5642</th>\n",
       "      <td>5642</td>\n",
       "      <td>9998</td>\n",
       "      <td>2011</td>\n",
       "      <td>47241.59</td>\n",
       "      <td>1</td>\n",
       "      <td>13</td>\n",
       "    </tr>\n",
       "  </tbody>\n",
       "</table>\n",
       "</div>"
      ],
      "text/plain": [
       "      Unnamed: 0  millas_por_ano  ano_del_modelo    precio  vendido  \\\n",
       "8290        8290           14255            2005  51606.00        1   \n",
       "8686        8686           21236            2006  37042.17        1   \n",
       "5642        5642            9998            2011  47241.59        1   \n",
       "\n",
       "      edad_del_modelo  \n",
       "8290               19  \n",
       "8686               18  \n",
       "5642               13  "
      ]
     },
     "execution_count": 45,
     "metadata": {},
     "output_type": "execute_result"
    }
   ],
   "source": [
    "from datetime import datetime\n",
    "\n",
    "ano_actual = datetime.today().year\n",
    "datos['edad_del_modelo'] = ano_actual - datos.ano_del_modelo\n",
    "datos.sample(3)"
   ]
  },
  {
   "cell_type": "code",
   "execution_count": 46,
   "metadata": {
    "colab": {
     "base_uri": "https://localhost:8080/",
     "height": 143
    },
    "executionInfo": {
     "elapsed": 210,
     "status": "ok",
     "timestamp": 1704507996339,
     "user": {
      "displayName": "Julio Paz Sosa",
      "userId": "02292233226635378098"
     },
     "user_tz": 360
    },
    "id": "wbiF796o52sw",
    "outputId": "293bede0-f938-4aa7-fa9a-d1e3154e404b"
   },
   "outputs": [
    {
     "data": {
      "text/html": [
       "<div>\n",
       "<style scoped>\n",
       "    .dataframe tbody tr th:only-of-type {\n",
       "        vertical-align: middle;\n",
       "    }\n",
       "\n",
       "    .dataframe tbody tr th {\n",
       "        vertical-align: top;\n",
       "    }\n",
       "\n",
       "    .dataframe thead th {\n",
       "        text-align: right;\n",
       "    }\n",
       "</style>\n",
       "<table border=\"1\" class=\"dataframe\">\n",
       "  <thead>\n",
       "    <tr style=\"text-align: right;\">\n",
       "      <th></th>\n",
       "      <th>Unnamed: 0</th>\n",
       "      <th>millas_por_ano</th>\n",
       "      <th>ano_del_modelo</th>\n",
       "      <th>precio</th>\n",
       "      <th>vendido</th>\n",
       "      <th>edad_del_modelo</th>\n",
       "      <th>km_por_ano</th>\n",
       "    </tr>\n",
       "  </thead>\n",
       "  <tbody>\n",
       "    <tr>\n",
       "      <th>100</th>\n",
       "      <td>100</td>\n",
       "      <td>17000</td>\n",
       "      <td>2002</td>\n",
       "      <td>45343.51</td>\n",
       "      <td>1</td>\n",
       "      <td>22</td>\n",
       "      <td>27358.78000</td>\n",
       "    </tr>\n",
       "    <tr>\n",
       "      <th>5228</th>\n",
       "      <td>5228</td>\n",
       "      <td>15933</td>\n",
       "      <td>2000</td>\n",
       "      <td>61608.05</td>\n",
       "      <td>0</td>\n",
       "      <td>24</td>\n",
       "      <td>25641.61422</td>\n",
       "    </tr>\n",
       "    <tr>\n",
       "      <th>3569</th>\n",
       "      <td>3569</td>\n",
       "      <td>13512</td>\n",
       "      <td>2000</td>\n",
       "      <td>39647.42</td>\n",
       "      <td>1</td>\n",
       "      <td>24</td>\n",
       "      <td>21745.40208</td>\n",
       "    </tr>\n",
       "  </tbody>\n",
       "</table>\n",
       "</div>"
      ],
      "text/plain": [
       "      Unnamed: 0  millas_por_ano  ano_del_modelo    precio  vendido  \\\n",
       "100          100           17000            2002  45343.51        1   \n",
       "5228        5228           15933            2000  61608.05        0   \n",
       "3569        3569           13512            2000  39647.42        1   \n",
       "\n",
       "      edad_del_modelo   km_por_ano  \n",
       "100                22  27358.78000  \n",
       "5228               24  25641.61422  \n",
       "3569               24  21745.40208  "
      ]
     },
     "execution_count": 46,
     "metadata": {},
     "output_type": "execute_result"
    }
   ],
   "source": [
    "datos['km_por_ano'] = (datos.millas_por_ano * 1.60934)\n",
    "datos.sample(3)"
   ]
  },
  {
   "cell_type": "code",
   "execution_count": 47,
   "metadata": {
    "colab": {
     "base_uri": "https://localhost:8080/",
     "height": 143
    },
    "executionInfo": {
     "elapsed": 22,
     "status": "ok",
     "timestamp": 1704507996340,
     "user": {
      "displayName": "Julio Paz Sosa",
      "userId": "02292233226635378098"
     },
     "user_tz": 360
    },
    "id": "wBlmavnf6fHP",
    "outputId": "7e518b45-f81f-4e2d-e172-7984c6df60b3"
   },
   "outputs": [
    {
     "data": {
      "text/html": [
       "<div>\n",
       "<style scoped>\n",
       "    .dataframe tbody tr th:only-of-type {\n",
       "        vertical-align: middle;\n",
       "    }\n",
       "\n",
       "    .dataframe tbody tr th {\n",
       "        vertical-align: top;\n",
       "    }\n",
       "\n",
       "    .dataframe thead th {\n",
       "        text-align: right;\n",
       "    }\n",
       "</style>\n",
       "<table border=\"1\" class=\"dataframe\">\n",
       "  <thead>\n",
       "    <tr style=\"text-align: right;\">\n",
       "      <th></th>\n",
       "      <th>precio</th>\n",
       "      <th>vendido</th>\n",
       "      <th>edad_del_modelo</th>\n",
       "      <th>km_por_ano</th>\n",
       "    </tr>\n",
       "  </thead>\n",
       "  <tbody>\n",
       "    <tr>\n",
       "      <th>689</th>\n",
       "      <td>47870.87</td>\n",
       "      <td>1</td>\n",
       "      <td>17</td>\n",
       "      <td>43307.33940</td>\n",
       "    </tr>\n",
       "    <tr>\n",
       "      <th>4978</th>\n",
       "      <td>35042.75</td>\n",
       "      <td>1</td>\n",
       "      <td>11</td>\n",
       "      <td>25730.12792</td>\n",
       "    </tr>\n",
       "    <tr>\n",
       "      <th>3483</th>\n",
       "      <td>39458.06</td>\n",
       "      <td>1</td>\n",
       "      <td>13</td>\n",
       "      <td>20506.21028</td>\n",
       "    </tr>\n",
       "  </tbody>\n",
       "</table>\n",
       "</div>"
      ],
      "text/plain": [
       "        precio  vendido  edad_del_modelo   km_por_ano\n",
       "689   47870.87        1               17  43307.33940\n",
       "4978  35042.75        1               11  25730.12792\n",
       "3483  39458.06        1               13  20506.21028"
      ]
     },
     "execution_count": 47,
     "metadata": {},
     "output_type": "execute_result"
    }
   ],
   "source": [
    "datos = datos.drop(columns = ['Unnamed: 0', 'millas_por_ano', 'ano_del_modelo'], axis = 1)\n",
    "datos.sample(3)"
   ]
  },
  {
   "cell_type": "code",
   "execution_count": 48,
   "metadata": {
    "colab": {
     "base_uri": "https://localhost:8080/"
    },
    "executionInfo": {
     "elapsed": 2035,
     "status": "ok",
     "timestamp": 1704507998356,
     "user": {
      "displayName": "Julio Paz Sosa",
      "userId": "02292233226635378098"
     },
     "user_tz": 360
    },
    "id": "e37-ln_67MO7",
    "outputId": "14b87e24-8b6d-40bd-f05e-8a796d15c239"
   },
   "outputs": [
    {
     "name": "stdout",
     "output_type": "stream",
     "text": [
      "Entrenaremos con 7500 elementos y probaremos con 2500 elementos\n",
      "La tasa de acierto fue de: 76.04%\n"
     ]
    }
   ],
   "source": [
    "x = datos[['edad_del_modelo','km_por_ano','precio']]\n",
    "y = datos.vendido\n",
    "\n",
    "np.random.seed(SEED)\n",
    "\n",
    "raw_x_train, raw_x_test, y_train, y_test = train_test_split(x, y, test_size = 0.25, stratify = y)\n",
    "\n",
    "print('Entrenaremos con {} elementos y probaremos con {} elementos'.format((len(raw_x_train)),(len(raw_x_test))))\n",
    "\n",
    "scaler = StandardScaler()\n",
    "scaler.fit(raw_x_train)\n",
    "x_train = scaler.transform(raw_x_train)\n",
    "x_test = scaler.transform(raw_x_test)\n",
    "\n",
    "model = SVC()\n",
    "model.fit(x_train, y_train)\n",
    "previsiones = model.predict(x_test)\n",
    "\n",
    "tasa_de_acierto = accuracy_score(y_test, previsiones)\n",
    "print(\"La tasa de acierto fue de: {}%\".format(round(tasa_de_acierto*100,2)))"
   ]
  },
  {
   "cell_type": "code",
   "execution_count": 49,
   "metadata": {
    "colab": {
     "base_uri": "https://localhost:8080/"
    },
    "executionInfo": {
     "elapsed": 15,
     "status": "ok",
     "timestamp": 1704507998356,
     "user": {
      "displayName": "Julio Paz Sosa",
      "userId": "02292233226635378098"
     },
     "user_tz": 360
    },
    "id": "7G4sYR4k8DSp",
    "outputId": "bdefaef2-1026-47e7-9c55-1119f7eb4b95"
   },
   "outputs": [
    {
     "name": "stdout",
     "output_type": "stream",
     "text": [
      "La exactitud del clasificador Dummy Stratified fue: 52.64%\n"
     ]
    }
   ],
   "source": [
    "from sklearn.dummy import DummyClassifier\n",
    "\n",
    "dummy = DummyClassifier(strategy = 'stratified')\n",
    "dummy.fit(x_train, y_train)\n",
    "\n",
    "exactitud = dummy.score(x_test, y_test)*100\n",
    "print('La exactitud del clasificador Dummy Stratified fue: {}%'.format(round(exactitud,2)))"
   ]
  },
  {
   "cell_type": "code",
   "execution_count": 50,
   "metadata": {
    "colab": {
     "base_uri": "https://localhost:8080/"
    },
    "executionInfo": {
     "elapsed": 13,
     "status": "ok",
     "timestamp": 1704507998357,
     "user": {
      "displayName": "Julio Paz Sosa",
      "userId": "02292233226635378098"
     },
     "user_tz": 360
    },
    "id": "sx29Kw8p85N-",
    "outputId": "1c17a45a-a671-495d-84d2-c5cbad084cef"
   },
   "outputs": [
    {
     "name": "stdout",
     "output_type": "stream",
     "text": [
      "La exactitud del clasificador Dummy Most Frequent fue: 58.0%\n"
     ]
    }
   ],
   "source": [
    "dummy = DummyClassifier(strategy = 'most_frequent')\n",
    "dummy.fit(x_train, y_train)\n",
    "\n",
    "exactitud = dummy.score(x_test, y_test)*100\n",
    "print('La exactitud del clasificador Dummy Most Frequent fue: {}%'.format(round(exactitud,2)))"
   ]
  },
  {
   "cell_type": "markdown",
   "metadata": {
    "id": "iHqg-AkAh4U0"
   },
   "source": [
    "## Árbol de Decisión"
   ]
  },
  {
   "cell_type": "code",
   "execution_count": 51,
   "metadata": {
    "colab": {
     "base_uri": "https://localhost:8080/"
    },
    "executionInfo": {
     "elapsed": 259,
     "status": "ok",
     "timestamp": 1704508173603,
     "user": {
      "displayName": "Julio Paz Sosa",
      "userId": "02292233226635378098"
     },
     "user_tz": 360
    },
    "id": "Lqlj3XAllofs",
    "outputId": "df060f71-2199-42d7-f452-b78403a9b5bd"
   },
   "outputs": [
    {
     "name": "stdout",
     "output_type": "stream",
     "text": [
      "Entrenaremos con 7500 elementos y probaremos con 2500 elementos\n",
      "La tasa de acierto fue de: 78.04%\n"
     ]
    }
   ],
   "source": [
    "# Usando Standard Scaler\n",
    "\n",
    "from sklearn.tree import DecisionTreeClassifier\n",
    "\n",
    "x = datos[['edad_del_modelo','km_por_ano','precio']]\n",
    "y = datos.vendido\n",
    "\n",
    "np.random.seed(SEED)\n",
    "\n",
    "raw_x_train, raw_x_test, y_train, y_test = train_test_split(x, y, test_size = 0.25, stratify = y)\n",
    "\n",
    "print('Entrenaremos con {} elementos y probaremos con {} elementos'.format((len(raw_x_train)),(len(raw_x_test))))\n",
    "\n",
    "scaler = StandardScaler()\n",
    "scaler.fit(raw_x_train)\n",
    "x_train = scaler.transform(raw_x_train)\n",
    "x_test = scaler.transform(raw_x_test)\n",
    "\n",
    "model = DecisionTreeClassifier(max_depth = 3)\n",
    "model.fit(x_train, y_train)\n",
    "previsiones = model.predict(x_test)\n",
    "\n",
    "tasa_de_acierto = accuracy_score(y_test, previsiones)\n",
    "print(\"La tasa de acierto fue de: {}%\".format(round(tasa_de_acierto*100,2)))"
   ]
  },
  {
   "cell_type": "code",
   "execution_count": 52,
   "metadata": {
    "colab": {
     "base_uri": "https://localhost:8080/",
     "height": 518
    },
    "executionInfo": {
     "elapsed": 159,
     "status": "ok",
     "timestamp": 1704508316911,
     "user": {
      "displayName": "Julio Paz Sosa",
      "userId": "02292233226635378098"
     },
     "user_tz": 360
    },
    "id": "ryXeNhhqmMCj",
    "outputId": "fb1edd0a-079a-4baa-95f1-db5ab8ad4d4e"
   },
   "outputs": [
    {
     "data": {
      "image/svg+xml": [
       "<?xml version=\"1.0\" encoding=\"UTF-8\" standalone=\"no\"?>\n",
       "<!DOCTYPE svg PUBLIC \"-//W3C//DTD SVG 1.1//EN\"\n",
       " \"http://www.w3.org/Graphics/SVG/1.1/DTD/svg11.dtd\">\n",
       "<!-- Generated by graphviz version 2.50.0 (0)\n",
       " -->\n",
       "<!-- Title: Tree Pages: 1 -->\n",
       "<svg width=\"858pt\" height=\"373pt\"\n",
       " viewBox=\"0.00 0.00 858.00 373.00\" xmlns=\"http://www.w3.org/2000/svg\" xmlns:xlink=\"http://www.w3.org/1999/xlink\">\n",
       "<g id=\"graph0\" class=\"graph\" transform=\"scale(1 1) rotate(0) translate(4 369)\">\n",
       "<title>Tree</title>\n",
       "<polygon fill=\"white\" stroke=\"transparent\" points=\"-4,4 -4,-369 854,-369 854,4 -4,4\"/>\n",
       "<!-- 0 -->\n",
       "<g id=\"node1\" class=\"node\">\n",
       "<title>0</title>\n",
       "<polygon fill=\"none\" stroke=\"black\" points=\"364.5,-365 224.5,-365 224.5,-297 364.5,-297 364.5,-365\"/>\n",
       "<text text-anchor=\"middle\" x=\"294.5\" y=\"-349.8\" font-family=\"Helvetica,sans-Serif\" font-size=\"14.00\">precio &lt;= &#45;0.178</text>\n",
       "<text text-anchor=\"middle\" x=\"294.5\" y=\"-334.8\" font-family=\"Helvetica,sans-Serif\" font-size=\"14.00\">gini = 0.487</text>\n",
       "<text text-anchor=\"middle\" x=\"294.5\" y=\"-319.8\" font-family=\"Helvetica,sans-Serif\" font-size=\"14.00\">samples = 7500</text>\n",
       "<text text-anchor=\"middle\" x=\"294.5\" y=\"-304.8\" font-family=\"Helvetica,sans-Serif\" font-size=\"14.00\">value = [3150, 4350]</text>\n",
       "</g>\n",
       "<!-- 1 -->\n",
       "<g id=\"node2\" class=\"node\">\n",
       "<title>1</title>\n",
       "<polygon fill=\"none\" stroke=\"black\" points=\"278.5,-261 146.5,-261 146.5,-193 278.5,-193 278.5,-261\"/>\n",
       "<text text-anchor=\"middle\" x=\"212.5\" y=\"-245.8\" font-family=\"Helvetica,sans-Serif\" font-size=\"14.00\">precio &lt;= &#45;0.968</text>\n",
       "<text text-anchor=\"middle\" x=\"212.5\" y=\"-230.8\" font-family=\"Helvetica,sans-Serif\" font-size=\"14.00\">gini = 0.2</text>\n",
       "<text text-anchor=\"middle\" x=\"212.5\" y=\"-215.8\" font-family=\"Helvetica,sans-Serif\" font-size=\"14.00\">samples = 3290</text>\n",
       "<text text-anchor=\"middle\" x=\"212.5\" y=\"-200.8\" font-family=\"Helvetica,sans-Serif\" font-size=\"14.00\">value = [370, 2920]</text>\n",
       "</g>\n",
       "<!-- 0&#45;&gt;1 -->\n",
       "<g id=\"edge1\" class=\"edge\">\n",
       "<title>0&#45;&gt;1</title>\n",
       "<path fill=\"none\" stroke=\"black\" d=\"M267.88,-296.88C260.79,-288.07 253.04,-278.43 245.65,-269.24\"/>\n",
       "<polygon fill=\"black\" stroke=\"black\" points=\"248.26,-266.9 239.27,-261.3 242.81,-271.29 248.26,-266.9\"/>\n",
       "<text text-anchor=\"middle\" x=\"236.57\" y=\"-282.45\" font-family=\"Helvetica,sans-Serif\" font-size=\"14.00\">True</text>\n",
       "</g>\n",
       "<!-- 6 -->\n",
       "<g id=\"node7\" class=\"node\">\n",
       "<title>6</title>\n",
       "<polygon fill=\"none\" stroke=\"black\" points=\"512.5,-261 362.5,-261 362.5,-193 512.5,-193 512.5,-261\"/>\n",
       "<text text-anchor=\"middle\" x=\"437.5\" y=\"-245.8\" font-family=\"Helvetica,sans-Serif\" font-size=\"14.00\">km_por_ano &lt;= 0.169</text>\n",
       "<text text-anchor=\"middle\" x=\"437.5\" y=\"-230.8\" font-family=\"Helvetica,sans-Serif\" font-size=\"14.00\">gini = 0.449</text>\n",
       "<text text-anchor=\"middle\" x=\"437.5\" y=\"-215.8\" font-family=\"Helvetica,sans-Serif\" font-size=\"14.00\">samples = 4210</text>\n",
       "<text text-anchor=\"middle\" x=\"437.5\" y=\"-200.8\" font-family=\"Helvetica,sans-Serif\" font-size=\"14.00\">value = [2780, 1430]</text>\n",
       "</g>\n",
       "<!-- 0&#45;&gt;6 -->\n",
       "<g id=\"edge6\" class=\"edge\">\n",
       "<title>0&#45;&gt;6</title>\n",
       "<path fill=\"none\" stroke=\"black\" d=\"M340.93,-296.88C354.17,-287.44 368.71,-277.06 382.41,-267.29\"/>\n",
       "<polygon fill=\"black\" stroke=\"black\" points=\"384.71,-269.96 390.82,-261.3 380.64,-264.26 384.71,-269.96\"/>\n",
       "<text text-anchor=\"middle\" x=\"386.69\" y=\"-282.26\" font-family=\"Helvetica,sans-Serif\" font-size=\"14.00\">False</text>\n",
       "</g>\n",
       "<!-- 2 -->\n",
       "<g id=\"node3\" class=\"node\">\n",
       "<title>2</title>\n",
       "<polygon fill=\"none\" stroke=\"black\" points=\"117,-149.5 0,-149.5 0,-96.5 117,-96.5 117,-149.5\"/>\n",
       "<text text-anchor=\"middle\" x=\"58.5\" y=\"-134.3\" font-family=\"Helvetica,sans-Serif\" font-size=\"14.00\">gini = 0.0</text>\n",
       "<text text-anchor=\"middle\" x=\"58.5\" y=\"-119.3\" font-family=\"Helvetica,sans-Serif\" font-size=\"14.00\">samples = 1476</text>\n",
       "<text text-anchor=\"middle\" x=\"58.5\" y=\"-104.3\" font-family=\"Helvetica,sans-Serif\" font-size=\"14.00\">value = [0, 1476]</text>\n",
       "</g>\n",
       "<!-- 1&#45;&gt;2 -->\n",
       "<g id=\"edge2\" class=\"edge\">\n",
       "<title>1&#45;&gt;2</title>\n",
       "<path fill=\"none\" stroke=\"black\" d=\"M162.5,-192.88C144.24,-180.79 123.65,-167.15 105.64,-155.22\"/>\n",
       "<polygon fill=\"black\" stroke=\"black\" points=\"107.3,-152.12 97.03,-149.52 103.43,-157.96 107.3,-152.12\"/>\n",
       "</g>\n",
       "<!-- 3 -->\n",
       "<g id=\"node4\" class=\"node\">\n",
       "<title>3</title>\n",
       "<polygon fill=\"none\" stroke=\"black\" points=\"290,-157 135,-157 135,-89 290,-89 290,-157\"/>\n",
       "<text text-anchor=\"middle\" x=\"212.5\" y=\"-141.8\" font-family=\"Helvetica,sans-Serif\" font-size=\"14.00\">km_por_ano &lt;= &#45;2.047</text>\n",
       "<text text-anchor=\"middle\" x=\"212.5\" y=\"-126.8\" font-family=\"Helvetica,sans-Serif\" font-size=\"14.00\">gini = 0.325</text>\n",
       "<text text-anchor=\"middle\" x=\"212.5\" y=\"-111.8\" font-family=\"Helvetica,sans-Serif\" font-size=\"14.00\">samples = 1814</text>\n",
       "<text text-anchor=\"middle\" x=\"212.5\" y=\"-96.8\" font-family=\"Helvetica,sans-Serif\" font-size=\"14.00\">value = [370, 1444]</text>\n",
       "</g>\n",
       "<!-- 1&#45;&gt;3 -->\n",
       "<g id=\"edge3\" class=\"edge\">\n",
       "<title>1&#45;&gt;3</title>\n",
       "<path fill=\"none\" stroke=\"black\" d=\"M212.5,-192.88C212.5,-184.78 212.5,-175.98 212.5,-167.47\"/>\n",
       "<polygon fill=\"black\" stroke=\"black\" points=\"216,-167.3 212.5,-157.3 209,-167.3 216,-167.3\"/>\n",
       "</g>\n",
       "<!-- 4 -->\n",
       "<g id=\"node5\" class=\"node\">\n",
       "<title>4</title>\n",
       "<polygon fill=\"none\" stroke=\"black\" points=\"128,-53 33,-53 33,0 128,0 128,-53\"/>\n",
       "<text text-anchor=\"middle\" x=\"80.5\" y=\"-37.8\" font-family=\"Helvetica,sans-Serif\" font-size=\"14.00\">gini = 0.0</text>\n",
       "<text text-anchor=\"middle\" x=\"80.5\" y=\"-22.8\" font-family=\"Helvetica,sans-Serif\" font-size=\"14.00\">samples = 3</text>\n",
       "<text text-anchor=\"middle\" x=\"80.5\" y=\"-7.8\" font-family=\"Helvetica,sans-Serif\" font-size=\"14.00\">value = [3, 0]</text>\n",
       "</g>\n",
       "<!-- 3&#45;&gt;4 -->\n",
       "<g id=\"edge4\" class=\"edge\">\n",
       "<title>3&#45;&gt;4</title>\n",
       "<path fill=\"none\" stroke=\"black\" d=\"M166.33,-88.95C152.79,-79.25 138.01,-68.68 124.6,-59.07\"/>\n",
       "<polygon fill=\"black\" stroke=\"black\" points=\"126.62,-56.21 116.45,-53.24 122.54,-61.9 126.62,-56.21\"/>\n",
       "</g>\n",
       "<!-- 5 -->\n",
       "<g id=\"node6\" class=\"node\">\n",
       "<title>5</title>\n",
       "<polygon fill=\"none\" stroke=\"black\" points=\"278.5,-53 146.5,-53 146.5,0 278.5,0 278.5,-53\"/>\n",
       "<text text-anchor=\"middle\" x=\"212.5\" y=\"-37.8\" font-family=\"Helvetica,sans-Serif\" font-size=\"14.00\">gini = 0.323</text>\n",
       "<text text-anchor=\"middle\" x=\"212.5\" y=\"-22.8\" font-family=\"Helvetica,sans-Serif\" font-size=\"14.00\">samples = 1811</text>\n",
       "<text text-anchor=\"middle\" x=\"212.5\" y=\"-7.8\" font-family=\"Helvetica,sans-Serif\" font-size=\"14.00\">value = [367, 1444]</text>\n",
       "</g>\n",
       "<!-- 3&#45;&gt;5 -->\n",
       "<g id=\"edge5\" class=\"edge\">\n",
       "<title>3&#45;&gt;5</title>\n",
       "<path fill=\"none\" stroke=\"black\" d=\"M212.5,-88.95C212.5,-80.72 212.5,-71.85 212.5,-63.48\"/>\n",
       "<polygon fill=\"black\" stroke=\"black\" points=\"216,-63.24 212.5,-53.24 209,-63.24 216,-63.24\"/>\n",
       "</g>\n",
       "<!-- 7 -->\n",
       "<g id=\"node8\" class=\"node\">\n",
       "<title>7</title>\n",
       "<polygon fill=\"none\" stroke=\"black\" points=\"507,-157 368,-157 368,-89 507,-89 507,-157\"/>\n",
       "<text text-anchor=\"middle\" x=\"437.5\" y=\"-141.8\" font-family=\"Helvetica,sans-Serif\" font-size=\"14.00\">precio &lt;= 1.401</text>\n",
       "<text text-anchor=\"middle\" x=\"437.5\" y=\"-126.8\" font-family=\"Helvetica,sans-Serif\" font-size=\"14.00\">gini = 0.497</text>\n",
       "<text text-anchor=\"middle\" x=\"437.5\" y=\"-111.8\" font-family=\"Helvetica,sans-Serif\" font-size=\"14.00\">samples = 2629</text>\n",
       "<text text-anchor=\"middle\" x=\"437.5\" y=\"-96.8\" font-family=\"Helvetica,sans-Serif\" font-size=\"14.00\">value = [1418, 1211]</text>\n",
       "</g>\n",
       "<!-- 6&#45;&gt;7 -->\n",
       "<g id=\"edge7\" class=\"edge\">\n",
       "<title>6&#45;&gt;7</title>\n",
       "<path fill=\"none\" stroke=\"black\" d=\"M437.5,-192.88C437.5,-184.78 437.5,-175.98 437.5,-167.47\"/>\n",
       "<polygon fill=\"black\" stroke=\"black\" points=\"441,-167.3 437.5,-157.3 434,-167.3 441,-167.3\"/>\n",
       "</g>\n",
       "<!-- 10 -->\n",
       "<g id=\"node11\" class=\"node\">\n",
       "<title>10</title>\n",
       "<polygon fill=\"none\" stroke=\"black\" points=\"718.5,-157 586.5,-157 586.5,-89 718.5,-89 718.5,-157\"/>\n",
       "<text text-anchor=\"middle\" x=\"652.5\" y=\"-141.8\" font-family=\"Helvetica,sans-Serif\" font-size=\"14.00\">precio &lt;= 1.402</text>\n",
       "<text text-anchor=\"middle\" x=\"652.5\" y=\"-126.8\" font-family=\"Helvetica,sans-Serif\" font-size=\"14.00\">gini = 0.239</text>\n",
       "<text text-anchor=\"middle\" x=\"652.5\" y=\"-111.8\" font-family=\"Helvetica,sans-Serif\" font-size=\"14.00\">samples = 1581</text>\n",
       "<text text-anchor=\"middle\" x=\"652.5\" y=\"-96.8\" font-family=\"Helvetica,sans-Serif\" font-size=\"14.00\">value = [1362, 219]</text>\n",
       "</g>\n",
       "<!-- 6&#45;&gt;10 -->\n",
       "<g id=\"edge10\" class=\"edge\">\n",
       "<title>6&#45;&gt;10</title>\n",
       "<path fill=\"none\" stroke=\"black\" d=\"M507.3,-192.88C529.61,-182.3 554.4,-170.54 577.09,-159.78\"/>\n",
       "<polygon fill=\"black\" stroke=\"black\" points=\"578.8,-162.84 586.33,-155.39 575.8,-156.51 578.8,-162.84\"/>\n",
       "</g>\n",
       "<!-- 8 -->\n",
       "<g id=\"node9\" class=\"node\">\n",
       "<title>8</title>\n",
       "<polygon fill=\"none\" stroke=\"black\" points=\"428.5,-53 296.5,-53 296.5,0 428.5,0 428.5,-53\"/>\n",
       "<text text-anchor=\"middle\" x=\"362.5\" y=\"-37.8\" font-family=\"Helvetica,sans-Serif\" font-size=\"14.00\">gini = 0.488</text>\n",
       "<text text-anchor=\"middle\" x=\"362.5\" y=\"-22.8\" font-family=\"Helvetica,sans-Serif\" font-size=\"14.00\">samples = 2217</text>\n",
       "<text text-anchor=\"middle\" x=\"362.5\" y=\"-7.8\" font-family=\"Helvetica,sans-Serif\" font-size=\"14.00\">value = [1277, 940]</text>\n",
       "</g>\n",
       "<!-- 7&#45;&gt;8 -->\n",
       "<g id=\"edge8\" class=\"edge\">\n",
       "<title>7&#45;&gt;8</title>\n",
       "<path fill=\"none\" stroke=\"black\" d=\"M411.27,-88.95C404.15,-79.98 396.44,-70.27 389.3,-61.26\"/>\n",
       "<polygon fill=\"black\" stroke=\"black\" points=\"391.88,-58.89 382.93,-53.24 386.4,-63.25 391.88,-58.89\"/>\n",
       "</g>\n",
       "<!-- 9 -->\n",
       "<g id=\"node10\" class=\"node\">\n",
       "<title>9</title>\n",
       "<polygon fill=\"none\" stroke=\"black\" points=\"572,-53 447,-53 447,0 572,0 572,-53\"/>\n",
       "<text text-anchor=\"middle\" x=\"509.5\" y=\"-37.8\" font-family=\"Helvetica,sans-Serif\" font-size=\"14.00\">gini = 0.45</text>\n",
       "<text text-anchor=\"middle\" x=\"509.5\" y=\"-22.8\" font-family=\"Helvetica,sans-Serif\" font-size=\"14.00\">samples = 412</text>\n",
       "<text text-anchor=\"middle\" x=\"509.5\" y=\"-7.8\" font-family=\"Helvetica,sans-Serif\" font-size=\"14.00\">value = [141, 271]</text>\n",
       "</g>\n",
       "<!-- 7&#45;&gt;9 -->\n",
       "<g id=\"edge9\" class=\"edge\">\n",
       "<title>7&#45;&gt;9</title>\n",
       "<path fill=\"none\" stroke=\"black\" d=\"M462.68,-88.95C469.51,-79.98 476.92,-70.27 483.78,-61.26\"/>\n",
       "<polygon fill=\"black\" stroke=\"black\" points=\"486.61,-63.31 489.89,-53.24 481.05,-59.07 486.61,-63.31\"/>\n",
       "</g>\n",
       "<!-- 11 -->\n",
       "<g id=\"node12\" class=\"node\">\n",
       "<title>11</title>\n",
       "<polygon fill=\"none\" stroke=\"black\" points=\"715,-53 590,-53 590,0 715,0 715,-53\"/>\n",
       "<text text-anchor=\"middle\" x=\"652.5\" y=\"-37.8\" font-family=\"Helvetica,sans-Serif\" font-size=\"14.00\">gini = 0.074</text>\n",
       "<text text-anchor=\"middle\" x=\"652.5\" y=\"-22.8\" font-family=\"Helvetica,sans-Serif\" font-size=\"14.00\">samples = 1334</text>\n",
       "<text text-anchor=\"middle\" x=\"652.5\" y=\"-7.8\" font-family=\"Helvetica,sans-Serif\" font-size=\"14.00\">value = [1283, 51]</text>\n",
       "</g>\n",
       "<!-- 10&#45;&gt;11 -->\n",
       "<g id=\"edge11\" class=\"edge\">\n",
       "<title>10&#45;&gt;11</title>\n",
       "<path fill=\"none\" stroke=\"black\" d=\"M652.5,-88.95C652.5,-80.72 652.5,-71.85 652.5,-63.48\"/>\n",
       "<polygon fill=\"black\" stroke=\"black\" points=\"656,-63.24 652.5,-53.24 649,-63.24 656,-63.24\"/>\n",
       "</g>\n",
       "<!-- 12 -->\n",
       "<g id=\"node13\" class=\"node\">\n",
       "<title>12</title>\n",
       "<polygon fill=\"none\" stroke=\"black\" points=\"850,-53 733,-53 733,0 850,0 850,-53\"/>\n",
       "<text text-anchor=\"middle\" x=\"791.5\" y=\"-37.8\" font-family=\"Helvetica,sans-Serif\" font-size=\"14.00\">gini = 0.435</text>\n",
       "<text text-anchor=\"middle\" x=\"791.5\" y=\"-22.8\" font-family=\"Helvetica,sans-Serif\" font-size=\"14.00\">samples = 247</text>\n",
       "<text text-anchor=\"middle\" x=\"791.5\" y=\"-7.8\" font-family=\"Helvetica,sans-Serif\" font-size=\"14.00\">value = [79, 168]</text>\n",
       "</g>\n",
       "<!-- 10&#45;&gt;12 -->\n",
       "<g id=\"edge12\" class=\"edge\">\n",
       "<title>10&#45;&gt;12</title>\n",
       "<path fill=\"none\" stroke=\"black\" d=\"M701.12,-88.95C715.38,-79.25 730.94,-68.68 745.06,-59.07\"/>\n",
       "<polygon fill=\"black\" stroke=\"black\" points=\"747.34,-61.75 753.64,-53.24 743.41,-55.96 747.34,-61.75\"/>\n",
       "</g>\n",
       "</g>\n",
       "</svg>\n"
      ],
      "text/plain": [
       "<graphviz.sources.Source at 0x14633c8a010>"
      ]
     },
     "execution_count": 52,
     "metadata": {},
     "output_type": "execute_result"
    }
   ],
   "source": [
    "from sklearn.tree import export_graphviz\n",
    "import graphviz\n",
    "\n",
    "features = x.columns\n",
    "dot_data = export_graphviz(model, feature_names = features)\n",
    "grafico = graphviz.Source(dot_data)\n",
    "grafico"
   ]
  },
  {
   "cell_type": "code",
   "execution_count": 53,
   "metadata": {
    "colab": {
     "base_uri": "https://localhost:8080/"
    },
    "executionInfo": {
     "elapsed": 145,
     "status": "ok",
     "timestamp": 1704508418103,
     "user": {
      "displayName": "Julio Paz Sosa",
      "userId": "02292233226635378098"
     },
     "user_tz": 360
    },
    "id": "KMxP7tp3nTIw",
    "outputId": "6199a726-447c-444d-a847-acc007a6252f"
   },
   "outputs": [
    {
     "name": "stdout",
     "output_type": "stream",
     "text": [
      "Entrenaremos con 7500 elementos y probaremos con 2500 elementos\n",
      "La tasa de acierto fue de: 78.04%\n"
     ]
    }
   ],
   "source": [
    "# Con datos sin estandarizar\n",
    "\n",
    "from sklearn.tree import DecisionTreeClassifier\n",
    "\n",
    "x = datos[['edad_del_modelo','km_por_ano','precio']]\n",
    "y = datos.vendido\n",
    "\n",
    "np.random.seed(SEED)\n",
    "\n",
    "x_train, x_test, y_train, y_test = train_test_split(x, y, test_size = 0.25, stratify = y)\n",
    "\n",
    "print('Entrenaremos con {} elementos y probaremos con {} elementos'.format((len(x_train)),(len(x_test))))\n",
    "\n",
    "model = DecisionTreeClassifier(max_depth = 3)\n",
    "model.fit(x_train, y_train)\n",
    "previsiones = model.predict(x_test)\n",
    "\n",
    "tasa_de_acierto = accuracy_score(y_test, previsiones)\n",
    "print(\"La tasa de acierto fue de: {}%\".format(round(tasa_de_acierto*100,2)))"
   ]
  },
  {
   "cell_type": "code",
   "execution_count": 54,
   "metadata": {
    "colab": {
     "base_uri": "https://localhost:8080/",
     "height": 598
    },
    "executionInfo": {
     "elapsed": 120,
     "status": "ok",
     "timestamp": 1704508687549,
     "user": {
      "displayName": "Julio Paz Sosa",
      "userId": "02292233226635378098"
     },
     "user_tz": 360
    },
    "id": "7nIH__rAohgu",
    "outputId": "232deae2-900a-4f0b-ffb7-1d3e15c6aa50"
   },
   "outputs": [
    {
     "data": {
      "image/svg+xml": [
       "<?xml version=\"1.0\" encoding=\"UTF-8\" standalone=\"no\"?>\n",
       "<!DOCTYPE svg PUBLIC \"-//W3C//DTD SVG 1.1//EN\"\n",
       " \"http://www.w3.org/Graphics/SVG/1.1/DTD/svg11.dtd\">\n",
       "<!-- Generated by graphviz version 2.50.0 (0)\n",
       " -->\n",
       "<!-- Title: Tree Pages: 1 -->\n",
       "<svg width=\"867pt\" height=\"433pt\"\n",
       " viewBox=\"0.00 0.00 867.00 433.00\" xmlns=\"http://www.w3.org/2000/svg\" xmlns:xlink=\"http://www.w3.org/1999/xlink\">\n",
       "<g id=\"graph0\" class=\"graph\" transform=\"scale(1 1) rotate(0) translate(4 429)\">\n",
       "<title>Tree</title>\n",
       "<polygon fill=\"white\" stroke=\"transparent\" points=\"-4,4 -4,-429 863,-429 863,4 -4,4\"/>\n",
       "<!-- 0 -->\n",
       "<g id=\"node1\" class=\"node\">\n",
       "<title>0</title>\n",
       "<path fill=\"#c8e4f8\" stroke=\"black\" d=\"M369,-425C369,-425 252,-425 252,-425 246,-425 240,-419 240,-413 240,-413 240,-354 240,-354 240,-348 246,-342 252,-342 252,-342 369,-342 369,-342 375,-342 381,-348 381,-354 381,-354 381,-413 381,-413 381,-419 375,-425 369,-425\"/>\n",
       "<text text-anchor=\"middle\" x=\"310.5\" y=\"-409.8\" font-family=\"Helvetica,sans-Serif\" font-size=\"14.00\">precio &lt;= 60069.984</text>\n",
       "<text text-anchor=\"middle\" x=\"310.5\" y=\"-394.8\" font-family=\"Helvetica,sans-Serif\" font-size=\"14.00\">gini = 0.487</text>\n",
       "<text text-anchor=\"middle\" x=\"310.5\" y=\"-379.8\" font-family=\"Helvetica,sans-Serif\" font-size=\"14.00\">samples = 7500</text>\n",
       "<text text-anchor=\"middle\" x=\"310.5\" y=\"-364.8\" font-family=\"Helvetica,sans-Serif\" font-size=\"14.00\">value = [3150, 4350]</text>\n",
       "<text text-anchor=\"middle\" x=\"310.5\" y=\"-349.8\" font-family=\"Helvetica,sans-Serif\" font-size=\"14.00\">class = Si</text>\n",
       "</g>\n",
       "<!-- 1 -->\n",
       "<g id=\"node2\" class=\"node\">\n",
       "<title>1</title>\n",
       "<path fill=\"#52a9e8\" stroke=\"black\" d=\"M280,-306C280,-306 163,-306 163,-306 157,-306 151,-300 151,-294 151,-294 151,-235 151,-235 151,-229 157,-223 163,-223 163,-223 280,-223 280,-223 286,-223 292,-229 292,-235 292,-235 292,-294 292,-294 292,-300 286,-306 280,-306\"/>\n",
       "<text text-anchor=\"middle\" x=\"221.5\" y=\"-290.8\" font-family=\"Helvetica,sans-Serif\" font-size=\"14.00\">precio &lt;= 40083.385</text>\n",
       "<text text-anchor=\"middle\" x=\"221.5\" y=\"-275.8\" font-family=\"Helvetica,sans-Serif\" font-size=\"14.00\">gini = 0.2</text>\n",
       "<text text-anchor=\"middle\" x=\"221.5\" y=\"-260.8\" font-family=\"Helvetica,sans-Serif\" font-size=\"14.00\">samples = 3290</text>\n",
       "<text text-anchor=\"middle\" x=\"221.5\" y=\"-245.8\" font-family=\"Helvetica,sans-Serif\" font-size=\"14.00\">value = [370, 2920]</text>\n",
       "<text text-anchor=\"middle\" x=\"221.5\" y=\"-230.8\" font-family=\"Helvetica,sans-Serif\" font-size=\"14.00\">class = Si</text>\n",
       "</g>\n",
       "<!-- 0&#45;&gt;1 -->\n",
       "<g id=\"edge1\" class=\"edge\">\n",
       "<title>0&#45;&gt;1</title>\n",
       "<path fill=\"none\" stroke=\"black\" d=\"M279.62,-341.91C272.79,-332.92 265.48,-323.32 258.43,-314.05\"/>\n",
       "<polygon fill=\"black\" stroke=\"black\" points=\"261.16,-311.86 252.32,-306.02 255.59,-316.1 261.16,-311.86\"/>\n",
       "<text text-anchor=\"middle\" x=\"248.96\" y=\"-327.09\" font-family=\"Helvetica,sans-Serif\" font-size=\"14.00\">True</text>\n",
       "</g>\n",
       "<!-- 6 -->\n",
       "<g id=\"node7\" class=\"node\">\n",
       "<title>6</title>\n",
       "<path fill=\"#f2c29f\" stroke=\"black\" d=\"M525,-306C525,-306 370,-306 370,-306 364,-306 358,-300 358,-294 358,-294 358,-235 358,-235 358,-229 364,-223 370,-223 370,-223 525,-223 525,-223 531,-223 537,-229 537,-235 537,-235 537,-294 537,-294 537,-300 531,-306 525,-306\"/>\n",
       "<text text-anchor=\"middle\" x=\"447.5\" y=\"-290.8\" font-family=\"Helvetica,sans-Serif\" font-size=\"14.00\">km_por_ano &lt;= 24124.811</text>\n",
       "<text text-anchor=\"middle\" x=\"447.5\" y=\"-275.8\" font-family=\"Helvetica,sans-Serif\" font-size=\"14.00\">gini = 0.449</text>\n",
       "<text text-anchor=\"middle\" x=\"447.5\" y=\"-260.8\" font-family=\"Helvetica,sans-Serif\" font-size=\"14.00\">samples = 4210</text>\n",
       "<text text-anchor=\"middle\" x=\"447.5\" y=\"-245.8\" font-family=\"Helvetica,sans-Serif\" font-size=\"14.00\">value = [2780, 1430]</text>\n",
       "<text text-anchor=\"middle\" x=\"447.5\" y=\"-230.8\" font-family=\"Helvetica,sans-Serif\" font-size=\"14.00\">class = No</text>\n",
       "</g>\n",
       "<!-- 0&#45;&gt;6 -->\n",
       "<g id=\"edge6\" class=\"edge\">\n",
       "<title>0&#45;&gt;6</title>\n",
       "<path fill=\"none\" stroke=\"black\" d=\"M358.03,-341.91C369.08,-332.47 380.94,-322.34 392.29,-312.65\"/>\n",
       "<polygon fill=\"black\" stroke=\"black\" points=\"394.72,-315.18 400.05,-306.02 390.18,-309.85 394.72,-315.18\"/>\n",
       "<text text-anchor=\"middle\" x=\"398.09\" y=\"-327.24\" font-family=\"Helvetica,sans-Serif\" font-size=\"14.00\">False</text>\n",
       "</g>\n",
       "<!-- 2 -->\n",
       "<g id=\"node3\" class=\"node\">\n",
       "<title>2</title>\n",
       "<path fill=\"#399de5\" stroke=\"black\" d=\"M105,-179.5C105,-179.5 12,-179.5 12,-179.5 6,-179.5 0,-173.5 0,-167.5 0,-167.5 0,-123.5 0,-123.5 0,-117.5 6,-111.5 12,-111.5 12,-111.5 105,-111.5 105,-111.5 111,-111.5 117,-117.5 117,-123.5 117,-123.5 117,-167.5 117,-167.5 117,-173.5 111,-179.5 105,-179.5\"/>\n",
       "<text text-anchor=\"middle\" x=\"58.5\" y=\"-164.3\" font-family=\"Helvetica,sans-Serif\" font-size=\"14.00\">gini = 0.0</text>\n",
       "<text text-anchor=\"middle\" x=\"58.5\" y=\"-149.3\" font-family=\"Helvetica,sans-Serif\" font-size=\"14.00\">samples = 1476</text>\n",
       "<text text-anchor=\"middle\" x=\"58.5\" y=\"-134.3\" font-family=\"Helvetica,sans-Serif\" font-size=\"14.00\">value = [0, 1476]</text>\n",
       "<text text-anchor=\"middle\" x=\"58.5\" y=\"-119.3\" font-family=\"Helvetica,sans-Serif\" font-size=\"14.00\">class = Si</text>\n",
       "</g>\n",
       "<!-- 1&#45;&gt;2 -->\n",
       "<g id=\"edge2\" class=\"edge\">\n",
       "<title>1&#45;&gt;2</title>\n",
       "<path fill=\"none\" stroke=\"black\" d=\"M164.95,-222.91C148.19,-210.88 129.88,-197.73 113.24,-185.79\"/>\n",
       "<polygon fill=\"black\" stroke=\"black\" points=\"114.87,-182.65 104.71,-179.67 110.79,-188.34 114.87,-182.65\"/>\n",
       "</g>\n",
       "<!-- 3 -->\n",
       "<g id=\"node4\" class=\"node\">\n",
       "<title>3</title>\n",
       "<path fill=\"#6cb6ec\" stroke=\"black\" d=\"M296,-187C296,-187 147,-187 147,-187 141,-187 135,-181 135,-175 135,-175 135,-116 135,-116 135,-110 141,-104 147,-104 147,-104 296,-104 296,-104 302,-104 308,-110 308,-116 308,-116 308,-175 308,-175 308,-181 302,-187 296,-187\"/>\n",
       "<text text-anchor=\"middle\" x=\"221.5\" y=\"-171.8\" font-family=\"Helvetica,sans-Serif\" font-size=\"14.00\">km_por_ano &lt;= 6426.899</text>\n",
       "<text text-anchor=\"middle\" x=\"221.5\" y=\"-156.8\" font-family=\"Helvetica,sans-Serif\" font-size=\"14.00\">gini = 0.325</text>\n",
       "<text text-anchor=\"middle\" x=\"221.5\" y=\"-141.8\" font-family=\"Helvetica,sans-Serif\" font-size=\"14.00\">samples = 1814</text>\n",
       "<text text-anchor=\"middle\" x=\"221.5\" y=\"-126.8\" font-family=\"Helvetica,sans-Serif\" font-size=\"14.00\">value = [370, 1444]</text>\n",
       "<text text-anchor=\"middle\" x=\"221.5\" y=\"-111.8\" font-family=\"Helvetica,sans-Serif\" font-size=\"14.00\">class = Si</text>\n",
       "</g>\n",
       "<!-- 1&#45;&gt;3 -->\n",
       "<g id=\"edge3\" class=\"edge\">\n",
       "<title>1&#45;&gt;3</title>\n",
       "<path fill=\"none\" stroke=\"black\" d=\"M221.5,-222.91C221.5,-214.65 221.5,-205.86 221.5,-197.3\"/>\n",
       "<polygon fill=\"black\" stroke=\"black\" points=\"225,-197.02 221.5,-187.02 218,-197.02 225,-197.02\"/>\n",
       "</g>\n",
       "<!-- 4 -->\n",
       "<g id=\"node5\" class=\"node\">\n",
       "<title>4</title>\n",
       "<path fill=\"#e58139\" stroke=\"black\" d=\"M125,-68C125,-68 54,-68 54,-68 48,-68 42,-62 42,-56 42,-56 42,-12 42,-12 42,-6 48,0 54,0 54,0 125,0 125,0 131,0 137,-6 137,-12 137,-12 137,-56 137,-56 137,-62 131,-68 125,-68\"/>\n",
       "<text text-anchor=\"middle\" x=\"89.5\" y=\"-52.8\" font-family=\"Helvetica,sans-Serif\" font-size=\"14.00\">gini = 0.0</text>\n",
       "<text text-anchor=\"middle\" x=\"89.5\" y=\"-37.8\" font-family=\"Helvetica,sans-Serif\" font-size=\"14.00\">samples = 3</text>\n",
       "<text text-anchor=\"middle\" x=\"89.5\" y=\"-22.8\" font-family=\"Helvetica,sans-Serif\" font-size=\"14.00\">value = [3, 0]</text>\n",
       "<text text-anchor=\"middle\" x=\"89.5\" y=\"-7.8\" font-family=\"Helvetica,sans-Serif\" font-size=\"14.00\">class = No</text>\n",
       "</g>\n",
       "<!-- 3&#45;&gt;4 -->\n",
       "<g id=\"edge4\" class=\"edge\">\n",
       "<title>3&#45;&gt;4</title>\n",
       "<path fill=\"none\" stroke=\"black\" d=\"M172.35,-103.73C160.91,-94.24 148.76,-84.16 137.38,-74.72\"/>\n",
       "<polygon fill=\"black\" stroke=\"black\" points=\"139.57,-71.99 129.64,-68.3 135.1,-77.38 139.57,-71.99\"/>\n",
       "</g>\n",
       "<!-- 5 -->\n",
       "<g id=\"node6\" class=\"node\">\n",
       "<title>5</title>\n",
       "<path fill=\"#6bb6ec\" stroke=\"black\" d=\"M275.5,-68C275.5,-68 167.5,-68 167.5,-68 161.5,-68 155.5,-62 155.5,-56 155.5,-56 155.5,-12 155.5,-12 155.5,-6 161.5,0 167.5,0 167.5,0 275.5,0 275.5,0 281.5,0 287.5,-6 287.5,-12 287.5,-12 287.5,-56 287.5,-56 287.5,-62 281.5,-68 275.5,-68\"/>\n",
       "<text text-anchor=\"middle\" x=\"221.5\" y=\"-52.8\" font-family=\"Helvetica,sans-Serif\" font-size=\"14.00\">gini = 0.323</text>\n",
       "<text text-anchor=\"middle\" x=\"221.5\" y=\"-37.8\" font-family=\"Helvetica,sans-Serif\" font-size=\"14.00\">samples = 1811</text>\n",
       "<text text-anchor=\"middle\" x=\"221.5\" y=\"-22.8\" font-family=\"Helvetica,sans-Serif\" font-size=\"14.00\">value = [367, 1444]</text>\n",
       "<text text-anchor=\"middle\" x=\"221.5\" y=\"-7.8\" font-family=\"Helvetica,sans-Serif\" font-size=\"14.00\">class = Si</text>\n",
       "</g>\n",
       "<!-- 3&#45;&gt;5 -->\n",
       "<g id=\"edge5\" class=\"edge\">\n",
       "<title>3&#45;&gt;5</title>\n",
       "<path fill=\"none\" stroke=\"black\" d=\"M221.5,-103.73C221.5,-95.52 221.5,-86.86 221.5,-78.56\"/>\n",
       "<polygon fill=\"black\" stroke=\"black\" points=\"225,-78.3 221.5,-68.3 218,-78.3 225,-78.3\"/>\n",
       "</g>\n",
       "<!-- 7 -->\n",
       "<g id=\"node8\" class=\"node\">\n",
       "<title>7</title>\n",
       "<path fill=\"#fbede2\" stroke=\"black\" d=\"M510,-187C510,-187 385,-187 385,-187 379,-187 373,-181 373,-175 373,-175 373,-116 373,-116 373,-110 379,-104 385,-104 385,-104 510,-104 510,-104 516,-104 522,-110 522,-116 522,-116 522,-175 522,-175 522,-181 516,-187 510,-187\"/>\n",
       "<text text-anchor=\"middle\" x=\"447.5\" y=\"-171.8\" font-family=\"Helvetica,sans-Serif\" font-size=\"14.00\">precio &lt;= 100058.801</text>\n",
       "<text text-anchor=\"middle\" x=\"447.5\" y=\"-156.8\" font-family=\"Helvetica,sans-Serif\" font-size=\"14.00\">gini = 0.497</text>\n",
       "<text text-anchor=\"middle\" x=\"447.5\" y=\"-141.8\" font-family=\"Helvetica,sans-Serif\" font-size=\"14.00\">samples = 2629</text>\n",
       "<text text-anchor=\"middle\" x=\"447.5\" y=\"-126.8\" font-family=\"Helvetica,sans-Serif\" font-size=\"14.00\">value = [1418, 1211]</text>\n",
       "<text text-anchor=\"middle\" x=\"447.5\" y=\"-111.8\" font-family=\"Helvetica,sans-Serif\" font-size=\"14.00\">class = No</text>\n",
       "</g>\n",
       "<!-- 6&#45;&gt;7 -->\n",
       "<g id=\"edge7\" class=\"edge\">\n",
       "<title>6&#45;&gt;7</title>\n",
       "<path fill=\"none\" stroke=\"black\" d=\"M447.5,-222.91C447.5,-214.65 447.5,-205.86 447.5,-197.3\"/>\n",
       "<polygon fill=\"black\" stroke=\"black\" points=\"451,-197.02 447.5,-187.02 444,-197.02 451,-197.02\"/>\n",
       "</g>\n",
       "<!-- 10 -->\n",
       "<g id=\"node11\" class=\"node\">\n",
       "<title>10</title>\n",
       "<path fill=\"#e99559\" stroke=\"black\" d=\"M724,-187C724,-187 599,-187 599,-187 593,-187 587,-181 587,-175 587,-175 587,-116 587,-116 587,-110 593,-104 599,-104 599,-104 724,-104 724,-104 730,-104 736,-110 736,-116 736,-116 736,-175 736,-175 736,-181 730,-187 724,-187\"/>\n",
       "<text text-anchor=\"middle\" x=\"661.5\" y=\"-171.8\" font-family=\"Helvetica,sans-Serif\" font-size=\"14.00\">precio &lt;= 100076.957</text>\n",
       "<text text-anchor=\"middle\" x=\"661.5\" y=\"-156.8\" font-family=\"Helvetica,sans-Serif\" font-size=\"14.00\">gini = 0.239</text>\n",
       "<text text-anchor=\"middle\" x=\"661.5\" y=\"-141.8\" font-family=\"Helvetica,sans-Serif\" font-size=\"14.00\">samples = 1581</text>\n",
       "<text text-anchor=\"middle\" x=\"661.5\" y=\"-126.8\" font-family=\"Helvetica,sans-Serif\" font-size=\"14.00\">value = [1362, 219]</text>\n",
       "<text text-anchor=\"middle\" x=\"661.5\" y=\"-111.8\" font-family=\"Helvetica,sans-Serif\" font-size=\"14.00\">class = No</text>\n",
       "</g>\n",
       "<!-- 6&#45;&gt;10 -->\n",
       "<g id=\"edge10\" class=\"edge\">\n",
       "<title>6&#45;&gt;10</title>\n",
       "<path fill=\"none\" stroke=\"black\" d=\"M521.75,-222.91C540.09,-212.88 559.85,-202.07 578.58,-191.84\"/>\n",
       "<polygon fill=\"black\" stroke=\"black\" points=\"580.29,-194.89 587.39,-187.02 576.93,-188.75 580.29,-194.89\"/>\n",
       "</g>\n",
       "<!-- 8 -->\n",
       "<g id=\"node9\" class=\"node\">\n",
       "<title>8</title>\n",
       "<path fill=\"#f8decb\" stroke=\"black\" d=\"M425.5,-68C425.5,-68 317.5,-68 317.5,-68 311.5,-68 305.5,-62 305.5,-56 305.5,-56 305.5,-12 305.5,-12 305.5,-6 311.5,0 317.5,0 317.5,0 425.5,0 425.5,0 431.5,0 437.5,-6 437.5,-12 437.5,-12 437.5,-56 437.5,-56 437.5,-62 431.5,-68 425.5,-68\"/>\n",
       "<text text-anchor=\"middle\" x=\"371.5\" y=\"-52.8\" font-family=\"Helvetica,sans-Serif\" font-size=\"14.00\">gini = 0.488</text>\n",
       "<text text-anchor=\"middle\" x=\"371.5\" y=\"-37.8\" font-family=\"Helvetica,sans-Serif\" font-size=\"14.00\">samples = 2217</text>\n",
       "<text text-anchor=\"middle\" x=\"371.5\" y=\"-22.8\" font-family=\"Helvetica,sans-Serif\" font-size=\"14.00\">value = [1277, 940]</text>\n",
       "<text text-anchor=\"middle\" x=\"371.5\" y=\"-7.8\" font-family=\"Helvetica,sans-Serif\" font-size=\"14.00\">class = No</text>\n",
       "</g>\n",
       "<!-- 7&#45;&gt;8 -->\n",
       "<g id=\"edge8\" class=\"edge\">\n",
       "<title>7&#45;&gt;8</title>\n",
       "<path fill=\"none\" stroke=\"black\" d=\"M419.2,-103.73C413.06,-94.88 406.56,-85.51 400.39,-76.63\"/>\n",
       "<polygon fill=\"black\" stroke=\"black\" points=\"403.19,-74.52 394.61,-68.3 397.44,-78.51 403.19,-74.52\"/>\n",
       "</g>\n",
       "<!-- 9 -->\n",
       "<g id=\"node10\" class=\"node\">\n",
       "<title>9</title>\n",
       "<path fill=\"#a0d0f3\" stroke=\"black\" d=\"M569,-68C569,-68 468,-68 468,-68 462,-68 456,-62 456,-56 456,-56 456,-12 456,-12 456,-6 462,0 468,0 468,0 569,0 569,0 575,0 581,-6 581,-12 581,-12 581,-56 581,-56 581,-62 575,-68 569,-68\"/>\n",
       "<text text-anchor=\"middle\" x=\"518.5\" y=\"-52.8\" font-family=\"Helvetica,sans-Serif\" font-size=\"14.00\">gini = 0.45</text>\n",
       "<text text-anchor=\"middle\" x=\"518.5\" y=\"-37.8\" font-family=\"Helvetica,sans-Serif\" font-size=\"14.00\">samples = 412</text>\n",
       "<text text-anchor=\"middle\" x=\"518.5\" y=\"-22.8\" font-family=\"Helvetica,sans-Serif\" font-size=\"14.00\">value = [141, 271]</text>\n",
       "<text text-anchor=\"middle\" x=\"518.5\" y=\"-7.8\" font-family=\"Helvetica,sans-Serif\" font-size=\"14.00\">class = Si</text>\n",
       "</g>\n",
       "<!-- 7&#45;&gt;9 -->\n",
       "<g id=\"edge9\" class=\"edge\">\n",
       "<title>7&#45;&gt;9</title>\n",
       "<path fill=\"none\" stroke=\"black\" d=\"M473.94,-103.73C479.62,-94.97 485.62,-85.7 491.33,-76.91\"/>\n",
       "<polygon fill=\"black\" stroke=\"black\" points=\"494.4,-78.59 496.91,-68.3 488.53,-74.79 494.4,-78.59\"/>\n",
       "</g>\n",
       "<!-- 11 -->\n",
       "<g id=\"node12\" class=\"node\">\n",
       "<title>11</title>\n",
       "<path fill=\"#e68641\" stroke=\"black\" d=\"M712,-68C712,-68 611,-68 611,-68 605,-68 599,-62 599,-56 599,-56 599,-12 599,-12 599,-6 605,0 611,0 611,0 712,0 712,0 718,0 724,-6 724,-12 724,-12 724,-56 724,-56 724,-62 718,-68 712,-68\"/>\n",
       "<text text-anchor=\"middle\" x=\"661.5\" y=\"-52.8\" font-family=\"Helvetica,sans-Serif\" font-size=\"14.00\">gini = 0.074</text>\n",
       "<text text-anchor=\"middle\" x=\"661.5\" y=\"-37.8\" font-family=\"Helvetica,sans-Serif\" font-size=\"14.00\">samples = 1334</text>\n",
       "<text text-anchor=\"middle\" x=\"661.5\" y=\"-22.8\" font-family=\"Helvetica,sans-Serif\" font-size=\"14.00\">value = [1283, 51]</text>\n",
       "<text text-anchor=\"middle\" x=\"661.5\" y=\"-7.8\" font-family=\"Helvetica,sans-Serif\" font-size=\"14.00\">class = No</text>\n",
       "</g>\n",
       "<!-- 10&#45;&gt;11 -->\n",
       "<g id=\"edge11\" class=\"edge\">\n",
       "<title>10&#45;&gt;11</title>\n",
       "<path fill=\"none\" stroke=\"black\" d=\"M661.5,-103.73C661.5,-95.52 661.5,-86.86 661.5,-78.56\"/>\n",
       "<polygon fill=\"black\" stroke=\"black\" points=\"665,-78.3 661.5,-68.3 658,-78.3 665,-78.3\"/>\n",
       "</g>\n",
       "<!-- 12 -->\n",
       "<g id=\"node13\" class=\"node\">\n",
       "<title>12</title>\n",
       "<path fill=\"#96cbf1\" stroke=\"black\" d=\"M847,-68C847,-68 754,-68 754,-68 748,-68 742,-62 742,-56 742,-56 742,-12 742,-12 742,-6 748,0 754,0 754,0 847,0 847,0 853,0 859,-6 859,-12 859,-12 859,-56 859,-56 859,-62 853,-68 847,-68\"/>\n",
       "<text text-anchor=\"middle\" x=\"800.5\" y=\"-52.8\" font-family=\"Helvetica,sans-Serif\" font-size=\"14.00\">gini = 0.435</text>\n",
       "<text text-anchor=\"middle\" x=\"800.5\" y=\"-37.8\" font-family=\"Helvetica,sans-Serif\" font-size=\"14.00\">samples = 247</text>\n",
       "<text text-anchor=\"middle\" x=\"800.5\" y=\"-22.8\" font-family=\"Helvetica,sans-Serif\" font-size=\"14.00\">value = [79, 168]</text>\n",
       "<text text-anchor=\"middle\" x=\"800.5\" y=\"-7.8\" font-family=\"Helvetica,sans-Serif\" font-size=\"14.00\">class = Si</text>\n",
       "</g>\n",
       "<!-- 10&#45;&gt;12 -->\n",
       "<g id=\"edge12\" class=\"edge\">\n",
       "<title>10&#45;&gt;12</title>\n",
       "<path fill=\"none\" stroke=\"black\" d=\"M713.26,-103.73C725.3,-94.24 738.1,-84.16 750.08,-74.72\"/>\n",
       "<polygon fill=\"black\" stroke=\"black\" points=\"752.54,-77.24 758.23,-68.3 748.21,-71.74 752.54,-77.24\"/>\n",
       "</g>\n",
       "</g>\n",
       "</svg>\n"
      ],
      "text/plain": [
       "<graphviz.sources.Source at 0x14633cadc50>"
      ]
     },
     "execution_count": 54,
     "metadata": {},
     "output_type": "execute_result"
    }
   ],
   "source": [
    "features = x.columns\n",
    "dot_data = export_graphviz(model, feature_names = features, filled = True, rounded = True, class_names = ['No', 'Si'])\n",
    "grafico = graphviz.Source(dot_data)\n",
    "grafico"
   ]
  }
 ],
 "metadata": {
  "colab": {
   "authorship_tag": "ABX9TyNUYxFiJq8X00FKlBKD4sOp",
   "provenance": []
  },
  "kernelspec": {
   "display_name": "Python 3 (ipykernel)",
   "language": "python",
   "name": "python3"
  },
  "language_info": {
   "codemirror_mode": {
    "name": "ipython",
    "version": 3
   },
   "file_extension": ".py",
   "mimetype": "text/x-python",
   "name": "python",
   "nbconvert_exporter": "python",
   "pygments_lexer": "ipython3",
   "version": "3.11.5"
  }
 },
 "nbformat": 4,
 "nbformat_minor": 4
}
