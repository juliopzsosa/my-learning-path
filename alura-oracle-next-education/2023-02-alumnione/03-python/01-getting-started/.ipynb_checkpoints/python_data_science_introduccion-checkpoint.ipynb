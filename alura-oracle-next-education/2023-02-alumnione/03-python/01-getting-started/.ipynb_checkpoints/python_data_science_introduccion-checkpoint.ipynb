{
  "nbformat": 4,
  "nbformat_minor": 0,
  "metadata": {
    "colab": {
      "provenance": []
    },
    "kernelspec": {
      "name": "python3",
      "display_name": "Python 3"
    },
    "language_info": {
      "name": "python"
    }
  },
  "cells": [
    {
      "cell_type": "markdown",
      "source": [
        "**Python for Data Science - Intro to the Language**\n",
        "\n"
      ],
      "metadata": {
        "id": "wSmPrp7hoIFB"
      }
    },
    {
      "cell_type": "markdown",
      "source": [
        "## **Foundations**"
      ],
      "metadata": {
        "id": "p4_RTgzcqS6A"
      }
    },
    {
      "cell_type": "markdown",
      "source": [
        "### Function"
      ],
      "metadata": {
        "id": "O7MHynIb_REe"
      }
    },
    {
      "cell_type": "code",
      "source": [
        "def greeting():\n",
        "  name = input(\"Enter your name: \")\n",
        "  print(f\"Welcome, {name}!\")"
      ],
      "metadata": {
        "id": "fzm4zV4_qZmN"
      },
      "execution_count": null,
      "outputs": []
    },
    {
      "cell_type": "code",
      "source": [
        "greeting()"
      ],
      "metadata": {
        "id": "H_DFsNqXs45g"
      },
      "execution_count": null,
      "outputs": []
    },
    {
      "cell_type": "markdown",
      "source": [
        "### Function with parameters"
      ],
      "metadata": {
        "id": "TeeD9pVI_amH"
      }
    },
    {
      "cell_type": "code",
      "source": [
        "def greet_w_param(name):\n",
        "  print(f\"Welcome, {name}!\")"
      ],
      "metadata": {
        "id": "tadCmpJi_q7U"
      },
      "execution_count": null,
      "outputs": []
    },
    {
      "cell_type": "code",
      "source": [
        "name = input(\"Enter your name: \")\n",
        "\n",
        "greet_w_param(name)"
      ],
      "metadata": {
        "id": "RLw51ztJ_2TU"
      },
      "execution_count": null,
      "outputs": []
    },
    {
      "cell_type": "markdown",
      "source": [
        " - Example 1"
      ],
      "metadata": {
        "id": "2V117nhRGQ9L"
      }
    },
    {
      "cell_type": "code",
      "source": [
        "def s(d,t):\n",
        "  v = d/t\n",
        "  print(f\"Velocity = {v} m/s\")"
      ],
      "metadata": {
        "id": "eZAAhxVTGTYy"
      },
      "execution_count": null,
      "outputs": []
    },
    {
      "cell_type": "code",
      "source": [
        "v(100,20)"
      ],
      "metadata": {
        "id": "uuCT6ZmiGtqG"
      },
      "execution_count": null,
      "outputs": []
    },
    {
      "cell_type": "markdown",
      "source": [
        "### Conditions"
      ],
      "metadata": {
        "id": "OBK4Hn6GHhqD"
      }
    },
    {
      "cell_type": "code",
      "source": [
        "age = int(input(\"Enter your age: \"))\n",
        "\n",
        "def age_verification(age):\n",
        "  if age >= 21:\n",
        "    print(\"You may have a driver's license\")\n",
        "  else:\n",
        "    print(\"You may not have a driver's license.\")\n",
        "\n",
        "age_verification(age)"
      ],
      "metadata": {
        "id": "qmORz1NBHvy0"
      },
      "execution_count": null,
      "outputs": []
    },
    {
      "cell_type": "markdown",
      "source": [
        "### Lists"
      ],
      "metadata": {
        "id": "8yAm68QfNIjH"
      }
    },
    {
      "cell_type": "code",
      "source": [
        "ages = [18, 15, 12, 45, 50]"
      ],
      "metadata": {
        "id": "0pR29c5iNLfd"
      },
      "execution_count": null,
      "outputs": []
    },
    {
      "cell_type": "code",
      "source": [
        "ages[0]"
      ],
      "metadata": {
        "id": "nY0911meONmo"
      },
      "execution_count": null,
      "outputs": []
    },
    {
      "cell_type": "code",
      "source": [
        "ages[1:3]"
      ],
      "metadata": {
        "id": "UHAx5OzWOQwO"
      },
      "execution_count": null,
      "outputs": []
    },
    {
      "cell_type": "code",
      "source": [
        "ages[2:]"
      ],
      "metadata": {
        "id": "wpDu1OZ8ObR2",
        "colab": {
          "base_uri": "https://localhost:8080/"
        },
        "outputId": "72ce1f81-f573-4d7b-f5be-ea6de3f33f8d"
      },
      "execution_count": null,
      "outputs": [
        {
          "output_type": "execute_result",
          "data": {
            "text/plain": [
              "[12, 45, 50]"
            ]
          },
          "metadata": {},
          "execution_count": 3
        }
      ]
    },
    {
      "cell_type": "markdown",
      "source": [
        "We can call the values of the list in reverse order using negative indexes\n",
        "\n",
        "```python\n",
        "ages = [18, 15, 12, 45, 50]\n",
        "# Negative indexes\n",
        "# [0, -4, -3, -2, -1]\n",
        "```"
      ],
      "metadata": {
        "id": "Hxh0IePJOwE2"
      }
    },
    {
      "cell_type": "code",
      "source": [
        "ages[-4]"
      ],
      "metadata": {
        "colab": {
          "base_uri": "https://localhost:8080/"
        },
        "id": "_bpNgVZCPfzI",
        "outputId": "d0b88d46-e363-439f-8dc8-296e5e91d14c"
      },
      "execution_count": null,
      "outputs": [
        {
          "output_type": "execute_result",
          "data": {
            "text/plain": [
              "15"
            ]
          },
          "metadata": {},
          "execution_count": 43
        }
      ]
    },
    {
      "cell_type": "markdown",
      "source": [
        "### Loops"
      ],
      "metadata": {
        "id": "mSmc2TAtVTg5"
      }
    },
    {
      "cell_type": "code",
      "source": [
        "# For loop outside the function\n",
        "\n",
        "ages = [18, 15, 12, 45, 50]\n",
        "\n",
        "def age_verification_ins_for(age):\n",
        "  if age >= 21:\n",
        "    print(\"You may have a driver's license\")\n",
        "  else:\n",
        "    print(\"You may not have a driver's license.\")\n",
        "\n",
        "for age in ages:\n",
        "  age_verification_ins_for(age)"
      ],
      "metadata": {
        "colab": {
          "base_uri": "https://localhost:8080/"
        },
        "id": "fuJxfMhYVVoM",
        "outputId": "4c451f35-fe6b-47e4-c3a3-e2c281a94908"
      },
      "execution_count": null,
      "outputs": [
        {
          "output_type": "stream",
          "name": "stdout",
          "text": [
            "You may not have a driver's license.\n",
            "You may not have a driver's license.\n",
            "You may not have a driver's license.\n",
            "You may have a driver's license\n",
            "You may have a driver's license\n"
          ]
        }
      ]
    },
    {
      "cell_type": "code",
      "source": [
        "# For loop inside the function\n",
        "\n",
        "ages = [18, 15, 12, 45, 50]\n",
        "\n",
        "def age_verification_out_for(age):\n",
        "  for age in ages:\n",
        "    if age >= 21:\n",
        "      print(\"You may have a driver's license\")\n",
        "    else:\n",
        "      print(\"You may not have a driver's license.\")\n",
        "\n",
        "age_verification_out_for(age)"
      ],
      "metadata": {
        "colab": {
          "base_uri": "https://localhost:8080/"
        },
        "id": "WPAFb0yVWank",
        "outputId": "997e6069-2384-4fc2-8add-005b6bd05381"
      },
      "execution_count": null,
      "outputs": [
        {
          "output_type": "stream",
          "name": "stdout",
          "text": [
            "You may not have a driver's license.\n",
            "You may not have a driver's license.\n",
            "You may not have a driver's license.\n",
            "You may have a driver's license\n",
            "You may have a driver's license\n"
          ]
        }
      ]
    },
    {
      "cell_type": "markdown",
      "source": [
        "### Boolean"
      ],
      "metadata": {
        "id": "uDhc3Wl0Yucp"
      }
    },
    {
      "cell_type": "code",
      "source": [
        "verifications = []\n",
        "\n",
        "ages = [13,15,20]\n",
        "\n",
        "def age_verification_bool(verifications,ages):\n",
        "  for age in ages:\n",
        "    if age >= 18:\n",
        "      verifications.append(True)\n",
        "    else:\n",
        "      verifications.append(False)\n",
        "  for verification in verifications:\n",
        "    if verification == True:\n",
        "      print(\"You may have a driver's license\")\n",
        "    else:\n",
        "      print(\"You may not have a driver's license.\")\n",
        "\n",
        "age_verification_bool(verifications,ages)\n",
        "\n",
        "verifications"
      ],
      "metadata": {
        "colab": {
          "base_uri": "https://localhost:8080/"
        },
        "id": "a8sIwwIOjerX",
        "outputId": "b22f2f4d-d1af-4162-ca94-83d214ee89ad"
      },
      "execution_count": null,
      "outputs": [
        {
          "output_type": "stream",
          "name": "stdout",
          "text": [
            "You may not have a driver's license.\n",
            "You may not have a driver's license.\n",
            "You may have a driver's license\n"
          ]
        },
        {
          "output_type": "execute_result",
          "data": {
            "text/plain": [
              "[False, False, True]"
            ]
          },
          "metadata": {},
          "execution_count": 25
        }
      ]
    },
    {
      "cell_type": "markdown",
      "source": [
        "### List with different types of data"
      ],
      "metadata": {
        "id": "2EXLdALJ7lUB"
      }
    },
    {
      "cell_type": "code",
      "source": [
        "person = ['Mariana',25,True,'México']\n",
        "\n",
        "for element in person:\n",
        "  print(f\"The {element} property is of type\",type(element))\n",
        "\n",
        "person"
      ],
      "metadata": {
        "colab": {
          "base_uri": "https://localhost:8080/"
        },
        "id": "6muu_y4u7xzb",
        "outputId": "fec5cce7-ea05-4cc5-e626-6365cfc09b87"
      },
      "execution_count": null,
      "outputs": [
        {
          "output_type": "stream",
          "name": "stdout",
          "text": [
            "The Mariana property is of type <class 'str'>\n",
            "The 25 property is of type <class 'int'>\n",
            "The True property is of type <class 'bool'>\n",
            "The México property is of type <class 'str'>\n"
          ]
        }
      ]
    },
    {
      "cell_type": "markdown",
      "source": [
        "### Libraries"
      ],
      "metadata": {
        "id": "XPAYLXwp6UZC"
      }
    },
    {
      "cell_type": "code",
      "source": [
        "from random import randrange, seed\n",
        "# from <library> import <module>\n",
        "\n",
        "randrange(0,11)"
      ],
      "metadata": {
        "colab": {
          "base_uri": "https://localhost:8080/"
        },
        "id": "0OTndAEu6Wjw",
        "outputId": "b9803ab1-7475-4bf2-8e6b-75f9d8f6c517"
      },
      "execution_count": null,
      "outputs": [
        {
          "output_type": "execute_result",
          "data": {
            "text/plain": [
              "1"
            ]
          },
          "metadata": {},
          "execution_count": 41
        }
      ]
    },
    {
      "cell_type": "code",
      "source": [
        "math_grades = []\n",
        "seed(8)\n",
        "\n",
        "for notes in range(6):\n",
        "  math_grades.append(randrange(0,11))\n",
        "\n",
        "math_grades"
      ],
      "metadata": {
        "colab": {
          "base_uri": "https://localhost:8080/"
        },
        "id": "kZgsc-Z78Fw4",
        "outputId": "3e9bcc0a-d082-4513-fd16-ed12239c1957"
      },
      "execution_count": null,
      "outputs": [
        {
          "output_type": "execute_result",
          "data": {
            "text/plain": [
              "[3, 5, 6, 2, 3, 0]"
            ]
          },
          "metadata": {},
          "execution_count": 42
        }
      ]
    },
    {
      "cell_type": "code",
      "source": [
        "len(math_grades)"
      ],
      "metadata": {
        "colab": {
          "base_uri": "https://localhost:8080/"
        },
        "id": "Rx9BxcnH-6ES",
        "outputId": "608edbc0-6edb-4627-b34b-ce37efa358a6"
      },
      "execution_count": null,
      "outputs": [
        {
          "output_type": "execute_result",
          "data": {
            "text/plain": [
              "6"
            ]
          },
          "metadata": {},
          "execution_count": 43
        }
      ]
    },
    {
      "cell_type": "markdown",
      "source": [
        "### Plots"
      ],
      "metadata": {
        "id": "sn466gl9-pxj"
      }
    },
    {
      "cell_type": "code",
      "source": [
        "import matplotlib.pyplot as plt\n",
        "\n",
        "x = list(range(1,7))\n",
        "y = math_grades\n",
        "\n",
        "plt.plot(x,y, marker = 'o')\n",
        "plt.title(\"Math Grades\")\n",
        "plt.xlabel('Notes')\n",
        "plt.ylabel('Tests')\n",
        "plt.show()\n"
      ],
      "metadata": {
        "colab": {
          "base_uri": "https://localhost:8080/",
          "height": 472
        },
        "id": "d5wRb3Oc-r3C",
        "outputId": "ccea214b-b373-4c51-b4c1-58c50c0ec75c"
      },
      "execution_count": null,
      "outputs": [
        {
          "output_type": "display_data",
          "data": {
            "text/plain": [
              "<Figure size 640x480 with 1 Axes>"
            ],
            "image/png": "[encoded data removed]"
          },
          "metadata": {}
        }
      ]
    },
    {
      "cell_type": "code",
      "source": [],
      "metadata": {
        "id": "OPiTCW2JArEi"
      },
      "execution_count": null,
      "outputs": []
    }
  ]
}