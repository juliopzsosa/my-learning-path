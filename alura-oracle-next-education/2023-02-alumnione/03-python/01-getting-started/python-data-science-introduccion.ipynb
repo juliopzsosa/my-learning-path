{
 "cells": [
  {
   "cell_type": "markdown",
   "metadata": {
    "id": "wSmPrp7hoIFB"
   },
   "source": [
    "**Python for Data Science - Intro to the Language**\n",
    "\n"
   ]
  },
  {
   "cell_type": "markdown",
   "metadata": {
    "id": "p4_RTgzcqS6A"
   },
   "source": [
    "## **Foundations**"
   ]
  },
  {
   "cell_type": "markdown",
   "metadata": {
    "id": "O7MHynIb_REe"
   },
   "source": [
    "### Function"
   ]
  },
  {
   "cell_type": "code",
   "execution_count": 2,
   "metadata": {
    "id": "fzm4zV4_qZmN"
   },
   "outputs": [],
   "source": [
    "def greeting():\n",
    "  name = input(\"Enter your name: \")\n",
    "  print(f\"Welcome, {name}!\")"
   ]
  },
  {
   "cell_type": "code",
   "execution_count": 3,
   "metadata": {
    "id": "H_DFsNqXs45g"
   },
   "outputs": [
    {
     "name": "stdin",
     "output_type": "stream",
     "text": [
      "Enter your name:  Julio\n"
     ]
    },
    {
     "name": "stdout",
     "output_type": "stream",
     "text": [
      "Welcome, Julio!\n"
     ]
    }
   ],
   "source": [
    "greeting()"
   ]
  },
  {
   "cell_type": "markdown",
   "metadata": {
    "id": "TeeD9pVI_amH"
   },
   "source": [
    "### Function with parameters"
   ]
  },
  {
   "cell_type": "code",
   "execution_count": 4,
   "metadata": {
    "id": "tadCmpJi_q7U"
   },
   "outputs": [],
   "source": [
    "def greet_w_param(name):\n",
    "  print(f\"Welcome, {name}!\")"
   ]
  },
  {
   "cell_type": "code",
   "execution_count": 5,
   "metadata": {
    "id": "RLw51ztJ_2TU"
   },
   "outputs": [
    {
     "name": "stdin",
     "output_type": "stream",
     "text": [
      "Enter your name:  Julio\n"
     ]
    },
    {
     "name": "stdout",
     "output_type": "stream",
     "text": [
      "Welcome, Julio!\n"
     ]
    }
   ],
   "source": [
    "name = input(\"Enter your name: \")\n",
    "\n",
    "greet_w_param(name)"
   ]
  },
  {
   "cell_type": "markdown",
   "metadata": {
    "id": "2V117nhRGQ9L"
   },
   "source": [
    " - Example 1"
   ]
  },
  {
   "cell_type": "code",
   "execution_count": 6,
   "metadata": {
    "id": "eZAAhxVTGTYy"
   },
   "outputs": [],
   "source": [
    "def v(d,t):\n",
    "  v = d/t\n",
    "  print(f\"Velocity = {v} m/s\")"
   ]
  },
  {
   "cell_type": "code",
   "execution_count": 7,
   "metadata": {
    "id": "uuCT6ZmiGtqG"
   },
   "outputs": [
    {
     "name": "stdout",
     "output_type": "stream",
     "text": [
      "Velocity = 5.0 m/s\n"
     ]
    }
   ],
   "source": [
    "v(100,20)"
   ]
  },
  {
   "cell_type": "markdown",
   "metadata": {
    "id": "OBK4Hn6GHhqD"
   },
   "source": [
    "### Conditions"
   ]
  },
  {
   "cell_type": "code",
   "execution_count": 8,
   "metadata": {
    "id": "qmORz1NBHvy0"
   },
   "outputs": [
    {
     "name": "stdin",
     "output_type": "stream",
     "text": [
      "Enter your age:  21\n"
     ]
    },
    {
     "name": "stdout",
     "output_type": "stream",
     "text": [
      "You may have a driver's license\n"
     ]
    }
   ],
   "source": [
    "age = int(input(\"Enter your age: \"))\n",
    "\n",
    "def age_verification(age):\n",
    "  if age >= 21:\n",
    "    print(\"You may have a driver's license\")\n",
    "  else:\n",
    "    print(\"You may not have a driver's license.\")\n",
    "\n",
    "age_verification(age)"
   ]
  },
  {
   "cell_type": "markdown",
   "metadata": {
    "id": "8yAm68QfNIjH"
   },
   "source": [
    "### Lists"
   ]
  },
  {
   "cell_type": "code",
   "execution_count": 9,
   "metadata": {
    "id": "0pR29c5iNLfd"
   },
   "outputs": [],
   "source": [
    "ages = [18, 15, 12, 45, 50]"
   ]
  },
  {
   "cell_type": "code",
   "execution_count": 10,
   "metadata": {
    "id": "nY0911meONmo"
   },
   "outputs": [
    {
     "data": {
      "text/plain": [
       "18"
      ]
     },
     "execution_count": 10,
     "metadata": {},
     "output_type": "execute_result"
    }
   ],
   "source": [
    "ages[0]"
   ]
  },
  {
   "cell_type": "code",
   "execution_count": 11,
   "metadata": {
    "id": "UHAx5OzWOQwO"
   },
   "outputs": [
    {
     "data": {
      "text/plain": [
       "[15, 12]"
      ]
     },
     "execution_count": 11,
     "metadata": {},
     "output_type": "execute_result"
    }
   ],
   "source": [
    "ages[1:3]"
   ]
  },
  {
   "cell_type": "code",
   "execution_count": 12,
   "metadata": {
    "colab": {
     "base_uri": "https://localhost:8080/"
    },
    "id": "wpDu1OZ8ObR2",
    "outputId": "72ce1f81-f573-4d7b-f5be-ea6de3f33f8d"
   },
   "outputs": [
    {
     "data": {
      "text/plain": [
       "[12, 45, 50]"
      ]
     },
     "execution_count": 12,
     "metadata": {},
     "output_type": "execute_result"
    }
   ],
   "source": [
    "ages[2:]"
   ]
  },
  {
   "cell_type": "markdown",
   "metadata": {
    "id": "Hxh0IePJOwE2"
   },
   "source": [
    "We can call the values of the list in reverse order using negative indexes\n",
    "\n",
    "```python\n",
    "ages = [18, 15, 12, 45, 50]\n",
    "# Negative indexes\n",
    "# [0, -4, -3, -2, -1]\n",
    "```"
   ]
  },
  {
   "cell_type": "code",
   "execution_count": 13,
   "metadata": {
    "colab": {
     "base_uri": "https://localhost:8080/"
    },
    "id": "_bpNgVZCPfzI",
    "outputId": "d0b88d46-e363-439f-8dc8-296e5e91d14c"
   },
   "outputs": [
    {
     "data": {
      "text/plain": [
       "15"
      ]
     },
     "execution_count": 13,
     "metadata": {},
     "output_type": "execute_result"
    }
   ],
   "source": [
    "ages[-4]"
   ]
  },
  {
   "cell_type": "markdown",
   "metadata": {
    "id": "mSmc2TAtVTg5"
   },
   "source": [
    "### Loops"
   ]
  },
  {
   "cell_type": "code",
   "execution_count": 14,
   "metadata": {
    "colab": {
     "base_uri": "https://localhost:8080/"
    },
    "id": "fuJxfMhYVVoM",
    "outputId": "4c451f35-fe6b-47e4-c3a3-e2c281a94908"
   },
   "outputs": [
    {
     "name": "stdout",
     "output_type": "stream",
     "text": [
      "You may not have a driver's license.\n",
      "You may not have a driver's license.\n",
      "You may not have a driver's license.\n",
      "You may have a driver's license\n",
      "You may have a driver's license\n"
     ]
    }
   ],
   "source": [
    "# For loop outside the function\n",
    "\n",
    "ages = [18, 15, 12, 45, 50]\n",
    "\n",
    "def age_verification_ins_for(age):\n",
    "  if age >= 21:\n",
    "    print(\"You may have a driver's license\")\n",
    "  else:\n",
    "    print(\"You may not have a driver's license.\")\n",
    "\n",
    "for age in ages:\n",
    "  age_verification_ins_for(age)"
   ]
  },
  {
   "cell_type": "code",
   "execution_count": 15,
   "metadata": {
    "colab": {
     "base_uri": "https://localhost:8080/"
    },
    "id": "WPAFb0yVWank",
    "outputId": "997e6069-2384-4fc2-8add-005b6bd05381"
   },
   "outputs": [
    {
     "name": "stdout",
     "output_type": "stream",
     "text": [
      "You may not have a driver's license.\n",
      "You may not have a driver's license.\n",
      "You may not have a driver's license.\n",
      "You may have a driver's license\n",
      "You may have a driver's license\n"
     ]
    }
   ],
   "source": [
    "# For loop inside the function\n",
    "\n",
    "ages = [18, 15, 12, 45, 50]\n",
    "\n",
    "def age_verification_out_for(age):\n",
    "  for age in ages:\n",
    "    if age >= 21:\n",
    "      print(\"You may have a driver's license\")\n",
    "    else:\n",
    "      print(\"You may not have a driver's license.\")\n",
    "\n",
    "age_verification_out_for(age)"
   ]
  },
  {
   "cell_type": "markdown",
   "metadata": {
    "id": "uDhc3Wl0Yucp"
   },
   "source": [
    "### Boolean"
   ]
  },
  {
   "cell_type": "code",
   "execution_count": 16,
   "metadata": {
    "colab": {
     "base_uri": "https://localhost:8080/"
    },
    "id": "a8sIwwIOjerX",
    "outputId": "b22f2f4d-d1af-4162-ca94-83d214ee89ad"
   },
   "outputs": [
    {
     "name": "stdout",
     "output_type": "stream",
     "text": [
      "You may not have a driver's license.\n",
      "You may not have a driver's license.\n",
      "You may have a driver's license\n"
     ]
    },
    {
     "data": {
      "text/plain": [
       "[False, False, True]"
      ]
     },
     "execution_count": 16,
     "metadata": {},
     "output_type": "execute_result"
    }
   ],
   "source": [
    "verifications = []\n",
    "\n",
    "ages = [13,15,20]\n",
    "\n",
    "def age_verification_bool(verifications,ages):\n",
    "  for age in ages:\n",
    "    if age >= 18:\n",
    "      verifications.append(True)\n",
    "    else:\n",
    "      verifications.append(False)\n",
    "  for verification in verifications:\n",
    "    if verification == True:\n",
    "      print(\"You may have a driver's license\")\n",
    "    else:\n",
    "      print(\"You may not have a driver's license.\")\n",
    "\n",
    "age_verification_bool(verifications,ages)\n",
    "\n",
    "verifications"
   ]
  },
  {
   "cell_type": "markdown",
   "metadata": {
    "id": "2EXLdALJ7lUB"
   },
   "source": [
    "### List with different types of data"
   ]
  },
  {
   "cell_type": "code",
   "execution_count": 17,
   "metadata": {
    "colab": {
     "base_uri": "https://localhost:8080/"
    },
    "id": "6muu_y4u7xzb",
    "outputId": "fec5cce7-ea05-4cc5-e626-6365cfc09b87"
   },
   "outputs": [
    {
     "name": "stdout",
     "output_type": "stream",
     "text": [
      "The Mariana property is of type <class 'str'>\n",
      "The 25 property is of type <class 'int'>\n",
      "The True property is of type <class 'bool'>\n",
      "The México property is of type <class 'str'>\n"
     ]
    },
    {
     "data": {
      "text/plain": [
       "['Mariana', 25, True, 'México']"
      ]
     },
     "execution_count": 17,
     "metadata": {},
     "output_type": "execute_result"
    }
   ],
   "source": [
    "person = ['Mariana',25,True,'México']\n",
    "\n",
    "for element in person:\n",
    "  print(f\"The {element} property is of type\",type(element))\n",
    "\n",
    "person"
   ]
  },
  {
   "cell_type": "markdown",
   "metadata": {
    "id": "XPAYLXwp6UZC"
   },
   "source": [
    "### Libraries"
   ]
  },
  {
   "cell_type": "code",
   "execution_count": 18,
   "metadata": {
    "colab": {
     "base_uri": "https://localhost:8080/"
    },
    "id": "0OTndAEu6Wjw",
    "outputId": "b9803ab1-7475-4bf2-8e6b-75f9d8f6c517"
   },
   "outputs": [
    {
     "data": {
      "text/plain": [
       "5"
      ]
     },
     "execution_count": 18,
     "metadata": {},
     "output_type": "execute_result"
    }
   ],
   "source": [
    "from random import randrange, seed\n",
    "# from <library> import <module>\n",
    "\n",
    "randrange(0,11)"
   ]
  },
  {
   "cell_type": "code",
   "execution_count": 19,
   "metadata": {
    "colab": {
     "base_uri": "https://localhost:8080/"
    },
    "id": "kZgsc-Z78Fw4",
    "outputId": "3e9bcc0a-d082-4513-fd16-ed12239c1957"
   },
   "outputs": [
    {
     "data": {
      "text/plain": [
       "[3, 5, 6, 2, 3, 0]"
      ]
     },
     "execution_count": 19,
     "metadata": {},
     "output_type": "execute_result"
    }
   ],
   "source": [
    "math_grades = []\n",
    "seed(8)\n",
    "\n",
    "for notes in range(6):\n",
    "  math_grades.append(randrange(0,11))\n",
    "\n",
    "math_grades"
   ]
  },
  {
   "cell_type": "code",
   "execution_count": 20,
   "metadata": {
    "colab": {
     "base_uri": "https://localhost:8080/"
    },
    "id": "Rx9BxcnH-6ES",
    "outputId": "608edbc0-6edb-4627-b34b-ce37efa358a6"
   },
   "outputs": [
    {
     "data": {
      "text/plain": [
       "6"
      ]
     },
     "execution_count": 20,
     "metadata": {},
     "output_type": "execute_result"
    }
   ],
   "source": [
    "len(math_grades)"
   ]
  },
  {
   "cell_type": "markdown",
   "metadata": {
    "id": "sn466gl9-pxj"
   },
   "source": [
    "### Plots"
   ]
  },
  {
   "cell_type": "code",
   "execution_count": 21,
   "metadata": {
    "colab": {
     "base_uri": "https://localhost:8080/",
     "height": 472
    },
    "id": "d5wRb3Oc-r3C",
    "outputId": "ccea214b-b373-4c51-b4c1-58c50c0ec75c"
   },
   "outputs": [
    {
     "data": {
      "image/png": "[encoded data removed]",
      "text/plain": [
       "<Figure size 640x480 with 1 Axes>"
      ]
     },
     "metadata": {},
     "output_type": "display_data"
    }
   ],
   "source": [
    "import matplotlib.pyplot as plt\n",
    "\n",
    "x = list(range(1,7))\n",
    "y = math_grades\n",
    "\n",
    "plt.plot(x,y, marker = 'o')\n",
    "plt.title(\"Math Grades\")\n",
    "plt.xlabel('Notes')\n",
    "plt.ylabel('Tests')\n",
    "plt.show()"
   ]
  },
  {
   "cell_type": "code",
   "execution_count": null,
   "metadata": {
    "id": "OPiTCW2JArEi"
   },
   "outputs": [],
   "source": []
  }
 ],
 "metadata": {
  "colab": {
   "provenance": []
  },
  "kernelspec": {
   "display_name": "Python 3 (ipykernel)",
   "language": "python",
   "name": "python3"
  },
  "language_info": {
   "codemirror_mode": {
    "name": "ipython",
    "version": 3
   },
   "file_extension": ".py",
   "mimetype": "text/x-python",
   "name": "python",
   "nbconvert_exporter": "python",
   "pygments_lexer": "ipython3",
   "version": "3.11.5"
  }
 },
 "nbformat": 4,
 "nbformat_minor": 4
}
