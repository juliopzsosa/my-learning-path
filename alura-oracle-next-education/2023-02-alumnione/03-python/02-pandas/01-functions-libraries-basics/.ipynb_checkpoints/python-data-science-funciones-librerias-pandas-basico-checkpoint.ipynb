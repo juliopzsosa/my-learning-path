{
 "cells": [
  {
   "cell_type": "markdown",
   "metadata": {
    "id": "W4bTJkJED0-t"
   },
   "source": [
    "# <font color=green> PYTHON PARA DATA SCIENCE - PANDAS\n",
    "---"
   ]
  },
  {
   "cell_type": "markdown",
   "metadata": {
    "id": "GOEcCc62D0-x",
    "jp-MarkdownHeadingCollapsed": true
   },
   "source": [
    "# <font color=green> 1. INTRODUCCIÓN A PYTHON\n",
    "---"
   ]
  },
  {
   "cell_type": "markdown",
   "metadata": {
    "id": "oGvoOJ-XD0-y"
   },
   "source": [
    "# 1.1 Introducción"
   ]
  },
  {
   "cell_type": "markdown",
   "metadata": {
    "id": "fam3BM0aD0-z"
   },
   "source": [
    "> Python es un lenguaje de programación de alto nivel con soporte a múltiples paradigmas de programación. Es un proyecto *open source* y desde su aparición en 1991, viene convirtiéndose en uno de los lenguajes de programación interpretados más populares.\n",
    ">\n",
    "> En los últimos años Python ha desarrollado una comunidad activa de procesamiento científico y análisis de datos y viene destacándose como uno de los lenguajes más relevantes cuando el asunto es ciencia de datos y machine learning, tanto en el entorno académico como también en el entorno laboral."
   ]
  },
  {
   "cell_type": "markdown",
   "metadata": {
    "id": "6kH5DY-vD0-1"
   },
   "source": [
    "# 1.2 Instalación y entorno de trabajo"
   ]
  },
  {
   "cell_type": "markdown",
   "metadata": {
    "id": "BTpm79I2D0-2"
   },
   "source": [
    "### Instalación Local\n",
    "\n",
    "### https://www.python.org/downloads/\n",
    "### o\n",
    "### https://www.anaconda.com/distribution/"
   ]
  },
  {
   "cell_type": "markdown",
   "metadata": {
    "id": "AuPS_XwRD0-3"
   },
   "source": [
    "### Google Colaboratory\n",
    "\n",
    "### https://colab.research.google.com"
   ]
  },
  {
   "cell_type": "markdown",
   "metadata": {
    "id": "4rUYsPrXD0-4"
   },
   "source": [
    "### Verificando versión"
   ]
  },
  {
   "cell_type": "code",
   "execution_count": 1,
   "metadata": {
    "colab": {
     "base_uri": "https://localhost:8080/"
    },
    "executionInfo": {
     "elapsed": 167,
     "status": "ok",
     "timestamp": 1703377828618,
     "user": {
      "displayName": "Julio Paz Sosa",
      "userId": "02292233226635378098"
     },
     "user_tz": 360
    },
    "id": "PgTCVRB2D0-5",
    "outputId": "788b3339-f6b1-448e-f275-bfa818ff8529"
   },
   "outputs": [
    {
     "name": "stdout",
     "output_type": "stream",
     "text": [
      "Python 3.11.5\n"
     ]
    }
   ],
   "source": [
    "!python -V"
   ]
  },
  {
   "cell_type": "markdown",
   "metadata": {
    "id": "lTtI6so4D0-9"
   },
   "source": [
    "# 1.3 Trabajando con datos"
   ]
  },
  {
   "cell_type": "code",
   "execution_count": 2,
   "metadata": {
    "id": "E_n4FUUWD0-9"
   },
   "outputs": [
    {
     "ename": "ModuleNotFoundError",
     "evalue": "No module named 'pandas'",
     "output_type": "error",
     "traceback": [
      "\u001b[1;31m---------------------------------------------------------------------------\u001b[0m",
      "\u001b[1;31mModuleNotFoundError\u001b[0m                       Traceback (most recent call last)",
      "Cell \u001b[1;32mIn[2], line 1\u001b[0m\n\u001b[1;32m----> 1\u001b[0m \u001b[38;5;28;01mimport\u001b[39;00m \u001b[38;5;21;01mpandas\u001b[39;00m \u001b[38;5;28;01mas\u001b[39;00m \u001b[38;5;21;01mpd\u001b[39;00m\n\u001b[0;32m      2\u001b[0m pd\u001b[38;5;241m.\u001b[39mset_option(\u001b[38;5;124m'\u001b[39m\u001b[38;5;124mdisplay.max_rows\u001b[39m\u001b[38;5;124m'\u001b[39m,\u001b[38;5;241m10\u001b[39m)\n\u001b[0;32m      3\u001b[0m pd\u001b[38;5;241m.\u001b[39mset_option(\u001b[38;5;124m'\u001b[39m\u001b[38;5;124mdisplay.max_columns\u001b[39m\u001b[38;5;124m'\u001b[39m,\u001b[38;5;241m10\u001b[39m)\n",
      "\u001b[1;31mModuleNotFoundError\u001b[0m: No module named 'pandas'"
     ]
    }
   ],
   "source": [
    "import pandas as pd\n",
    "pd.set_option('display.max_rows',10)\n",
    "pd.set_option('display.max_columns',10)"
   ]
  },
  {
   "cell_type": "code",
   "execution_count": null,
   "metadata": {
    "id": "Kq-JdRHFD0-_"
   },
   "outputs": [],
   "source": [
    "dataset = pd.read_csv('db.csv', sep = ';')"
   ]
  },
  {
   "cell_type": "code",
   "execution_count": null,
   "metadata": {
    "colab": {
     "base_uri": "https://localhost:8080/",
     "height": 424
    },
    "executionInfo": {
     "elapsed": 12,
     "status": "ok",
     "timestamp": 1703816748673,
     "user": {
      "displayName": "Julio Paz Sosa",
      "userId": "02292233226635378098"
     },
     "user_tz": 360
    },
    "id": "mOV1rCA6D0_A",
    "outputId": "f14ae365-ccc1-4eaa-c139-e3ec5a72f97d",
    "scrolled": true
   },
   "outputs": [],
   "source": [
    "dataset"
   ]
  },
  {
   "cell_type": "code",
   "execution_count": null,
   "metadata": {
    "id": "5D739PzJD0_B"
   },
   "outputs": [],
   "source": [
    "dataset.dtypes"
   ]
  },
  {
   "cell_type": "code",
   "execution_count": null,
   "metadata": {
    "id": "r_qUf16LD0_D"
   },
   "outputs": [],
   "source": [
    "dataset[['Kilometraje','Valor']].describe()"
   ]
  },
  {
   "cell_type": "code",
   "execution_count": null,
   "metadata": {
    "id": "0R-_7PH5D0_E"
   },
   "outputs": [],
   "source": [
    "dataset.info()"
   ]
  },
  {
   "cell_type": "markdown",
   "metadata": {
    "id": "htjoBLwiD0_F"
   },
   "source": [
    "# <font color=green> 2. TRABAJANDO CON TUPLAS\n",
    "---"
   ]
  },
  {
   "cell_type": "markdown",
   "metadata": {
    "id": "MZH5_QnYD0_G"
   },
   "source": [
    "# 2.1 Creando tuplas\n",
    "\n",
    "Tuplas son secuencias **inmutables** que son utilizadas para guardar colecciones de objetos, geralmente heterogéneos. Pueden ser construídas de varias formas:\n",
    "```\n",
    "- Utilizando un par de paréntesis: ( )\n",
    "- Utilizando una coma a la derecha: x,\n",
    "- Utilizando un par de paréntesis con objetos separados por comas: ( x, y, z )\n",
    "- Utilizando: tuple() o tuple(iterador)\n",
    "```"
   ]
  },
  {
   "cell_type": "code",
   "execution_count": null,
   "metadata": {
    "id": "xzcs9fzeD0_G"
   },
   "outputs": [],
   "source": [
    "()"
   ]
  },
  {
   "cell_type": "code",
   "execution_count": null,
   "metadata": {
    "id": "qJq7a2qTD0_I"
   },
   "outputs": [],
   "source": [
    "1, 2, 3"
   ]
  },
  {
   "cell_type": "code",
   "execution_count": null,
   "metadata": {
    "id": "sg7LdvptD0_J"
   },
   "outputs": [],
   "source": [
    "nombre = 'Passat'\n",
    "valor = 153000\n",
    "(nombre, valor)"
   ]
  },
  {
   "cell_type": "code",
   "execution_count": null,
   "metadata": {
    "id": "XSSMebXjD0_K"
   },
   "outputs": [],
   "source": [
    "nombres_carros = tuple(['Jetta Variant', 'Passat', 'Crossfox', 'DS5'])\n",
    "nombres_carros"
   ]
  },
  {
   "cell_type": "code",
   "execution_count": null,
   "metadata": {
    "id": "hyY_KU6Z8Al1"
   },
   "outputs": [],
   "source": [
    "type(nombres_carros)"
   ]
  },
  {
   "cell_type": "markdown",
   "metadata": {
    "id": "iKUY2DOUD0_N"
   },
   "source": [
    "# 2.2 Selecciones en tuplas"
   ]
  },
  {
   "cell_type": "code",
   "execution_count": null,
   "metadata": {
    "id": "hBEeAM7_D0_N"
   },
   "outputs": [],
   "source": [
    "nombres_carros[0]\n",
    "# tuple[position]"
   ]
  },
  {
   "cell_type": "code",
   "execution_count": null,
   "metadata": {
    "id": "-mx_1E_tD0_P"
   },
   "outputs": [],
   "source": [
    "nombres_carros[1]"
   ]
  },
  {
   "cell_type": "code",
   "execution_count": null,
   "metadata": {
    "id": "LMhyqnFID0_Q"
   },
   "outputs": [],
   "source": [
    "nombres_carros[-1]"
   ]
  },
  {
   "cell_type": "code",
   "execution_count": null,
   "metadata": {
    "id": "6btHff4BD0_T"
   },
   "outputs": [],
   "source": [
    "nombres_carros[1:3]"
   ]
  },
  {
   "cell_type": "code",
   "execution_count": null,
   "metadata": {
    "id": "zvrWYkkeD0_W"
   },
   "outputs": [],
   "source": [
    "nombres_carros = ('Jetta Variant', 'Passat', 'Crossfox', 'DS5', ('Fusca', 'Gol', 'C4'))\n",
    "nombres_carros[-1][1]"
   ]
  },
  {
   "cell_type": "markdown",
   "metadata": {
    "id": "KLMxh4-0D0_c"
   },
   "source": [
    "# 2.3 Iterando en tuplas"
   ]
  },
  {
   "cell_type": "code",
   "execution_count": null,
   "metadata": {
    "id": "K53elKsYD0_c"
   },
   "outputs": [],
   "source": [
    "nombres_carros = ('Jetta Variant', 'Passat', 'Crossfox', 'DS5')\n",
    "nombres_carros"
   ]
  },
  {
   "cell_type": "code",
   "execution_count": null,
   "metadata": {
    "id": "igZhZ5zdD0_d"
   },
   "outputs": [],
   "source": [
    "for item in nombres_carros:\n",
    "  print(item)"
   ]
  },
  {
   "cell_type": "markdown",
   "metadata": {
    "id": "AOBjxBk8D0_f"
   },
   "source": [
    "### Desempacando tuplas"
   ]
  },
  {
   "cell_type": "code",
   "execution_count": null,
   "metadata": {
    "id": "UoEFnumhD0_f"
   },
   "outputs": [],
   "source": [
    "nombres_carros = ('Jetta Variant', 'Passat', 'Crossfox', 'DS5')"
   ]
  },
  {
   "cell_type": "code",
   "execution_count": null,
   "metadata": {
    "id": "AaCLcNYTD0_g"
   },
   "outputs": [],
   "source": [
    "carro_1, carro_2, carro_3, carro_4 = nombres_carros"
   ]
  },
  {
   "cell_type": "code",
   "execution_count": null,
   "metadata": {
    "id": "TA71S9egD0_h"
   },
   "outputs": [],
   "source": [
    "carro_1"
   ]
  },
  {
   "cell_type": "code",
   "execution_count": null,
   "metadata": {
    "id": "CHoJ034MD0_i"
   },
   "outputs": [],
   "source": [
    "carro_2"
   ]
  },
  {
   "cell_type": "code",
   "execution_count": null,
   "metadata": {
    "id": "oxJrOuCSD0_j"
   },
   "outputs": [],
   "source": [
    "carro_3"
   ]
  },
  {
   "cell_type": "code",
   "execution_count": null,
   "metadata": {
    "id": "BbR9sB4BD0_k"
   },
   "outputs": [],
   "source": [
    "carro_4"
   ]
  },
  {
   "cell_type": "code",
   "execution_count": null,
   "metadata": {
    "id": "aZvokrjPD0_m"
   },
   "outputs": [],
   "source": [
    "_, A, _, B = nombres_carros"
   ]
  },
  {
   "cell_type": "code",
   "execution_count": null,
   "metadata": {
    "id": "wZXDbVg0D0_o"
   },
   "outputs": [],
   "source": [
    "A"
   ]
  },
  {
   "cell_type": "code",
   "execution_count": null,
   "metadata": {
    "id": "aWgDMBXiD0_p"
   },
   "outputs": [],
   "source": [
    "B"
   ]
  },
  {
   "cell_type": "code",
   "execution_count": null,
   "metadata": {
    "id": "OdpgNh-ND0_q"
   },
   "outputs": [],
   "source": [
    "_, C, *_ = nombres_carros"
   ]
  },
  {
   "cell_type": "code",
   "execution_count": null,
   "metadata": {
    "id": "upVYFnMdD0_r"
   },
   "outputs": [],
   "source": [
    "C"
   ]
  },
  {
   "cell_type": "markdown",
   "metadata": {
    "id": "u85Aou8WD0_s"
   },
   "source": [
    "## *zip()*\n",
    "\n",
    "https://docs.python.org/3.6/library/functions.html#zip"
   ]
  },
  {
   "cell_type": "code",
   "execution_count": null,
   "metadata": {
    "id": "PaC2oXGED0_t"
   },
   "outputs": [],
   "source": [
    "carros = ['Jetta Variant', 'Passat', 'Crossfox', 'DS5']\n",
    "carros"
   ]
  },
  {
   "cell_type": "code",
   "execution_count": null,
   "metadata": {
    "id": "_02O1VnHD0_u"
   },
   "outputs": [],
   "source": [
    "valores = [88078.64, 106161.94, 72832.16, 124549.07]\n",
    "valores"
   ]
  },
  {
   "cell_type": "code",
   "execution_count": null,
   "metadata": {
    "id": "roQK5nYRD0_v"
   },
   "outputs": [],
   "source": [
    "list(zip(carros, valores))"
   ]
  },
  {
   "cell_type": "code",
   "execution_count": null,
   "metadata": {
    "id": "_WRxIRHrD0_w"
   },
   "outputs": [],
   "source": [
    "for item in zip(carros, valores):\n",
    "  print(item)"
   ]
  },
  {
   "cell_type": "code",
   "execution_count": null,
   "metadata": {
    "id": "2zIuhIILD0_x"
   },
   "outputs": [],
   "source": [
    "for carro, valor in zip(carros, valores):\n",
    "  if (valor > 100000):\n",
    "    print(f\"El {carro} cuesta {valor}\")"
   ]
  },
  {
   "cell_type": "markdown",
   "metadata": {
    "id": "xo76nR8rD0_0"
   },
   "source": [
    "# <font color=green> 3. TRABAJANDO CON DICCIONARIOS\n",
    "---"
   ]
  },
  {
   "cell_type": "markdown",
   "metadata": {
    "id": "wfWzOuztD0_0"
   },
   "source": [
    "# 3.1 Creando diccionarios\n",
    "\n",
    "Listas son colecciones secuenciales, es decir, los elementos de estas secuencias están ordenados y utilizan índices (números enteros) para acceder a los valores.\n",
    "\n",
    "Los diccionarios son colecciones ligeramente diferentes. Son estructuras de datos que representan un tipo de mapeo. Los mapeos son colecciones de asociaciones entre pares de valores donde el primer elemento del par se conoce como llave (*key*) y el segundo como valor (*value*).\n",
    "\n",
    "```\n",
    "diccionario = {key_1: value_1, key_2: value_2, ..., key_n: value_n}\n",
    "```\n",
    "\n",
    "https://docs.python.org/3.6/library/stdtypes.html#typesmapping"
   ]
  },
  {
   "cell_type": "code",
   "execution_count": null,
   "metadata": {
    "colab": {
     "base_uri": "https://localhost:8080/"
    },
    "executionInfo": {
     "elapsed": 205,
     "status": "ok",
     "timestamp": 1703377863063,
     "user": {
      "displayName": "Julio Paz Sosa",
      "userId": "02292233226635378098"
     },
     "user_tz": 360
    },
    "id": "YIFVkWT6D0_1",
    "outputId": "699f72ef-3961-4546-8441-49cff3f0fe6f"
   },
   "outputs": [],
   "source": [
    "carros = ['Jetta Variant', 'Passat', 'Crossfox']\n",
    "carros"
   ]
  },
  {
   "cell_type": "code",
   "execution_count": null,
   "metadata": {
    "colab": {
     "base_uri": "https://localhost:8080/"
    },
    "executionInfo": {
     "elapsed": 7,
     "status": "ok",
     "timestamp": 1703377864414,
     "user": {
      "displayName": "Julio Paz Sosa",
      "userId": "02292233226635378098"
     },
     "user_tz": 360
    },
    "id": "2LHiBn3-D0_2",
    "outputId": "7133ef68-b7f8-4ba8-a1f6-868d23d17740"
   },
   "outputs": [],
   "source": [
    "valores = [88078.64, 106161.94, 72832.16]\n",
    "valores"
   ]
  },
  {
   "cell_type": "code",
   "execution_count": null,
   "metadata": {
    "colab": {
     "base_uri": "https://localhost:8080/"
    },
    "executionInfo": {
     "elapsed": 121,
     "status": "ok",
     "timestamp": 1703377866126,
     "user": {
      "displayName": "Julio Paz Sosa",
      "userId": "02292233226635378098"
     },
     "user_tz": 360
    },
    "id": "YxLAx_sqD0_4",
    "outputId": "a905d61c-308b-41e5-a5ec-e9d5ca1aa466"
   },
   "outputs": [],
   "source": [
    "carros.index('Passat')"
   ]
  },
  {
   "cell_type": "code",
   "execution_count": null,
   "metadata": {
    "colab": {
     "base_uri": "https://localhost:8080/"
    },
    "executionInfo": {
     "elapsed": 141,
     "status": "ok",
     "timestamp": 1703377868214,
     "user": {
      "displayName": "Julio Paz Sosa",
      "userId": "02292233226635378098"
     },
     "user_tz": 360
    },
    "id": "WITNWExID0_7",
    "outputId": "6a6523d9-e0c0-4f00-b9ff-3606c9a816c4"
   },
   "outputs": [],
   "source": [
    "valores[carros.index('Passat')]"
   ]
  },
  {
   "cell_type": "code",
   "execution_count": null,
   "metadata": {
    "colab": {
     "base_uri": "https://localhost:8080/"
    },
    "executionInfo": {
     "elapsed": 8,
     "status": "ok",
     "timestamp": 1703377869719,
     "user": {
      "displayName": "Julio Paz Sosa",
      "userId": "02292233226635378098"
     },
     "user_tz": 360
    },
    "id": "SuPcV9v6D0_0",
    "outputId": "45eced7d-dc1f-4ef1-b5f3-6a65a1c08f42"
   },
   "outputs": [],
   "source": [
    "datos = {'Jetta Variant':88078.64, 'Passat':106161.94, 'Crossfox':72832.16}\n",
    "datos"
   ]
  },
  {
   "cell_type": "code",
   "execution_count": null,
   "metadata": {
    "colab": {
     "base_uri": "https://localhost:8080/"
    },
    "executionInfo": {
     "elapsed": 159,
     "status": "ok",
     "timestamp": 1703377871436,
     "user": {
      "displayName": "Julio Paz Sosa",
      "userId": "02292233226635378098"
     },
     "user_tz": 360
    },
    "id": "bHNqoDbTD0_8",
    "outputId": "56060146-13a7-4fc5-e9eb-d82fad62147c"
   },
   "outputs": [],
   "source": [
    "type(datos)"
   ]
  },
  {
   "cell_type": "markdown",
   "metadata": {
    "id": "PQg-MLkGD0_-"
   },
   "source": [
    "### Creando diccionarios con *zip()*"
   ]
  },
  {
   "cell_type": "code",
   "execution_count": null,
   "metadata": {
    "colab": {
     "base_uri": "https://localhost:8080/"
    },
    "executionInfo": {
     "elapsed": 7,
     "status": "ok",
     "timestamp": 1703377874059,
     "user": {
      "displayName": "Julio Paz Sosa",
      "userId": "02292233226635378098"
     },
     "user_tz": 360
    },
    "id": "iB4Q_gbND0__",
    "outputId": "eda7010d-d58e-4d74-acee-533d4155fd8b"
   },
   "outputs": [],
   "source": [
    "list(zip(carros,valores))"
   ]
  },
  {
   "cell_type": "code",
   "execution_count": null,
   "metadata": {
    "colab": {
     "base_uri": "https://localhost:8080/"
    },
    "executionInfo": {
     "elapsed": 142,
     "status": "ok",
     "timestamp": 1703377875628,
     "user": {
      "displayName": "Julio Paz Sosa",
      "userId": "02292233226635378098"
     },
     "user_tz": 360
    },
    "id": "mIgZqdKKD1AA",
    "outputId": "1a1c2ed8-b33c-43c2-867a-f8a580934cfb"
   },
   "outputs": [],
   "source": [
    "dict(zip(carros,valores))"
   ]
  },
  {
   "cell_type": "markdown",
   "metadata": {
    "id": "KYeRqavFD1AD"
   },
   "source": [
    "# 3.2 Operaciones con diccionarios"
   ]
  },
  {
   "cell_type": "markdown",
   "metadata": {
    "id": "KzmWbEltD1AD"
   },
   "source": [
    "## *dict[ key ]*\n",
    "\n",
    "Devuelve el valor correspondiente a la llave (*key*) en el diccionario."
   ]
  },
  {
   "cell_type": "code",
   "execution_count": null,
   "metadata": {
    "colab": {
     "base_uri": "https://localhost:8080/"
    },
    "executionInfo": {
     "elapsed": 156,
     "status": "ok",
     "timestamp": 1703377877356,
     "user": {
      "displayName": "Julio Paz Sosa",
      "userId": "02292233226635378098"
     },
     "user_tz": 360
    },
    "id": "hFFDz6wKD1AD",
    "outputId": "aca122e2-9e2c-403c-a17c-de3f8cb44572"
   },
   "outputs": [],
   "source": [
    "datos['Passat']"
   ]
  },
  {
   "cell_type": "markdown",
   "metadata": {
    "id": "SWlE6VTBD1AE"
   },
   "source": [
    "## *key in dict*\n",
    "\n",
    "Devuelve **True** si la llave (*key*) es encontrada en el diccionario."
   ]
  },
  {
   "cell_type": "code",
   "execution_count": null,
   "metadata": {
    "colab": {
     "base_uri": "https://localhost:8080/"
    },
    "executionInfo": {
     "elapsed": 128,
     "status": "ok",
     "timestamp": 1703377879608,
     "user": {
      "displayName": "Julio Paz Sosa",
      "userId": "02292233226635378098"
     },
     "user_tz": 360
    },
    "id": "Iy88SxBtD1AE",
    "outputId": "40205002-7709-4fbf-a461-9785c78b349d"
   },
   "outputs": [],
   "source": [
    "'Passat' in datos"
   ]
  },
  {
   "cell_type": "code",
   "execution_count": null,
   "metadata": {
    "colab": {
     "base_uri": "https://localhost:8080/"
    },
    "executionInfo": {
     "elapsed": 135,
     "status": "ok",
     "timestamp": 1703377881944,
     "user": {
      "displayName": "Julio Paz Sosa",
      "userId": "02292233226635378098"
     },
     "user_tz": 360
    },
    "id": "Oma56NkAD1AF",
    "outputId": "4394a07c-c89b-4c88-94ee-5c71fc2a5e40"
   },
   "outputs": [],
   "source": [
    "'Fusca' in datos"
   ]
  },
  {
   "cell_type": "code",
   "execution_count": null,
   "metadata": {
    "colab": {
     "base_uri": "https://localhost:8080/"
    },
    "executionInfo": {
     "elapsed": 136,
     "status": "ok",
     "timestamp": 1703377883547,
     "user": {
      "displayName": "Julio Paz Sosa",
      "userId": "02292233226635378098"
     },
     "user_tz": 360
    },
    "id": "yS2U-_8gD1AG",
    "outputId": "8986046f-1663-440e-d20c-bfd232a4dcfd"
   },
   "outputs": [],
   "source": [
    "'Fusca' not in datos"
   ]
  },
  {
   "cell_type": "markdown",
   "metadata": {
    "id": "oWbWyDd0D1AI"
   },
   "source": [
    "## *len(dict)*\n",
    "\n",
    "Devuelve el número de itens del diccionario."
   ]
  },
  {
   "cell_type": "code",
   "execution_count": null,
   "metadata": {
    "colab": {
     "base_uri": "https://localhost:8080/"
    },
    "executionInfo": {
     "elapsed": 143,
     "status": "ok",
     "timestamp": 1703377885525,
     "user": {
      "displayName": "Julio Paz Sosa",
      "userId": "02292233226635378098"
     },
     "user_tz": 360
    },
    "id": "k08YkCc1D1AJ",
    "outputId": "039ccc5c-c204-4d4f-b8d5-bec642bbf249"
   },
   "outputs": [],
   "source": [
    "len(datos)"
   ]
  },
  {
   "cell_type": "markdown",
   "metadata": {
    "id": "yYNqIHJBD1AK"
   },
   "source": [
    "## *dict[ key ] = value*\n",
    "\n",
    "Incluye un item al diccionario."
   ]
  },
  {
   "cell_type": "code",
   "execution_count": null,
   "metadata": {
    "colab": {
     "base_uri": "https://localhost:8080/"
    },
    "executionInfo": {
     "elapsed": 140,
     "status": "ok",
     "timestamp": 1703377887158,
     "user": {
      "displayName": "Julio Paz Sosa",
      "userId": "02292233226635378098"
     },
     "user_tz": 360
    },
    "id": "5jj3i52bD1AK",
    "outputId": "8991da01-53d1-4f12-9281-58d8ff256b49"
   },
   "outputs": [],
   "source": [
    "datos['DS5'] = 123456.07\n",
    "datos"
   ]
  },
  {
   "cell_type": "markdown",
   "metadata": {
    "id": "_z0JySuqD1AL"
   },
   "source": [
    "## *del dict[ key ]*\n",
    "\n",
    "Borra el item de llave (*key*) del diccionario."
   ]
  },
  {
   "cell_type": "code",
   "execution_count": null,
   "metadata": {
    "colab": {
     "base_uri": "https://localhost:8080/",
     "height": 175
    },
    "executionInfo": {
     "elapsed": 259,
     "status": "error",
     "timestamp": 1703377893116,
     "user": {
      "displayName": "Julio Paz Sosa",
      "userId": "02292233226635378098"
     },
     "user_tz": 360
    },
    "id": "PPfh6sfID1AM",
    "outputId": "a074b71f-d9a5-4352-bce7-039c41b89f4d"
   },
   "outputs": [],
   "source": [
    "del datos['Passat']"
   ]
  },
  {
   "cell_type": "code",
   "execution_count": null,
   "metadata": {
    "colab": {
     "base_uri": "https://localhost:8080/"
    },
    "executionInfo": {
     "elapsed": 118,
     "status": "ok",
     "timestamp": 1703377895262,
     "user": {
      "displayName": "Julio Paz Sosa",
      "userId": "02292233226635378098"
     },
     "user_tz": 360
    },
    "id": "BtjGpXtGD1AN",
    "outputId": "556f657f-5215-4810-c2f2-cea2a97edbf9"
   },
   "outputs": [],
   "source": [
    "datos"
   ]
  },
  {
   "cell_type": "markdown",
   "metadata": {
    "id": "FodJVx5sD1AP"
   },
   "source": [
    "# 3.3 Métodos de diccionarios"
   ]
  },
  {
   "cell_type": "markdown",
   "metadata": {
    "id": "7pqdPOkYD1AP"
   },
   "source": [
    "## *dict.update()*\n",
    "\n",
    "Actualiza el diccionario."
   ]
  },
  {
   "cell_type": "code",
   "execution_count": null,
   "metadata": {
    "colab": {
     "base_uri": "https://localhost:8080/"
    },
    "executionInfo": {
     "elapsed": 145,
     "status": "ok",
     "timestamp": 1703378043875,
     "user": {
      "displayName": "Julio Paz Sosa",
      "userId": "02292233226635378098"
     },
     "user_tz": 360
    },
    "id": "DUySYxKQD1AQ",
    "outputId": "d2fa6609-537f-4488-a5c9-759c099b14e3"
   },
   "outputs": [],
   "source": [
    "datos.update({'Passat':106161.95, 'Fusca':150000})\n",
    "datos"
   ]
  },
  {
   "cell_type": "markdown",
   "metadata": {
    "id": "JLs5c0DeD1AR"
   },
   "source": [
    "## *dict.copy()*\n",
    "\n",
    "Crea una copia del diccionario."
   ]
  },
  {
   "cell_type": "code",
   "execution_count": null,
   "metadata": {
    "colab": {
     "base_uri": "https://localhost:8080/"
    },
    "executionInfo": {
     "elapsed": 152,
     "status": "ok",
     "timestamp": 1703378100150,
     "user": {
      "displayName": "Julio Paz Sosa",
      "userId": "02292233226635378098"
     },
     "user_tz": 360
    },
    "id": "X9F7OB3eD1AS",
    "outputId": "983c6031-c46f-41b5-98e2-3c4efe774111"
   },
   "outputs": [],
   "source": [
    "datosCopy = datos.copy()\n",
    "datosCopy"
   ]
  },
  {
   "cell_type": "code",
   "execution_count": null,
   "metadata": {
    "colab": {
     "base_uri": "https://localhost:8080/"
    },
    "executionInfo": {
     "elapsed": 219,
     "status": "ok",
     "timestamp": 1703378165752,
     "user": {
      "displayName": "Julio Paz Sosa",
      "userId": "02292233226635378098"
     },
     "user_tz": 360
    },
    "id": "v0rL0bveD1AS",
    "outputId": "07e764f6-ae24-4b5e-ab72-7a73ef654ecb"
   },
   "outputs": [],
   "source": [
    "del datosCopy['Fusca']\n",
    "datosCopy"
   ]
  },
  {
   "cell_type": "code",
   "execution_count": null,
   "metadata": {
    "colab": {
     "base_uri": "https://localhost:8080/"
    },
    "executionInfo": {
     "elapsed": 133,
     "status": "ok",
     "timestamp": 1703378171165,
     "user": {
      "displayName": "Julio Paz Sosa",
      "userId": "02292233226635378098"
     },
     "user_tz": 360
    },
    "id": "M-abRGGrD1AT",
    "outputId": "80e65d1d-7bd0-4642-d574-86be0d721911"
   },
   "outputs": [],
   "source": [
    "datos"
   ]
  },
  {
   "cell_type": "markdown",
   "metadata": {
    "id": "mNODkmHCD1AV"
   },
   "source": [
    "## *dict.pop(key[, default ])*\n",
    "\n",
    "Si la llave se encuentra en el diccionario, el elemento se elimina y se devuelve su valor. De lo contrario, se devuelve el valor especificado como *default*. Si no se proporciona el valor *default* y la llave no se encuentra en el diccionario, se generará un error."
   ]
  },
  {
   "cell_type": "code",
   "execution_count": null,
   "metadata": {
    "colab": {
     "base_uri": "https://localhost:8080/"
    },
    "executionInfo": {
     "elapsed": 179,
     "status": "ok",
     "timestamp": 1703381654184,
     "user": {
      "displayName": "Julio Paz Sosa",
      "userId": "02292233226635378098"
     },
     "user_tz": 360
    },
    "id": "_4QEPwScD1AW",
    "outputId": "9a114952-bd06-447f-b233-696df7b394a0"
   },
   "outputs": [],
   "source": [
    "datosCopy.pop('Passat')"
   ]
  },
  {
   "cell_type": "code",
   "execution_count": null,
   "metadata": {
    "colab": {
     "base_uri": "https://localhost:8080/"
    },
    "executionInfo": {
     "elapsed": 132,
     "status": "ok",
     "timestamp": 1703382040243,
     "user": {
      "displayName": "Julio Paz Sosa",
      "userId": "02292233226635378098"
     },
     "user_tz": 360
    },
    "id": "Hjh0MuymD1AX",
    "outputId": "c348d260-75cb-43d2-e646-1d00445249dc"
   },
   "outputs": [],
   "source": [
    "datosCopy"
   ]
  },
  {
   "cell_type": "code",
   "execution_count": null,
   "metadata": {
    "colab": {
     "base_uri": "https://localhost:8080/",
     "height": 175
    },
    "executionInfo": {
     "elapsed": 176,
     "status": "error",
     "timestamp": 1703382052109,
     "user": {
      "displayName": "Julio Paz Sosa",
      "userId": "02292233226635378098"
     },
     "user_tz": 360
    },
    "id": "f51rKjkuD1AX",
    "outputId": "4819a263-5d33-4f90-837a-9323e10ef8e6"
   },
   "outputs": [],
   "source": [
    "datosCopy.pop('Passat')"
   ]
  },
  {
   "cell_type": "code",
   "execution_count": null,
   "metadata": {
    "colab": {
     "base_uri": "https://localhost:8080/",
     "height": 35
    },
    "executionInfo": {
     "elapsed": 181,
     "status": "ok",
     "timestamp": 1703382088910,
     "user": {
      "displayName": "Julio Paz Sosa",
      "userId": "02292233226635378098"
     },
     "user_tz": 360
    },
    "id": "Ah4sZ7axD1AZ",
    "outputId": "6ac6e626-228e-472d-8e84-14fcd834ec47"
   },
   "outputs": [],
   "source": [
    "datosCopy.pop('Passat', 'La llave no fue encontrada')"
   ]
  },
  {
   "cell_type": "markdown",
   "metadata": {
    "id": "Q5J0R7d3D1Ag"
   },
   "source": [
    "## *dict.clear()*\n",
    "\n",
    "Borra todos los itens del diccionario."
   ]
  },
  {
   "cell_type": "code",
   "execution_count": null,
   "metadata": {
    "colab": {
     "base_uri": "https://localhost:8080/"
    },
    "executionInfo": {
     "elapsed": 144,
     "status": "ok",
     "timestamp": 1703382186301,
     "user": {
      "displayName": "Julio Paz Sosa",
      "userId": "02292233226635378098"
     },
     "user_tz": 360
    },
    "id": "AvkP_8mND1Ag",
    "outputId": "09e68469-6927-484e-f45f-697ca2742852"
   },
   "outputs": [],
   "source": [
    "datosCopy.clear()\n",
    "datosCopy"
   ]
  },
  {
   "cell_type": "markdown",
   "metadata": {
    "id": "QhoSRfPsD1Ai"
   },
   "source": [
    "# 3.4 Iterando en diccionarios"
   ]
  },
  {
   "cell_type": "markdown",
   "metadata": {
    "id": "E-agaqakD1Ai"
   },
   "source": [
    "## *dict.keys()*\n",
    "\n",
    "Devuelve una lista con las llaves (*keys*) del diccionario."
   ]
  },
  {
   "cell_type": "code",
   "execution_count": null,
   "metadata": {
    "colab": {
     "base_uri": "https://localhost:8080/"
    },
    "executionInfo": {
     "elapsed": 162,
     "status": "ok",
     "timestamp": 1703382398610,
     "user": {
      "displayName": "Julio Paz Sosa",
      "userId": "02292233226635378098"
     },
     "user_tz": 360
    },
    "id": "qFADEYmBD1Aj",
    "outputId": "662f7a0f-5b55-466d-f97f-357580edb65d"
   },
   "outputs": [],
   "source": [
    "datos.keys()"
   ]
  },
  {
   "cell_type": "code",
   "execution_count": null,
   "metadata": {
    "colab": {
     "base_uri": "https://localhost:8080/"
    },
    "executionInfo": {
     "elapsed": 108,
     "status": "ok",
     "timestamp": 1703382445089,
     "user": {
      "displayName": "Julio Paz Sosa",
      "userId": "02292233226635378098"
     },
     "user_tz": 360
    },
    "id": "niwh9AgDD1Aj",
    "outputId": "59f86714-20d7-4fd2-cfa4-73f865146a62"
   },
   "outputs": [],
   "source": [
    "for key in datos.keys():\n",
    "  print(key)"
   ]
  },
  {
   "cell_type": "markdown",
   "metadata": {
    "id": "qFj6Cc7dD1Ak"
   },
   "source": [
    "## *dict.values()*\n",
    "\n",
    "Devuelve una lista con todos los valores (*values*) del diccionario."
   ]
  },
  {
   "cell_type": "code",
   "execution_count": null,
   "metadata": {
    "colab": {
     "base_uri": "https://localhost:8080/"
    },
    "executionInfo": {
     "elapsed": 123,
     "status": "ok",
     "timestamp": 1703382793085,
     "user": {
      "displayName": "Julio Paz Sosa",
      "userId": "02292233226635378098"
     },
     "user_tz": 360
    },
    "id": "nfpLxrQVD1Al",
    "outputId": "96ed21bd-97bd-42ce-c34b-8c818aa8ea20"
   },
   "outputs": [],
   "source": [
    "for value in datos.values():\n",
    "  print(value)"
   ]
  },
  {
   "cell_type": "markdown",
   "metadata": {
    "id": "-NGRwX0AD1Al"
   },
   "source": [
    "## *dict.items()*\n",
    "\n",
    "Devuelve una lista con una tupla para cada par llave-valor (*key-value*) del diccionario."
   ]
  },
  {
   "cell_type": "code",
   "execution_count": null,
   "metadata": {
    "colab": {
     "base_uri": "https://localhost:8080/"
    },
    "executionInfo": {
     "elapsed": 128,
     "status": "ok",
     "timestamp": 1703382851218,
     "user": {
      "displayName": "Julio Paz Sosa",
      "userId": "02292233226635378098"
     },
     "user_tz": 360
    },
    "id": "Q2I9_6YvD1Am",
    "outputId": "3a26de53-0c51-4150-9683-938dee625d01"
   },
   "outputs": [],
   "source": [
    "for item in datos.items():\n",
    "  print(item)"
   ]
  },
  {
   "cell_type": "code",
   "execution_count": null,
   "metadata": {
    "colab": {
     "base_uri": "https://localhost:8080/"
    },
    "executionInfo": {
     "elapsed": 149,
     "status": "ok",
     "timestamp": 1703383176964,
     "user": {
      "displayName": "Julio Paz Sosa",
      "userId": "02292233226635378098"
     },
     "user_tz": 360
    },
    "id": "0j41ZqgQD1Am",
    "outputId": "932da981-5587-4a7d-861d-2888b3dc21e8"
   },
   "outputs": [],
   "source": [
    "for key, value in datos.items():\n",
    "  if value > 100000:\n",
    "    print(f'{key} - {value}')"
   ]
  },
  {
   "cell_type": "markdown",
   "metadata": {
    "id": "-q3AlSg3D1Aq"
   },
   "source": [
    "# <font color=green> 4. FUNCIONES Y PAQUETES\n",
    "---\n",
    "\n",
    "Funciones son unidades de código reutilizables que realizan una tarea específica, pueden recibir alguna entrada y también pueden devolver algún resultado."
   ]
  },
  {
   "cell_type": "markdown",
   "metadata": {
    "id": "5CfEcU58D1Aq"
   },
   "source": [
    "# 4.1 Built-in function\n",
    "\n",
    "El lenguaje Python tiene varias funciones integradas que siempre están accesibles. Algunas ya las usamos en nuestro entrenamiento:\n",
    "type(), print(), zip(), len(), set() etc.\n",
    "\n",
    "https://docs.python.org/3.6/library/functions.html"
   ]
  },
  {
   "cell_type": "code",
   "execution_count": null,
   "metadata": {
    "colab": {
     "base_uri": "https://localhost:8080/"
    },
    "executionInfo": {
     "elapsed": 140,
     "status": "ok",
     "timestamp": 1703383724680,
     "user": {
      "displayName": "Julio Paz Sosa",
      "userId": "02292233226635378098"
     },
     "user_tz": 360
    },
    "id": "DP7cmY7xD1Aq",
    "outputId": "e8a8501c-92b4-415c-d2c2-fdefe35b741c"
   },
   "outputs": [],
   "source": [
    "datos = {'Jetta Variant': 88078.64, 'Passat': 106161.94, 'Crossfox': 72832.16}\n",
    "datos"
   ]
  },
  {
   "cell_type": "code",
   "execution_count": null,
   "metadata": {
    "colab": {
     "base_uri": "https://localhost:8080/"
    },
    "executionInfo": {
     "elapsed": 277,
     "status": "ok",
     "timestamp": 1703383726648,
     "user": {
      "displayName": "Julio Paz Sosa",
      "userId": "02292233226635378098"
     },
     "user_tz": 360
    },
    "id": "5zAcGSCbD1Ar",
    "outputId": "122c04c5-2777-42bb-98f3-f0b16e331036"
   },
   "outputs": [],
   "source": [
    "valores = []\n",
    "\n",
    "for valor in datos.values():\n",
    "  valores.append(valor)\n",
    "\n",
    "valores"
   ]
  },
  {
   "cell_type": "code",
   "execution_count": null,
   "metadata": {
    "colab": {
     "base_uri": "https://localhost:8080/"
    },
    "executionInfo": {
     "elapsed": 137,
     "status": "ok",
     "timestamp": 1703383729801,
     "user": {
      "displayName": "Julio Paz Sosa",
      "userId": "02292233226635378098"
     },
     "user_tz": 360
    },
    "id": "zG9_jU_1D1At",
    "outputId": "b4734365-05c0-4514-b27c-7f0a5767c354"
   },
   "outputs": [],
   "source": [
    "suma = 0\n",
    "\n",
    "for valor in datos.values():\n",
    "  suma+=valor\n",
    "\n",
    "suma"
   ]
  },
  {
   "cell_type": "code",
   "execution_count": null,
   "metadata": {
    "colab": {
     "base_uri": "https://localhost:8080/"
    },
    "executionInfo": {
     "elapsed": 141,
     "status": "ok",
     "timestamp": 1703383733099,
     "user": {
      "displayName": "Julio Paz Sosa",
      "userId": "02292233226635378098"
     },
     "user_tz": 360
    },
    "id": "jn0O3uXZD1Au",
    "outputId": "aeb8e490-3eaa-4074-d514-db295f44d9be"
   },
   "outputs": [],
   "source": [
    "list(datos.values())"
   ]
  },
  {
   "cell_type": "code",
   "execution_count": null,
   "metadata": {
    "colab": {
     "base_uri": "https://localhost:8080/"
    },
    "executionInfo": {
     "elapsed": 125,
     "status": "ok",
     "timestamp": 1703383812765,
     "user": {
      "displayName": "Julio Paz Sosa",
      "userId": "02292233226635378098"
     },
     "user_tz": 360
    },
    "id": "lnUjKVnoD1Aw",
    "outputId": "0a482329-0435-4ae6-f5e1-57c9f99f5538"
   },
   "outputs": [],
   "source": [
    "sum(datos.values(),1000000)"
   ]
  },
  {
   "cell_type": "code",
   "execution_count": null,
   "metadata": {
    "colab": {
     "base_uri": "https://localhost:8080/"
    },
    "executionInfo": {
     "elapsed": 11,
     "status": "ok",
     "timestamp": 1703383850068,
     "user": {
      "displayName": "Julio Paz Sosa",
      "userId": "02292233226635378098"
     },
     "user_tz": 360
    },
    "id": "WdEuYXe2D1Ay",
    "outputId": "738b1c26-7be8-48bc-d0df-d2533dafe1b3"
   },
   "outputs": [],
   "source": [
    "help(print)"
   ]
  },
  {
   "cell_type": "code",
   "execution_count": null,
   "metadata": {
    "id": "hIA29O3tD1Az"
   },
   "outputs": [],
   "source": [
    "print?"
   ]
  },
  {
   "cell_type": "markdown",
   "metadata": {
    "id": "6w62Sl5ZD1A0"
   },
   "source": [
    "# 4.2 Definiendo funciones sin y con parámetros"
   ]
  },
  {
   "cell_type": "markdown",
   "metadata": {
    "id": "OADZiBP2D1A0"
   },
   "source": [
    "\n",
    "\n",
    "```\n",
    "# Esto tiene formato de código\n",
    "```\n",
    "\n",
    "### Funciones sin parámetros\n",
    "\n",
    "#### Formato estándar\n",
    "\n",
    "```\n",
    "def <nombre>():\n",
    "    <instrucciones>\n",
    "```"
   ]
  },
  {
   "cell_type": "code",
   "execution_count": null,
   "metadata": {
    "id": "uCkplEpQD1A0"
   },
   "outputs": [],
   "source": [
    "def media(lista):\n",
    "  valor = sum(lista)/len(lista)\n",
    "  print(valor)"
   ]
  },
  {
   "cell_type": "code",
   "execution_count": null,
   "metadata": {
    "colab": {
     "base_uri": "https://localhost:8080/"
    },
    "executionInfo": {
     "elapsed": 105,
     "status": "ok",
     "timestamp": 1703793347899,
     "user": {
      "displayName": "Julio Paz Sosa",
      "userId": "02292233226635378098"
     },
     "user_tz": 360
    },
    "id": "fOCEGq5VD1A1",
    "outputId": "556b6a34-9535-48c3-c0d9-5026fffe11ca"
   },
   "outputs": [],
   "source": [
    "resultado = media([1,2,3,4,5,6,7,8])"
   ]
  },
  {
   "cell_type": "code",
   "execution_count": null,
   "metadata": {
    "id": "GZyEcEDI_xZk"
   },
   "outputs": [],
   "source": [
    "resultado"
   ]
  },
  {
   "cell_type": "code",
   "execution_count": null,
   "metadata": {
    "colab": {
     "base_uri": "https://localhost:8080/"
    },
    "executionInfo": {
     "elapsed": 133,
     "status": "ok",
     "timestamp": 1703793734913,
     "user": {
      "displayName": "Julio Paz Sosa",
      "userId": "02292233226635378098"
     },
     "user_tz": 360
    },
    "id": "Qbv2V-Di_2Rk",
    "outputId": "f70a2d8d-e936-48b8-ecf6-3adacb516796"
   },
   "outputs": [],
   "source": [
    "type(resultado)"
   ]
  },
  {
   "cell_type": "markdown",
   "metadata": {
    "id": "PwSlYSVAD1A2"
   },
   "source": [
    "### Funciones con parámetros\n",
    "\n",
    "#### Formato estándar\n",
    "\n",
    "```\n",
    "def <nombre>(<param_1>, <param_2>, ..., <param_n>):\n",
    "    <instrucciones>\n",
    "```"
   ]
  },
  {
   "cell_type": "code",
   "execution_count": null,
   "metadata": {
    "id": "A3YnBUduD1A3"
   },
   "outputs": [],
   "source": []
  },
  {
   "cell_type": "code",
   "execution_count": null,
   "metadata": {
    "id": "rGUZbRERD1A3"
   },
   "outputs": [],
   "source": []
  },
  {
   "cell_type": "code",
   "execution_count": null,
   "metadata": {
    "id": "B9WDlRE7D1A5"
   },
   "outputs": [],
   "source": []
  },
  {
   "cell_type": "code",
   "execution_count": null,
   "metadata": {
    "id": "1HAy8OK_D1A6"
   },
   "outputs": [],
   "source": []
  },
  {
   "cell_type": "code",
   "execution_count": null,
   "metadata": {
    "id": "_CDa4oOfD1A6"
   },
   "outputs": [],
   "source": []
  },
  {
   "cell_type": "code",
   "execution_count": null,
   "metadata": {
    "id": "xH-mxqYAD1A8"
   },
   "outputs": [],
   "source": []
  },
  {
   "cell_type": "code",
   "execution_count": null,
   "metadata": {
    "id": "WXXC_UidD1A8"
   },
   "outputs": [],
   "source": []
  },
  {
   "cell_type": "markdown",
   "metadata": {
    "id": "8zNYrmFbD1A9"
   },
   "source": [
    "# 4.3 Definiendo funciones que devuelven valores"
   ]
  },
  {
   "cell_type": "markdown",
   "metadata": {
    "id": "J44K-dMOD1A9"
   },
   "source": [
    "### Funciones que devuelven un valor\n",
    "\n",
    "#### Formato estándar\n",
    "\n",
    "```\n",
    "def <nombre>(<param_1>, <param_2>, ..., <param_n>):\n",
    "    <instrucciones>\n",
    "    return <resultado>\n",
    "```"
   ]
  },
  {
   "cell_type": "code",
   "execution_count": null,
   "metadata": {
    "id": "-UG42RQJD1A9"
   },
   "outputs": [],
   "source": [
    "def media(lista):\n",
    "  valor = sum(lista)/len(lista)\n",
    "  return(valor)"
   ]
  },
  {
   "cell_type": "code",
   "execution_count": null,
   "metadata": {
    "id": "VJwdvoT5D1A-"
   },
   "outputs": [],
   "source": [
    "resultado = media([1,2,3,4,5,6,7,8])"
   ]
  },
  {
   "cell_type": "code",
   "execution_count": null,
   "metadata": {
    "colab": {
     "base_uri": "https://localhost:8080/"
    },
    "executionInfo": {
     "elapsed": 129,
     "status": "ok",
     "timestamp": 1703793888603,
     "user": {
      "displayName": "Julio Paz Sosa",
      "userId": "02292233226635378098"
     },
     "user_tz": 360
    },
    "id": "AgAeJkpND1A-",
    "outputId": "95a38403-3603-436c-a999-00e7b8ff6071"
   },
   "outputs": [],
   "source": [
    "resultado"
   ]
  },
  {
   "cell_type": "code",
   "execution_count": null,
   "metadata": {
    "id": "_r616TevD1A_"
   },
   "outputs": [],
   "source": []
  },
  {
   "cell_type": "markdown",
   "metadata": {
    "id": "MQaK8GV5D1BA"
   },
   "source": [
    "### Funciones que devuelven más de un valor\n",
    "\n",
    "#### Formato estándar\n",
    "\n",
    "```\n",
    "def <nombre>(<param_1>, <param_2>, ..., <param_n>):\n",
    "    <instrucciones>\n",
    "    return (<resultado_1>, <resultado_2>, ..., <resultado_n>)\n",
    "```"
   ]
  },
  {
   "cell_type": "code",
   "execution_count": null,
   "metadata": {
    "id": "v0PUMegVD1BA"
   },
   "outputs": [],
   "source": [
    "def media(lista):\n",
    "  valor = sum(lista)/len(lista)\n",
    "  return(valor, len(lista))"
   ]
  },
  {
   "cell_type": "code",
   "execution_count": null,
   "metadata": {
    "id": "Ys-etom8D1BA"
   },
   "outputs": [],
   "source": [
    "resultado, n = media([1,2,3,4,5,6,7,8,9])"
   ]
  },
  {
   "cell_type": "code",
   "execution_count": null,
   "metadata": {
    "colab": {
     "base_uri": "https://localhost:8080/"
    },
    "executionInfo": {
     "elapsed": 5,
     "status": "ok",
     "timestamp": 1703814196414,
     "user": {
      "displayName": "Julio Paz Sosa",
      "userId": "02292233226635378098"
     },
     "user_tz": 360
    },
    "id": "LERrvkMHD1BC",
    "outputId": "6013f2ed-6c0c-4f4f-d0f9-394bc333f38c"
   },
   "outputs": [],
   "source": [
    "resultado"
   ]
  },
  {
   "cell_type": "code",
   "execution_count": null,
   "metadata": {
    "colab": {
     "base_uri": "https://localhost:8080/"
    },
    "executionInfo": {
     "elapsed": 432,
     "status": "ok",
     "timestamp": 1703814197937,
     "user": {
      "displayName": "Julio Paz Sosa",
      "userId": "02292233226635378098"
     },
     "user_tz": 360
    },
    "id": "sqoFOWSsD1BC",
    "outputId": "ea9ea786-9ce9-4e22-bda8-caef5a1b03df"
   },
   "outputs": [],
   "source": [
    "n"
   ]
  },
  {
   "cell_type": "markdown",
   "metadata": {
    "id": "uQ5lNnKrD1BD"
   },
   "source": [
    "# <font color=green> 5. PANDAS BÁSICO\n",
    "---\n",
    "\n",
    "**versión: 1.1.0**\n",
    "\n",
    "Pandas es una herramienta de manipulación de datos de alto nivel, construida sobre la base del paquete Numpy. El paquete pandas tiene estructuras de datos muy interesantes para la manipulación de datos y, por esto, es ampliamente utilizado por los científicos de datos.\n",
    "\n",
    "\n",
    "## Estructuras de Datos\n",
    "\n",
    "### Series\n",
    "\n",
    "Series son arrays unidimensionales etiquetados capaces de almacenar cualquier tipo de dato. Las etiquetas de las líneas se denominan **index**. La forma básica de crear una Series es la siguiente:\n",
    "\n",
    "\n",
    "```\n",
    "    s = pd.Series(datos, index = index)\n",
    "```\n",
    "\n",
    "El argumento *datos* puede ser un diccionario, una lista, un array Numpy o una constante.\n",
    "\n",
    "### DataFrames\n",
    "\n",
    "DataFrame es una estructura de datos tabular bidimensional con etiquetas de fila y columna. Como la Series, los DataFrames son capaces de almacenar cualquier tipo de datos.\n",
    "\n",
    "\n",
    "```\n",
    "    df = pd.DataFrame(datos, index = index, columns = columns)\n",
    "```\n",
    "\n",
    "El argumento *datos* puede ser un diccionario, una lista, un array Numpy, una Series y otro DataFrame.\n",
    "\n",
    "**Documentación:** https://pandas.pydata.org/pandas-docs/version/1.1.0/"
   ]
  },
  {
   "cell_type": "markdown",
   "metadata": {
    "id": "2qa7RC03D1BD"
   },
   "source": [
    "# 5.1 Estructuras de datos"
   ]
  },
  {
   "cell_type": "code",
   "execution_count": null,
   "metadata": {
    "id": "4QyFDeS4D1BD"
   },
   "outputs": [],
   "source": [
    "import pandas as pd"
   ]
  },
  {
   "cell_type": "markdown",
   "metadata": {
    "id": "kIey8_OcD1BF"
   },
   "source": [
    "### Creando una Series a partir de una lista"
   ]
  },
  {
   "cell_type": "code",
   "execution_count": null,
   "metadata": {
    "colab": {
     "base_uri": "https://localhost:8080/"
    },
    "executionInfo": {
     "elapsed": 9,
     "status": "ok",
     "timestamp": 1703815290779,
     "user": {
      "displayName": "Julio Paz Sosa",
      "userId": "02292233226635378098"
     },
     "user_tz": 360
    },
    "id": "yEZR6DWiD1BF",
    "outputId": "e5feae52-8569-4280-ac1f-1190a6ad96bb"
   },
   "outputs": [],
   "source": [
    "carros = ['Jetta Variant', 'Passat', 'Crossfox']\n",
    "carros"
   ]
  },
  {
   "cell_type": "code",
   "execution_count": null,
   "metadata": {
    "colab": {
     "base_uri": "https://localhost:8080/"
    },
    "executionInfo": {
     "elapsed": 9,
     "status": "ok",
     "timestamp": 1703815314077,
     "user": {
      "displayName": "Julio Paz Sosa",
      "userId": "02292233226635378098"
     },
     "user_tz": 360
    },
    "id": "rLudWKZ_D1BF",
    "outputId": "10cfe4ed-9a84-43ac-f750-f1023ce2bfc1"
   },
   "outputs": [],
   "source": [
    "pd.Series(carros)"
   ]
  },
  {
   "cell_type": "markdown",
   "metadata": {
    "id": "VYVIKd1-D1BG"
   },
   "source": [
    "### Creando un DataFrame a partir de una lista de diccionarios"
   ]
  },
  {
   "cell_type": "code",
   "execution_count": null,
   "metadata": {
    "id": "QFNS9PckD1BG"
   },
   "outputs": [],
   "source": [
    "datos = [\n",
    "    {'Nombre': 'Jetta Variant', 'Motor': 'Motor 4.0 Turbo', 'Año': 2003, 'Kilometraje': 44410.0, 'Cero_km': False, 'Valor': 88078.64},\n",
    "    {'Nombre': 'Passat', 'Motor': 'Motor Diesel', 'Año': 1991, 'Kilometraje': 5712.0, 'Cero_km': False, 'Valor': 106161.94},\n",
    "    {'Nombre': 'Crossfox', 'Motor': 'Motor Diesel V8', 'Año': 1990, 'Kilometraje': 37123.0, 'Cero_km': False, 'Valor': 72832.16}\n",
    "]"
   ]
  },
  {
   "cell_type": "code",
   "execution_count": null,
   "metadata": {
    "colab": {
     "base_uri": "https://localhost:8080/",
     "height": 143
    },
    "executionInfo": {
     "elapsed": 21,
     "status": "ok",
     "timestamp": 1703815932949,
     "user": {
      "displayName": "Julio Paz Sosa",
      "userId": "02292233226635378098"
     },
     "user_tz": 360
    },
    "id": "WDQb9AnKD1BH",
    "outputId": "17813885-6ee7-4801-c173-5636a39bb992"
   },
   "outputs": [],
   "source": [
    "dataset = pd.DataFrame(datos)\n",
    "dataset"
   ]
  },
  {
   "cell_type": "code",
   "execution_count": null,
   "metadata": {
    "colab": {
     "base_uri": "https://localhost:8080/",
     "height": 143
    },
    "executionInfo": {
     "elapsed": 12,
     "status": "ok",
     "timestamp": 1703816021882,
     "user": {
      "displayName": "Julio Paz Sosa",
      "userId": "02292233226635378098"
     },
     "user_tz": 360
    },
    "id": "-2-jGvmGD1BI",
    "outputId": "7cf576fb-5ecc-46be-82b0-23b0d431311e"
   },
   "outputs": [],
   "source": [
    "dataset[['Nombre', 'Año', 'Motor', 'Kilometraje', 'Cero_km', 'Valor']]"
   ]
  },
  {
   "cell_type": "markdown",
   "metadata": {
    "id": "pJK2tQgYD1BK"
   },
   "source": [
    "### Creando un DataFrame a partir de un diccionario"
   ]
  },
  {
   "cell_type": "code",
   "execution_count": null,
   "metadata": {
    "id": "WKNQwKucD1BK"
   },
   "outputs": [],
   "source": [
    "datos = {\n",
    "    'Nombre': ['Jetta Variant', 'Passat', 'Crossfox'],\n",
    "    'Motor': ['Motor 4.0 Turbo', 'Motor Diesel', 'Motor Diesel V8'],\n",
    "    'Año': [2003, 1991, 1990],\n",
    "    'Kilometraje': [44410.0, 5712.0, 37123.0],\n",
    "    'Cero_km': [False, False, False],\n",
    "    'Valor': [88078.64, 106161.94, 72832.16]\n",
    "}"
   ]
  },
  {
   "cell_type": "code",
   "execution_count": null,
   "metadata": {
    "colab": {
     "base_uri": "https://localhost:8080/",
     "height": 143
    },
    "executionInfo": {
     "elapsed": 466,
     "status": "ok",
     "timestamp": 1703816084033,
     "user": {
      "displayName": "Julio Paz Sosa",
      "userId": "02292233226635378098"
     },
     "user_tz": 360
    },
    "id": "lKnuZfzcD1BK",
    "outputId": "c358d987-2931-481f-e9e2-8a234f2cee46"
   },
   "outputs": [],
   "source": [
    "dataset = pd.DataFrame(datos)\n",
    "dataset"
   ]
  },
  {
   "cell_type": "markdown",
   "metadata": {
    "id": "fCCXs0reD1BL"
   },
   "source": [
    "### Creando un DataFrame a partir de un archivo externo"
   ]
  },
  {
   "cell_type": "code",
   "execution_count": null,
   "metadata": {
    "colab": {
     "base_uri": "https://localhost:8080/",
     "height": 455
    },
    "executionInfo": {
     "elapsed": 352,
     "status": "ok",
     "timestamp": 1703818325427,
     "user": {
      "displayName": "Julio Paz Sosa",
      "userId": "02292233226635378098"
     },
     "user_tz": 360
    },
    "id": "78PRHGeZD1BL",
    "outputId": "7cf50b4a-0de7-40ae-c8eb-331dc123065f"
   },
   "outputs": [],
   "source": [
    "dataset = pd.read_csv('db.csv', sep = ';', index_col = 0 )\n",
    "dataset"
   ]
  },
  {
   "cell_type": "markdown",
   "metadata": {
    "id": "y5V-1AK-D1BN"
   },
   "source": [
    "# 5.2 Selecciones con DataFrames"
   ]
  },
  {
   "cell_type": "markdown",
   "metadata": {
    "id": "wZjqlHe9D1BN"
   },
   "source": [
    "### Seleccionando columnas"
   ]
  },
  {
   "cell_type": "code",
   "execution_count": null,
   "metadata": {
    "colab": {
     "base_uri": "https://localhost:8080/",
     "height": 237
    },
    "executionInfo": {
     "elapsed": 732,
     "status": "ok",
     "timestamp": 1703818484732,
     "user": {
      "displayName": "Julio Paz Sosa",
      "userId": "02292233226635378098"
     },
     "user_tz": 360
    },
    "id": "gM3LbtzlD1BN",
    "outputId": "da0522e0-462a-4cdd-ee70-721b16a4f865",
    "scrolled": true
   },
   "outputs": [],
   "source": [
    "dataset.head()"
   ]
  },
  {
   "cell_type": "code",
   "execution_count": null,
   "metadata": {
    "colab": {
     "base_uri": "https://localhost:8080/"
    },
    "executionInfo": {
     "elapsed": 350,
     "status": "ok",
     "timestamp": 1703818586062,
     "user": {
      "displayName": "Julio Paz Sosa",
      "userId": "02292233226635378098"
     },
     "user_tz": 360
    },
    "id": "R2FWgCM_D1BO",
    "outputId": "1ccb3522-215c-4395-c48b-c1d6a3017991"
   },
   "outputs": [],
   "source": [
    "dataset['Valor']"
   ]
  },
  {
   "cell_type": "code",
   "execution_count": null,
   "metadata": {
    "colab": {
     "base_uri": "https://localhost:8080/"
    },
    "executionInfo": {
     "elapsed": 385,
     "status": "ok",
     "timestamp": 1703818589582,
     "user": {
      "displayName": "Julio Paz Sosa",
      "userId": "02292233226635378098"
     },
     "user_tz": 360
    },
    "id": "lCCumsxsD1BP",
    "outputId": "38b3227c-3d52-47e8-926c-a29d9b4ec0c3",
    "scrolled": true
   },
   "outputs": [],
   "source": [
    "type(dataset['Valor'])"
   ]
  },
  {
   "cell_type": "code",
   "execution_count": null,
   "metadata": {
    "colab": {
     "base_uri": "https://localhost:8080/",
     "height": 455
    },
    "executionInfo": {
     "elapsed": 318,
     "status": "ok",
     "timestamp": 1703818751184,
     "user": {
      "displayName": "Julio Paz Sosa",
      "userId": "02292233226635378098"
     },
     "user_tz": 360
    },
    "id": "zxlyC3B8D1BP",
    "outputId": "7ec9b6b1-2a4b-44f2-a867-d68fa8bfc2fb"
   },
   "outputs": [],
   "source": [
    "dataset[['Valor']]"
   ]
  },
  {
   "cell_type": "markdown",
   "metadata": {
    "id": "7RPXPm1XD1BQ"
   },
   "source": [
    "### Seleccionando lineas - [ i : j ]\n",
    "\n",
    "<font color=red>**Observación:**</font> La indexación tiene origen en cero y en las particiones(*slices*) la línea con índice i es **incluída** y la línea con índice j **no es incluída** en el resultado."
   ]
  },
  {
   "cell_type": "code",
   "execution_count": null,
   "metadata": {
    "colab": {
     "base_uri": "https://localhost:8080/",
     "height": 175
    },
    "executionInfo": {
     "elapsed": 1493,
     "status": "ok",
     "timestamp": 1703818805499,
     "user": {
      "displayName": "Julio Paz Sosa",
      "userId": "02292233226635378098"
     },
     "user_tz": 360
    },
    "id": "PdDUwPw3D1BQ",
    "outputId": "a3d1785e-907f-4331-bd0d-815e034c4b8e"
   },
   "outputs": [],
   "source": [
    "dataset[0:3]"
   ]
  },
  {
   "cell_type": "markdown",
   "metadata": {
    "id": "G3DMSk97D1BR"
   },
   "source": [
    "### Utilizando .loc para selecciones\n",
    "\n",
    "<font color=red>**Observación:**</font> Selecciona un grupo de líneas y columnas según las etiquetas o una matriz booleana."
   ]
  },
  {
   "cell_type": "code",
   "execution_count": null,
   "metadata": {
    "colab": {
     "base_uri": "https://localhost:8080/"
    },
    "executionInfo": {
     "elapsed": 494,
     "status": "ok",
     "timestamp": 1703818909756,
     "user": {
      "displayName": "Julio Paz Sosa",
      "userId": "02292233226635378098"
     },
     "user_tz": 360
    },
    "id": "Ftg-hNOoD1BR",
    "outputId": "64056b7a-fb9b-46cf-ae06-41a8e4d2fdb2"
   },
   "outputs": [],
   "source": [
    "dataset.loc['Passat']"
   ]
  },
  {
   "cell_type": "code",
   "execution_count": null,
   "metadata": {
    "colab": {
     "base_uri": "https://localhost:8080/",
     "height": 143
    },
    "executionInfo": {
     "elapsed": 328,
     "status": "ok",
     "timestamp": 1703818922847,
     "user": {
      "displayName": "Julio Paz Sosa",
      "userId": "02292233226635378098"
     },
     "user_tz": 360
    },
    "id": "xdxkDrHvD1BS",
    "outputId": "a8bc82b1-81df-4ce9-ef05-edfba357bfe8"
   },
   "outputs": [],
   "source": [
    "dataset.loc[['Passat', 'DS5']]"
   ]
  },
  {
   "cell_type": "code",
   "execution_count": null,
   "metadata": {
    "colab": {
     "base_uri": "https://localhost:8080/",
     "height": 143
    },
    "executionInfo": {
     "elapsed": 338,
     "status": "ok",
     "timestamp": 1703819000349,
     "user": {
      "displayName": "Julio Paz Sosa",
      "userId": "02292233226635378098"
     },
     "user_tz": 360
    },
    "id": "pMN3U1KjD1BS",
    "outputId": "dd1bc579-2269-46d9-b113-455816b4d4ba"
   },
   "outputs": [],
   "source": [
    "dataset.loc[['Passat', 'DS5'],['Motor', 'Valor']]"
   ]
  },
  {
   "cell_type": "code",
   "execution_count": null,
   "metadata": {
    "colab": {
     "base_uri": "https://localhost:8080/",
     "height": 455
    },
    "executionInfo": {
     "elapsed": 343,
     "status": "ok",
     "timestamp": 1703819026042,
     "user": {
      "displayName": "Julio Paz Sosa",
      "userId": "02292233226635378098"
     },
     "user_tz": 360
    },
    "id": "oOEO72uZD1BT",
    "outputId": "cee90422-09df-45ac-9941-7b7dba86d57e",
    "scrolled": true
   },
   "outputs": [],
   "source": [
    "dataset.loc[:,['Motor', 'Valor']]"
   ]
  },
  {
   "cell_type": "markdown",
   "metadata": {
    "id": "SYKEe3vCD1BT"
   },
   "source": [
    "### Utilizando .iloc para selecciones\n",
    "\n",
    "<font color=red>**Observación:**</font> Selecciona con base en los índices, es decir, utiliza la posición de las informaciones."
   ]
  },
  {
   "cell_type": "code",
   "execution_count": null,
   "metadata": {
    "colab": {
     "base_uri": "https://localhost:8080/",
     "height": 237
    },
    "executionInfo": {
     "elapsed": 329,
     "status": "ok",
     "timestamp": 1703819061619,
     "user": {
      "displayName": "Julio Paz Sosa",
      "userId": "02292233226635378098"
     },
     "user_tz": 360
    },
    "id": "U4Bru90bD1BT",
    "outputId": "7fc3eb15-3658-436e-de5c-9135f169c3e8"
   },
   "outputs": [],
   "source": [
    "dataset.head()"
   ]
  },
  {
   "cell_type": "code",
   "execution_count": null,
   "metadata": {
    "colab": {
     "base_uri": "https://localhost:8080/",
     "height": 112
    },
    "executionInfo": {
     "elapsed": 353,
     "status": "ok",
     "timestamp": 1703819081070,
     "user": {
      "displayName": "Julio Paz Sosa",
      "userId": "02292233226635378098"
     },
     "user_tz": 360
    },
    "id": "iLKUyrzND1BU",
    "outputId": "1f2e0f50-fab4-444a-e2f1-5e4343f1332a"
   },
   "outputs": [],
   "source": [
    "dataset.iloc[[1]]"
   ]
  },
  {
   "cell_type": "code",
   "execution_count": null,
   "metadata": {
    "colab": {
     "base_uri": "https://localhost:8080/",
     "height": 175
    },
    "executionInfo": {
     "elapsed": 327,
     "status": "ok",
     "timestamp": 1703819128253,
     "user": {
      "displayName": "Julio Paz Sosa",
      "userId": "02292233226635378098"
     },
     "user_tz": 360
    },
    "id": "KGZpixYUD1BU",
    "outputId": "7fe39546-6aa9-401c-f97a-258eea5a3fc1"
   },
   "outputs": [],
   "source": [
    "dataset.iloc[1:4]"
   ]
  },
  {
   "cell_type": "code",
   "execution_count": null,
   "metadata": {
    "colab": {
     "base_uri": "https://localhost:8080/",
     "height": 175
    },
    "executionInfo": {
     "elapsed": 420,
     "status": "ok",
     "timestamp": 1703819168906,
     "user": {
      "displayName": "Julio Paz Sosa",
      "userId": "02292233226635378098"
     },
     "user_tz": 360
    },
    "id": "GxdqIz4LD1BV",
    "outputId": "3a0d8784-cdaf-4870-f860-f87d5b843d5a"
   },
   "outputs": [],
   "source": [
    "dataset.iloc[1:4, [0,5,2]]"
   ]
  },
  {
   "cell_type": "code",
   "execution_count": null,
   "metadata": {
    "colab": {
     "base_uri": "https://localhost:8080/",
     "height": 175
    },
    "executionInfo": {
     "elapsed": 426,
     "status": "ok",
     "timestamp": 1703819209255,
     "user": {
      "displayName": "Julio Paz Sosa",
      "userId": "02292233226635378098"
     },
     "user_tz": 360
    },
    "id": "AVIhs7uLD1BW",
    "outputId": "d1b874aa-ec03-42f0-ffbb-f3791fbba809",
    "scrolled": true
   },
   "outputs": [],
   "source": [
    "dataset.iloc[[1,42,22], [0,5,2]]"
   ]
  },
  {
   "cell_type": "code",
   "execution_count": null,
   "metadata": {
    "colab": {
     "base_uri": "https://localhost:8080/",
     "height": 455
    },
    "executionInfo": {
     "elapsed": 327,
     "status": "ok",
     "timestamp": 1703819239187,
     "user": {
      "displayName": "Julio Paz Sosa",
      "userId": "02292233226635378098"
     },
     "user_tz": 360
    },
    "id": "H-thM3y6ijQW",
    "outputId": "71079da5-1f0a-401f-9ceb-d1d0bf813aa2"
   },
   "outputs": [],
   "source": [
    "dataset.iloc[:, [0,5,2]]"
   ]
  },
  {
   "cell_type": "markdown",
   "metadata": {
    "id": "eAbwq1oLD1BW"
   },
   "source": [
    "# 5.3 Consultas en DataFrames"
   ]
  },
  {
   "cell_type": "code",
   "execution_count": null,
   "metadata": {
    "colab": {
     "base_uri": "https://localhost:8080/"
    },
    "executionInfo": {
     "elapsed": 9,
     "status": "ok",
     "timestamp": 1703820799419,
     "user": {
      "displayName": "Julio Paz Sosa",
      "userId": "02292233226635378098"
     },
     "user_tz": 360
    },
    "id": "AOZTWzehD1BW",
    "outputId": "97ef1baf-e2f4-4184-c594-ec87400d921c",
    "scrolled": true
   },
   "outputs": [],
   "source": [
    "dataset.Motor"
   ]
  },
  {
   "cell_type": "code",
   "execution_count": null,
   "metadata": {
    "colab": {
     "base_uri": "https://localhost:8080/"
    },
    "executionInfo": {
     "elapsed": 349,
     "status": "ok",
     "timestamp": 1703820824493,
     "user": {
      "displayName": "Julio Paz Sosa",
      "userId": "02292233226635378098"
     },
     "user_tz": 360
    },
    "id": "rO5T4h94D1BX",
    "outputId": "36b0d685-e81d-4790-e187-c6d7964068b4",
    "scrolled": true
   },
   "outputs": [],
   "source": [
    "dataset.Motor == 'Motor Diesel'"
   ]
  },
  {
   "cell_type": "code",
   "execution_count": null,
   "metadata": {
    "colab": {
     "base_uri": "https://localhost:8080/"
    },
    "executionInfo": {
     "elapsed": 316,
     "status": "ok",
     "timestamp": 1703820855210,
     "user": {
      "displayName": "Julio Paz Sosa",
      "userId": "02292233226635378098"
     },
     "user_tz": 360
    },
    "id": "STZ-l8oaD1BX",
    "outputId": "f9b519c7-d342-4707-f811-dda95f7ccb6f"
   },
   "outputs": [],
   "source": [
    "type(dataset.Motor == 'Motor Diesel')"
   ]
  },
  {
   "cell_type": "code",
   "execution_count": null,
   "metadata": {
    "colab": {
     "base_uri": "https://localhost:8080/",
     "height": 237
    },
    "executionInfo": {
     "elapsed": 336,
     "status": "ok",
     "timestamp": 1703821012582,
     "user": {
      "displayName": "Julio Paz Sosa",
      "userId": "02292233226635378098"
     },
     "user_tz": 360
    },
    "id": "OZC8NAn6D1BX",
    "outputId": "8d7a68d6-3dba-4499-dfeb-43c126d7a64b"
   },
   "outputs": [],
   "source": [
    "dataset[(dataset.Motor == 'Motor Diesel') & (dataset.Cero_km == True)]"
   ]
  },
  {
   "cell_type": "markdown",
   "metadata": {
    "id": "_XKXcWO-D1BY"
   },
   "source": [
    "### Utilizando el método query"
   ]
  },
  {
   "cell_type": "code",
   "execution_count": null,
   "metadata": {
    "colab": {
     "base_uri": "https://localhost:8080/",
     "height": 237
    },
    "executionInfo": {
     "elapsed": 1081,
     "status": "ok",
     "timestamp": 1703821094801,
     "user": {
      "displayName": "Julio Paz Sosa",
      "userId": "02292233226635378098"
     },
     "user_tz": 360
    },
    "id": "AB9JirSoD1BY",
    "outputId": "d2f12ca7-f85f-4295-bbd5-082c55a30da8"
   },
   "outputs": [],
   "source": [
    "dataset.query('Motor == \"Motor Diesel\" and Cero_km == True')"
   ]
  },
  {
   "cell_type": "markdown",
   "metadata": {
    "id": "ciJ4dw_FD1BZ"
   },
   "source": [
    "# 5.4 Iterando con DataFrames"
   ]
  },
  {
   "cell_type": "code",
   "execution_count": null,
   "metadata": {
    "colab": {
     "base_uri": "https://localhost:8080/",
     "height": 237
    },
    "executionInfo": {
     "elapsed": 597,
     "status": "ok",
     "timestamp": 1703821374018,
     "user": {
      "displayName": "Julio Paz Sosa",
      "userId": "02292233226635378098"
     },
     "user_tz": 360
    },
    "id": "TKAB-g5KD1BZ",
    "outputId": "166d2b76-225f-4e29-c5dc-c1fe9541a43f"
   },
   "outputs": [],
   "source": [
    "dataset.head()"
   ]
  },
  {
   "cell_type": "code",
   "execution_count": null,
   "metadata": {
    "colab": {
     "base_uri": "https://localhost:8080/"
    },
    "executionInfo": {
     "elapsed": 344,
     "status": "ok",
     "timestamp": 1703821408615,
     "user": {
      "displayName": "Julio Paz Sosa",
      "userId": "02292233226635378098"
     },
     "user_tz": 360
    },
    "id": "eFTNtPRWD1Ba",
    "outputId": "6beca35d-ee88-492e-95e0-382e458dedef"
   },
   "outputs": [],
   "source": [
    "for item in dataset:\n",
    "  print(item)"
   ]
  },
  {
   "cell_type": "code",
   "execution_count": null,
   "metadata": {
    "colab": {
     "base_uri": "https://localhost:8080/"
    },
    "executionInfo": {
     "elapsed": 361,
     "status": "ok",
     "timestamp": 1703821448955,
     "user": {
      "displayName": "Julio Paz Sosa",
      "userId": "02292233226635378098"
     },
     "user_tz": 360
    },
    "id": "rj42CLf1q8Ni",
    "outputId": "fc779c25-39cc-4352-8ee3-ce5360a93ba7"
   },
   "outputs": [],
   "source": [
    "list(dataset.iterrows())"
   ]
  },
  {
   "cell_type": "code",
   "execution_count": null,
   "metadata": {
    "colab": {
     "base_uri": "https://localhost:8080/",
     "height": 455
    },
    "executionInfo": {
     "elapsed": 329,
     "status": "ok",
     "timestamp": 1703821887312,
     "user": {
      "displayName": "Julio Paz Sosa",
      "userId": "02292233226635378098"
     },
     "user_tz": 360
    },
    "id": "tUKAh6YNreTf",
    "outputId": "2ac8dcb8-86af-4e61-ae3c-7e958d8f7155"
   },
   "outputs": [],
   "source": [
    "for index, row in dataset.iterrows():\n",
    "  if(2019 - row.Año != 0):\n",
    "    dataset.loc[index, 'km_media'] = row.Kilometraje / (2020 - row.Año)\n",
    "  else:\n",
    "    dataset.loc[index, 'km_media'] = 0\n",
    "\n",
    "dataset"
   ]
  },
  {
   "cell_type": "markdown",
   "metadata": {
    "id": "HnUzHFQPD1Ba"
   },
   "source": [
    "# 5.5 Tratamiento de datos"
   ]
  },
  {
   "cell_type": "code",
   "execution_count": null,
   "metadata": {
    "colab": {
     "base_uri": "https://localhost:8080/",
     "height": 237
    },
    "executionInfo": {
     "elapsed": 13,
     "status": "ok",
     "timestamp": 1703822005983,
     "user": {
      "displayName": "Julio Paz Sosa",
      "userId": "02292233226635378098"
     },
     "user_tz": 360
    },
    "id": "FRxBWoBGD1Ba",
    "outputId": "06715032-8423-4d8d-95d5-011a4bdb379d"
   },
   "outputs": [],
   "source": [
    "dataset.head()"
   ]
  },
  {
   "cell_type": "code",
   "execution_count": null,
   "metadata": {
    "colab": {
     "base_uri": "https://localhost:8080/"
    },
    "executionInfo": {
     "elapsed": 825,
     "status": "ok",
     "timestamp": 1703822054696,
     "user": {
      "displayName": "Julio Paz Sosa",
      "userId": "02292233226635378098"
     },
     "user_tz": 360
    },
    "id": "HHSwH0ZaD1Bc",
    "outputId": "e7bb79c8-98ee-4d39-f5c1-883b3c17b7b5"
   },
   "outputs": [],
   "source": [
    "dataset.info()"
   ]
  },
  {
   "cell_type": "code",
   "execution_count": null,
   "metadata": {
    "colab": {
     "base_uri": "https://localhost:8080/"
    },
    "executionInfo": {
     "elapsed": 611,
     "status": "ok",
     "timestamp": 1703822097514,
     "user": {
      "displayName": "Julio Paz Sosa",
      "userId": "02292233226635378098"
     },
     "user_tz": 360
    },
    "id": "G27pxgZ5D1Bd",
    "outputId": "ae1b4590-34e6-4425-af4f-93ef940f3c5e",
    "scrolled": true
   },
   "outputs": [],
   "source": [
    "dataset.Kilometraje.isna()"
   ]
  },
  {
   "cell_type": "code",
   "execution_count": null,
   "metadata": {
    "colab": {
     "base_uri": "https://localhost:8080/",
     "height": 455
    },
    "executionInfo": {
     "elapsed": 364,
     "status": "ok",
     "timestamp": 1703822130467,
     "user": {
      "displayName": "Julio Paz Sosa",
      "userId": "02292233226635378098"
     },
     "user_tz": 360
    },
    "id": "DhlRbxy2D1Bd",
    "outputId": "9369c627-69cc-4dc1-fda3-876311b70019",
    "scrolled": true
   },
   "outputs": [],
   "source": [
    "dataset[dataset.Kilometraje.isna()]"
   ]
  },
  {
   "cell_type": "code",
   "execution_count": null,
   "metadata": {
    "colab": {
     "base_uri": "https://localhost:8080/",
     "height": 455
    },
    "executionInfo": {
     "elapsed": 306,
     "status": "ok",
     "timestamp": 1703823568335,
     "user": {
      "displayName": "Julio Paz Sosa",
      "userId": "02292233226635378098"
     },
     "user_tz": 360
    },
    "id": "OL04QU5RD1Be",
    "outputId": "38be4a02-e57b-4d18-b2e8-47752d516840"
   },
   "outputs": [],
   "source": [
    "dataset.fillna(0, inplace = True)\n",
    "dataset"
   ]
  },
  {
   "cell_type": "code",
   "execution_count": null,
   "metadata": {
    "colab": {
     "base_uri": "https://localhost:8080/",
     "height": 455
    },
    "executionInfo": {
     "elapsed": 441,
     "status": "ok",
     "timestamp": 1703822253473,
     "user": {
      "displayName": "Julio Paz Sosa",
      "userId": "02292233226635378098"
     },
     "user_tz": 360
    },
    "id": "fTH2JkGDD1Bf",
    "outputId": "32ab84f5-77e7-4020-e0af-84026e822215",
    "scrolled": true
   },
   "outputs": [],
   "source": []
  },
  {
   "cell_type": "code",
   "execution_count": null,
   "metadata": {
    "colab": {
     "base_uri": "https://localhost:8080/",
     "height": 455
    },
    "executionInfo": {
     "elapsed": 326,
     "status": "ok",
     "timestamp": 1703823610183,
     "user": {
      "displayName": "Julio Paz Sosa",
      "userId": "02292233226635378098"
     },
     "user_tz": 360
    },
    "id": "lure2GvpD1Bg",
    "outputId": "466aec4b-b6b5-4142-d111-7fd1c9359cfa"
   },
   "outputs": [],
   "source": [
    "dataset.query('Cero_km == True')"
   ]
  },
  {
   "cell_type": "code",
   "execution_count": null,
   "metadata": {
    "colab": {
     "base_uri": "https://localhost:8080/",
     "height": 424
    },
    "executionInfo": {
     "elapsed": 284,
     "status": "ok",
     "timestamp": 1703823696264,
     "user": {
      "displayName": "Julio Paz Sosa",
      "userId": "02292233226635378098"
     },
     "user_tz": 360
    },
    "id": "4-ZvhXjvD1Bj",
    "outputId": "3bb95af5-c73c-4a4c-d950-acbadfc8b61d"
   },
   "outputs": [],
   "source": [
    "dataset = pd.read_csv('db.csv', sep = ';')\n",
    "dataset"
   ]
  },
  {
   "cell_type": "code",
   "execution_count": null,
   "metadata": {
    "colab": {
     "base_uri": "https://localhost:8080/",
     "height": 424
    },
    "executionInfo": {
     "elapsed": 540,
     "status": "ok",
     "timestamp": 1703823781297,
     "user": {
      "displayName": "Julio Paz Sosa",
      "userId": "02292233226635378098"
     },
     "user_tz": 360
    },
    "id": "MQUw7i1OD1Bk",
    "outputId": "abe5f2d6-8fcc-40de-bbbb-b5e38eda6a3a",
    "scrolled": true
   },
   "outputs": [],
   "source": [
    "dataset.dropna(subset = ['Kilometraje'], inplace = True)\n",
    "dataset"
   ]
  }
 ],
 "metadata": {
  "colab": {
   "provenance": []
  },
  "kernelspec": {
   "display_name": "Python 3 (ipykernel)",
   "language": "python",
   "name": "python3"
  },
  "language_info": {
   "codemirror_mode": {
    "name": "ipython",
    "version": 3
   },
   "file_extension": ".py",
   "mimetype": "text/x-python",
   "name": "python",
   "nbconvert_exporter": "python",
   "pygments_lexer": "ipython3",
   "version": "3.11.5"
  }
 },
 "nbformat": 4,
 "nbformat_minor": 4
}
